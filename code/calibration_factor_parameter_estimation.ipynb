{
 "cells": [
  {
   "cell_type": "markdown",
   "metadata": {},
   "source": [
    "# Bayesian Parameter Estimation of a Fluorescence-to-Protein Calibration Factor "
   ]
  },
  {
   "cell_type": "code",
   "execution_count": 1,
   "metadata": {
    "collapsed": true
   },
   "outputs": [],
   "source": [
    "import numpy as np\n",
    "import matplotlib.pyplot as plt\n",
    "import pymc3 as pm\n",
    "import pandas as pd\n",
    "import scipy.stats\n",
    "import theano.tensor as tt\n",
    "import mscl_utils as mscl\n",
    "import corner\n",
    "mscl.set_plotting_style()\n",
    "%matplotlib inline"
   ]
  },
  {
   "cell_type": "markdown",
   "metadata": {},
   "source": [
    "## Counting By Measuring Fluctuations "
   ]
  },
  {
   "cell_type": "markdown",
   "metadata": {},
   "source": [
    "Imagine that we have a cell that has a fixed number of fluorescent proteins (meaning that the production rate is 0). As this cell divides, these proteins will be partitioned to one of the two daughter cells in a binomial  fastion.  By exmining the difference in fluorescence between the two daughters, we can determine just how \"bright\" a single molecule should be. \n",
    "\n",
    "We can begin by positing that the fluorescence is conserved (production and degradation rates are 0). Mathematically, we can say that \n",
    "\n",
    "$$\n",
    "I_\\text{tot} = I_1 + I_2 \\tag{1}\n",
    "$$\n",
    "\n",
    "where $I_\\text{tot}$ is the total fluorescence of the mother cell and $I_1$ and $I_2$ are the intensities of the two daugher cells. As we know this fluorescence comes from a mix of the background fluorescence and the fluorescence of the proteins themselves, we can write that the total intensitiy of the mother cell should be proportional to the total number of proteins $N_\\text{tot}$,\n",
    "\n",
    "$$\n",
    "I_\\text{tot} = \\alpha N_\\text{tot}, \\tag{2}\n",
    "$$\n",
    "\n",
    "assuming (for now) that the background fluorescence and the error in our measurement is zero. Assuming that there is a single fluroescence calibration factor and that it has the same value from cell to cell, we can write Eq. 2 for the daughter cells as\n",
    "\n",
    "$$\n",
    "I_1 = \\alpha N_1\\,\\, ; \\,\\, I_2 = \\alpha N_2  \\tag{3, 4}\n",
    "$$\n",
    "\n",
    "which follows the assumption that the protein copy number is conserved as well,\n",
    "\n",
    "$$\n",
    "N_\\text{tot} = N_1 + N_2 \\tag{5}.\n",
    "$$\n",
    "\n",
    "When a cell divides, the distribution of the proteins into the two daughter cells is binomial with a partitioning probability $p$,\n",
    "\n",
    "$$\n",
    "P(n \\, \\vert \\, N_\\text{tot}) = {N_\\text{tot}! \\over n! (N_\\text{tot} - n)!} p^{n}(1 - p)^{N_\\text{tot} - n}, \\tag{6}\n",
    "$$\n",
    "\n",
    "Where we've generalized $N_1$ or $N_2$ as $n$. To examine how the proteins were partitioned amongst the daughter cells, we can look at how different the intensities are between them and relate it to the total intensity of the mother as \n",
    "\n",
    "$$\n",
    "\\langle(I_1 - I_2)^2\\rangle = \\langle (2I_1 - I_\\text{tot})^2 \\tag{7}\n",
    "$$\n",
    "\n",
    "which we can translate to protein copy numbers as \n",
    "\n",
    "$$\n",
    "\\langle(I_1 - I_2)^2\\rangle = \\langle\\left(2\\alpha N_1 - \\alpha N_\\text{tot}\\right)^2\\rangle. \\tag{8}\n",
    "$$\n",
    "\n",
    "As we are discussing averages in this context, we can examine this more generally as\n",
    "\n",
    "$$\n",
    "\\langle(I_1 - I_2)^2 \\rangle = \\alpha(2\\langle n \\rangle - N_\\text{tot})^2 \\tag{9}\n",
    "$$\n",
    "\n",
    "To finish our calculation, we will have to know the mean and variance of the protein copy number upon division. \n",
    "\n",
    "\n",
    "\n"
   ]
  },
  {
   "cell_type": "markdown",
   "metadata": {},
   "source": [
    "While these two moments of the Binomial distribution are well know, it's useful to derive them explicitly. The mean can be calculated as\n",
    "\n",
    "$$\n",
    "\\langle n \\rangle = \\sum\\limits_{n = 0}^{N_\\text{tot}}n{{N_\\text{tot}}\\choose{n}}p^{n}(1-p)^{N_\\text{tot} - n}. \\tag{10}\n",
    "$$\n",
    "\n",
    "This can be simplified by realizing that\n",
    "\n",
    "$$\n",
    "n {N_\\text{tot}! \\over n!(N_\\text{tot} - n)!} = {N_\\text{tot}! \\over (n-1)!(N_\\text{tot} - n)!} = {N_\\text{tot}(N_\\text{tot} - 1)! \\over (n - 1)!(N_\\text{tot} - n)!} \\tag{11}\n",
    "$$\n",
    "\n",
    "We can now rewrite Eq. 10 as\n",
    "\n",
    "$$\n",
    "\\langle n \\rangle = N_\\text{tot} p \\sum\\limits_{n= 1}^{N_\\text{tot}}{{N_\\text{tot} - 1}\\choose{n - 1}}p^{n - 1}(1 - p)^{N_\\text{tot} - n + 1} \\tag{12}\n",
    "$$\n",
    "\n",
    "By defining $\\nu = N_\\text{tot} - 1$ and $k = n - 1$, we yield. \n",
    "\n",
    "$$\n",
    "\\langle n \\rangle = N_\\text{tot} p \\overbrace{\\sum\\limits_{k= 0}^{\\nu}{{\\nu}\\choose{k}}p^k(1 - p)^{\\nu - k}}^\\text{1} = N_\\text{tot} p \\tag{13}\n",
    "$$\n",
    "\n",
    "which is what we would naïvely expect. With this in hand, we can naïvely solve for the variance. We can solve for $\\langle n^2 \\rangle$ as we did above by realizing \n",
    "\n",
    "$$\n",
    "\\langle n^2 \\rangle = N_\\text{tot}p\\sum\\limits_{n=1}^{N_\\text{tot}}n{{N_\\text{tot} - 1}\\choose{n -1}}p^{n-1}(1 - p)^{N_\\text{tot} - n} = N_\\text{tot}p\\sum\\limits_{k=0}^\\nu(k + 1){{\\nu}\\choose{k}}p^k(1-p)^{\\nu - k}  \\tag{14},\n",
    "$$\n",
    "\n",
    "where we pull the same trick of reparameterizing Eq. 13 for $\\nu = N_\\text{tot} - 1$ and $k = n - 1$. Simplifying Eq. 14 generates \n",
    "\n",
    "$$\n",
    "\\langle n^2 \\rangle = (N_\\text{tot}p)^2 + N_\\text{tot}p(1 - p) \\tag{15}\n",
    "$$\n",
    "\n",
    "allowing us to express the variance $\\sigma^2$ as \n",
    "\n",
    "$$\n",
    "\\sigma^2 = \\langle n^2 \\rangle - \\langle n \\rangle^2 = N_\\text{tot}p(1 - p). \\tag{16}\n",
    "$$\n",
    "\n",
    "\n",
    "\n",
    "We can make our calculation a bit less verbose aby assuming that partitioning of the proteins is always fair such that $p = 0.5$. This means our mean and variance can be more simply written as \n",
    "\n",
    "$$\n",
    "\\langle n \\rangle = {N_\\text{tot} \\over 2}\\, ; \\, \\langle n^2 \\rangle= {N_\\text{tot}+ N_\\text{tot}^2 \\over 4}. \\tag{17, 18}\n",
    "$$\n",
    "\n",
    "We can now return to Eq. 9 and include the mean copy number,\n",
    "\n",
    "$$\n",
    "\\begin{align}\n",
    "\\langle (I_1 - I_2)^2 \\rangle &= 4\\alpha^2(\\langle n^2 \\rangle - \\langle n \\rangle N_\\text{tot}) + (\\alpha N_\\text{tot})^2\\\\\n",
    "& = 4\\alpha^2\\left({N_\\text{tot} + N_\\text{tot}^2 \\over 4} - {2N_\\text{tot}^2 \\over 4}\\right) + \\alpha^2N_\\text{tot}^2 \\tag{19}.\n",
    "\\end{align}\n",
    "$$\n",
    "\n",
    "Some simplification brings us to our result, \n",
    "\n",
    "$$\n",
    "\\langle (I_1 - I_2)^2 \\rangle = \\alpha^2 N_\\text{tot} = \\alpha I_\\text{tot}. \\tag{20}\n",
    "$$\n",
    " \n",
    "This result tells us that the squared difference in the intensity between any two daughter cells should be linearly related to the intensity of the mother cell with a slope of the calibration factor $\\alpha$. While this is a very beautiful result, our measurement is a bit more difficult."
   ]
  },
  {
   "cell_type": "markdown",
   "metadata": {},
   "source": [
    "## Incorporating Measurement Error"
   ]
  },
  {
   "cell_type": "markdown",
   "metadata": {},
   "source": [
    "While we were rewarded for our mathematical efforts with Eq. 20, the practical use of this theoretical prediction is a bit more complicated. Primarily, we must be able to incoporate our error in the measurement of the single cell intensities. This means that our Eq. 20 becomes. \n",
    "\n",
    "$$\n",
    "I_\\text{tot} = \\alpha_0 + \\alpha N_\\text{tot} + \\epsilon \\tag{21}\n",
    "$$\n",
    "\n",
    "where $\\alpha_0$ is the background fluorescence of our sample and $\\epsilon$ is our measurement error. In [Rosenfeld et al. 2005]() and [Brewster et al. 2014](), the calibration factor was determined by binning the observed data and then fitting the prediction to the mean, assuming the measurement error was 0. While this is an acceptable approach, choosing the appropriate bin width is difficult and can bias the results. A more robust approach would be to write a heirarchical model which models each cell division event individually and estimate a hyperparameter for the calibration factor. \n",
    "\n"
   ]
  },
  {
   "cell_type": "markdown",
   "metadata": {},
   "source": [
    "### Taking a Bayesian approach"
   ]
  },
  {
   "cell_type": "markdown",
   "metadata": {},
   "source": [
    "We are interested in estimating two calibration parameters - $\\alpha_0$ and $\\alpha$ - and (as a consequence), the most likely protein copy numbers $N_1$ and $N_\\text{tot}$. As is usually the case, we can begin by writing down Bayes' theorem for the problem, \n",
    "\n",
    "$$\n",
    "P(\\alpha_0, \\alpha, \\sigma, N_1, N_\\text{tot}\\,\\vert\\, I_1, I_2) = {P(I_1, I_2\\, \\vert \\, \\alpha_0, \\alpha, \\sigma, N_1, N_\\text{tot})P(\\alpha_0, \\alpha, \\sigma, N_1, N_\\text{tot}) \\over P(I_1, I_2) }. \\tag{22}\n",
    "$$\n",
    "\n",
    "in which we've introduced the measurement error as $\\sigma$ as it's related to the normal distribution of the measurements. Our likelihood can be broken up into three parts $--$ one for $I_1$, for $I_2$, and one for $[N_1, N_\\text{tot}]$. As we've discussed already, the partitioning of the proteins into the daughter cells is binomial, allowing us to write\n",
    "\n",
    "$$\n",
    "P(N_1\\, \\vert\\, N_\\text{tot}, p) = {{N_\\text{tot}}\\choose{N_1}}p^{N_1}(1 - p)^{N_\\text{tot} - N_1}. \\tag{23}\n",
    "$$\n",
    "\n",
    "By assuming that partitioning is *always* fair (which may be a big assumption), we can simplify Eq. 23 to be\n",
    "\n",
    "$$\n",
    "P(N_1\\, \\vert \\, N_\\text{tot}, p) = {{N_\\text{tot}}\\choose{N_1}}2^{-N_\\text{tot}}. \\tag{24}\n",
    "$$\n",
    "\n",
    "It is likely that the measured intensity of a given cell is normally distributed. We can then say that for $I_1$, the  likelihood is gaussian with a variance $\\sigma$,\n",
    "\n",
    "$$\n",
    "P(I_1 \\,\\vert\\, \\alpha_0, \\alpha, N_1) = {1 \\over \\sqrt{2\\pi \\sigma^2}}\\exp\\left[{-(I_1 - (\\alpha_0 + \\alpha N_1)^2 \\over 2\\sigma^2}\\right]. \\tag{25}\n",
    "$$\n",
    "\n",
    "Similarly, we can write the likelihood for $I_2$ as \n",
    "\n",
    "$$\n",
    "P(I_2 \\,\\vert\\, \\alpha_0, \\alpha, N_1, N_\\text{tot}) = {1 \\over \\sqrt{2 \\pi \\sigma^2}}\\exp\\left[{-(I_2 - (\\alpha_0 + \\alpha (N_\\text{tot} - N_1))^2 \\over 2 \\sigma^2}\\right] \\tag{26}\n",
    "$$\n",
    "\n",
    "where we've again used the fact that protein copy number is conserved $N_\\text{tot} = N_1 + N_2$. \n",
    "\n",
    "The priors can be a little more tricky to figure out. To begin simply, we can assume a uniform uninformative prior for the protein copy numbers $N_1$ and $N_\\text{tot}$ using our knowledge that they must be discrete,\n",
    "\n",
    "$$\n",
    "P(N_1, N_\\text{tot}) = \\begin{cases} {1 \\over n_\\text{max} - n_\\text{min}} && n \\in \\mathbb{Z}\\, ;\\, n_\\text{min} \\leq n \\leq n_\\text{max} \\,;\\, N_1 \\leq N_\\text{tot}\\\\\n",
    "0 && \\text{otherwise}\n",
    "\\end{cases}. \\tag{27}\n",
    "$$\n",
    "\n",
    "Similarly, we can choose uniform priors for our two calibration parameters $\\alpha_0$ and $\\alpha$ as \n",
    "\n",
    "$$\n",
    "P(\\alpha_0, \\alpha) = \\begin{cases} {1 \\over \\alpha_\\text{max} - \\alpha_\\text{min}} && \\alpha_\\text{min} \\leq \\alpha \\leq \\alpha_\\text{max}\\\\\n",
    "0 && \\text{otherwise} \n",
    "\\end{cases}. \\tag{28}\n",
    "$$\n",
    "\n",
    "As is typically the case, we can assign an improper (i.e. unnormalized) Jeffrey's prior for $\\sigma$,\n",
    "\n",
    "$$\n",
    "P(\\sigma) = {1 \\over \\sigma}. \\tag{29}\n",
    "$$\n",
    "\n",
    "With likelihoods and priors, we are ready to write down the complete posterior. For ease, we can ignore the evidence $P(I_1, I_2)$. As we are looking over $k$ cell divisions, we have a set of $[N_1, N_\\text{tot}]$ and $[I_1, I_2]$,  \n",
    "\n",
    "$$\n",
    "P(\\alpha_0, \\alpha, \\sigma, [N_1, N_\\text{tot}]\\,\\vert\\,I_1, I_2) \\propto P(\\alpha, \\alpha_0, [N_1, N_\\text{tot}]){1 \\over \\sigma}\\prod\\limits_{i}^{k}{{N_{\\text{tot},i}}\\choose{N_{1,i}}}2^{-N_{\\text{tot},i}}\\times\n",
    "\\left({1 \\over 2\\pi \\sigma^2}\\right)^k\\exp\\left[{1 \\over 2\\sigma^2}\\sum\\limits_{i}^{k}\\left((I_{1,i} - (\\alpha_0 + \\alpha N_{1,i}))^2 + (I_{2, i} - (\\alpha_0 + \\alpha(N_{\\text{tot},i} - N_{1,i})))^2\\right)\\right], \\tag{30}\n",
    "$$\n",
    "\n",
    "in which the priors for $\\alpha_0, \\alpha,$ and $[N_1, N_\\text{tot}]$ were left out for notational clarity. \n",
    "\n",
    "While we could continue on to sample this distribution using MCMC, we have to be very careful of the priors. For example, with a $2k + 3$ parameter sampling, any degeree of information included in our prior will be greatly amplified and can steer the sampling off into other low-probabability local minima. We can reduce this issue by marginalizing Eq. 30 over $\\sigma$,\n",
    "\n",
    "$$\n",
    "P(\\alpha_0, \\alpha, [N_1, N_\\text{tot}] \\, \\vert\\, [I_1, I_2]) = \\int\\limits_0^\\infty d\\sigma P(\\alpha_0, \\alpha, \\sigma, [N_1, N_\\text{tot}]\\,\\vert\\,[I_1, I_2]). \\tag{31}\n",
    "$$\n",
    "\n",
    "While this is a gnarly integral, the result is well studied and is the Student-t distribution, \n",
    "\n",
    "$$\n",
    "\\begin{align}\n",
    "P(\\alpha_0, \\alpha, [N_1, N_\\text{tot}] \\, \\vert \\, [I_1, I_2]) \\propto &\\prod\\limits_i^k {{N_{\\text{tot},i}}\\choose{N_{1,i}}}2^{-N_{\\text{tot},i}}\\times\\\\\n",
    "&\\left(\\sum\\limits_i^k \\left((I_{1,i} - \\alpha_0 - \\alpha N_{1,i}))^2 + (I_{2,i} - \\alpha_0 - \\alpha(N_{\\text{tot},i} - N_{1,i}))^2\\right)\\right)^{-k / 2}. \\tag{32}\n",
    "\\end{align}\n",
    "$$\n",
    "\n",
    "Rather than jumping immediately into analyzing *real* data, we can test it on something we know."
   ]
  },
  {
   "cell_type": "markdown",
   "metadata": {},
   "source": [
    "### Analyzing simulated data"
   ]
  },
  {
   "cell_type": "markdown",
   "metadata": {},
   "source": [
    "To ensure that this type of inference is appropriate, we will generate a fake data set in which the calibration factor and the background fluorescence is known *a priori*. We can choose values that are physically realistic, as is done in the code cell below."
   ]
  },
  {
   "cell_type": "code",
   "execution_count": 24,
   "metadata": {
    "collapsed": true
   },
   "outputs": [],
   "source": [
    "# Set the parameters to generate the data set.\n",
    "n_cells = 200\n",
    "max_proteins = 800 \n",
    "# sigma = 20 \n",
    "# alpha_seed = np.random.normal(200, sigma)\n",
    "alpha_seed = 50\n",
    "# alpha_0 = 0\n",
    "\n",
    "# Set the parent protein copy numbers and partition into children.\n",
    "n_tot = (np.random.rand(n_cells) * max_proteins).astype(int) \n",
    "n_1 = np.random.binomial(n_tot, p=0.5)\n",
    "n_2 = n_tot - n_1\n",
    "\n",
    "# Compute the intensities.\n",
    "I_1 = alpha_seed * n_1\n",
    "I_2 = alpha_seed * n_2\n",
    "I_tot = alpha_seed * n_tot\n",
    "\n",
    "# Make it a DataFrame and compute the quantity of interest.\n",
    "df = pd.DataFrame(np.array([n_tot, n_1, n_2, I_1, I_2, I_tot]).T, columns=['n_tot', 'n_1', 'n_2',\n",
    "                                                         'I_1', 'I_2', 'I_tot'])\n",
    "df.loc[:, 'sq_diff'] = (df['I_1'] - df['I_2'])**2\n",
    "\n",
    "# Generate the prediction from the theory.\n",
    "I_tot_range = np.logspace(2, 5, 300)\n",
    "prediction = alpha_seed * I_tot_range"
   ]
  },
  {
   "cell_type": "markdown",
   "metadata": {},
   "source": [
    "To prove that this synthetic data is in line with our derivation above, we can plot the raw points along with Eq. 20. "
   ]
  },
  {
   "cell_type": "code",
   "execution_count": 25,
   "metadata": {},
   "outputs": [
    {
     "data": {
      "image/png": "[encoded data removed]",
      "text/plain": [
       "<matplotlib.figure.Figure at 0x1c2d3ee160>"
      ]
     },
     "metadata": {},
     "output_type": "display_data"
    }
   ],
   "source": [
    "# Instantiate the figure and add axis labels. \n",
    "fig, ax = plt.subplots(1,1)\n",
    "_ = ax.set_xlabel('$I_1 + I_2$ (a.u)')\n",
    "_ = ax.set_ylabel(r'$\\langle (I_1 - I_2)^2 \\rangle$ (a.u.)')\n",
    "\n",
    "# Set the scaling.\n",
    "ax.set_yscale('log')\n",
    "ax.set_xscale('log')\n",
    "\n",
    "# Plot the data and the theoretical prediction.\n",
    "_ = ax.plot(df['I_tot'], df['sq_diff'], 'o', color='slategray', alpha=0.5,\n",
    "           label='simulated data')\n",
    "_ = ax.plot(I_tot_range, prediction, '-', color='tomato', label='prediction') \n",
    "\n",
    "# Add a legend.\n",
    "_ = ax.legend(loc='upper left')"
   ]
  },
  {
   "cell_type": "markdown",
   "metadata": {},
   "source": [
    "As expected, our theoretical result matches the simulated data. To sample Eq. 32, we will use the package [PyMC3]() which has a wide variety of samplers and simple tools for constructing complicated models."
   ]
  },
  {
   "cell_type": "code",
   "execution_count": 26,
   "metadata": {
    "scrolled": false
   },
   "outputs": [],
   "source": [
    "# Define the model.\n",
    "with pm.Model() as model:\n",
    "    \n",
    "    # Define the priors. \n",
    "    alpha = pm.Uniform('alpha', lower=10, upper=100)\n",
    "    \n",
    "    # Take the Normal approximation of binomial.\n",
    "    n_tot = pm.Uniform('N_tot', lower=0, upper=1000, shape=n_cells)\n",
    "    p = 0.5\n",
    "    mu_bino = n_tot * p\n",
    "    sigma_bino = n_tot * p**2 \n",
    "    n1 = pm.Normal('n1', mu=mu_bino, sd=sigma_bino, shape=n_cells)\n",
    "     \n",
    "    # Compute the means and covariance matrix for the Student-t for the Intensity likelihood.\n",
    "    mu_1 = alpha * n_1\n",
    "    mu_2 = alpha * (n_tot - n_1)\n",
    "    \n",
    "    # Define the observables.\n",
    "    obs = df.loc[:, ['I_1', 'I_2']].values\n",
    "   \n",
    "    # Build the custom likelihood in the correct manner.\n",
    "    class BivariateStudentT(pm.Continuous):\n",
    "        \"\"\"\n",
    "        A Bivariate Student-t distribution ignoring normalization parameters of \n",
    "        the form\n",
    "        \n",
    "        g(µ1, µ2, k | θ1, θ2) = (Σ((θ1 - μ1)^2 + (θ2 - μ2)^2))^(-k/2)\n",
    "        \n",
    "        \n",
    "        Parameters\n",
    "        ----------\n",
    "        mu1, mu2 : PyMC3 RV objects\n",
    "            The two means of the components of the distribution.\n",
    "        k : int \n",
    "            Length of set. \n",
    "        \"\"\"\n",
    "        \n",
    "        def __init__(self, mu1=None, mu2=None, k=None, *args, **kwargs):  \n",
    "            super(BivariateStudentT, self).__init__(*args, **kwargs)\n",
    "            self.k = k = pm.theanof.floatX(tt.as_tensor_variable(k))\n",
    "            self.mu1 = mu1 = pm.theanof.floatX(tt.as_tensor_variable(mu1))\n",
    "            self.mu2 = mu2 = pm.theanof.floatX(tt.as_tensor_variable(mu2))\n",
    "                \n",
    "        def logp(self, values): \n",
    "            k = self.k\n",
    "            mu1 = self.mu1\n",
    "            mu2 = self.mu2\n",
    "            return -k / 2 * tt.log(((values[:, 0] - mu1)**2 + (values[:, 1] - mu2)**2).sum())\n",
    "       \n",
    "    # Assign the likelihood function\n",
    "    likelihood = BivariateStudentT('like', mu1=mu_1, mu2=mu_2, k=n_cells, observed=obs)"
   ]
  },
  {
   "cell_type": "code",
   "execution_count": null,
   "metadata": {},
   "outputs": [
    {
     "name": "stderr",
     "output_type": "stream",
     "text": [
      "Auto-assigning NUTS sampler...\n",
      "Initializing NUTS using jitter+adapt_diag...\n",
      " 71%|███████▏  | 42884/60000 [56:28<1:05:23,  4.36it/s]/Users/gchure/anaconda/lib/python3.6/site-packages/pymc3/step_methods/hmc/nuts.py:451: UserWarning: The acceptance probability in chain 1 does not match the target. It is 0.419842887928, but should be close to 0.8. Try to increase the number of tuning steps.\n",
      "  % (self._chain_id, mean_accept, target_accept))\n",
      "/Users/gchure/anaconda/lib/python3.6/site-packages/pymc3/step_methods/hmc/nuts.py:467: UserWarning: Chain 1 contains 31228 diverging samples after tuning. If increasing `target_accept` does not help try to reparameterize.\n",
      "  % (self._chain_id, n_diverging))\n",
      " 82%|████████▏ | 48948/60000 [1:12:28<40:00,  4.60it/s]  "
     ]
    }
   ],
   "source": [
    "with model:\n",
    "    trace = pm.sample(draws=50000, tune=10000, njobs=6)"
   ]
  },
  {
   "cell_type": "code",
   "execution_count": null,
   "metadata": {},
   "outputs": [],
   "source": [
    "trace_df = pm.trace_to_dataframe(trace)\n",
    "sub_df = trace_df.loc[:, ['alpha', 'N_tot__1']]"
   ]
  },
  {
   "cell_type": "code",
   "execution_count": null,
   "metadata": {},
   "outputs": [],
   "source": [
    "_ = corner.corner(sub_df)"
   ]
  },
  {
   "cell_type": "code",
   "execution_count": 17,
   "metadata": {},
   "outputs": [
    {
     "data": {
      "text/plain": [
       "50"
      ]
     },
     "execution_count": 17,
     "metadata": {},
     "output_type": "execute_result"
    }
   ],
   "source": [
    "alpha_seed"
   ]
  },
  {
   "cell_type": "code",
   "execution_count": null,
   "metadata": {
    "collapsed": true
   },
   "outputs": [],
   "source": []
  }
 ],
 "metadata": {
  "kernelspec": {
   "display_name": "Python 3",
   "language": "python",
   "name": "python3"
  },
  "language_info": {
   "codemirror_mode": {
    "name": "ipython",
    "version": 3
   },
   "file_extension": ".py",
   "mimetype": "text/x-python",
   "name": "python",
   "nbconvert_exporter": "python",
   "pygments_lexer": "ipython3",
   "version": "3.6.2"
  }
 },
 "nbformat": 4,
 "nbformat_minor": 2
}
