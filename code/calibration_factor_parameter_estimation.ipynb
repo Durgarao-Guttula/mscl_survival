{
 "cells": [
  {
   "cell_type": "markdown",
   "metadata": {},
   "source": [
    "# Bayesian Parameter Estimation of a Fluorescence-to-Protein Calibration Factor "
   ]
  },
  {
   "cell_type": "code",
   "execution_count": 2,
   "metadata": {},
   "outputs": [
    {
     "data": {
      "text/html": [
       "\n",
       "    <div class=\"bk-root\">\n",
       "        <a href=\"http://bokeh.pydata.org\" target=\"_blank\" class=\"bk-logo bk-logo-small bk-logo-notebook\"></a>\n",
       "        <span id=\"e2275224-41da-46cd-80d4-c4c26c75c369\">Loading BokehJS ...</span>\n",
       "    </div>"
      ]
     },
     "metadata": {},
     "output_type": "display_data"
    },
    {
     "data": {
      "application/javascript": [
       "\n",
       "(function(global) {\n",
       "  function now() {\n",
       "    return new Date();\n",
       "  }\n",
       "\n",
       "  var force = true;\n",
       "\n",
       "  if (typeof (window._bokeh_onload_callbacks) === \"undefined\" || force === true) {\n",
       "    window._bokeh_onload_callbacks = [];\n",
       "    window._bokeh_is_loading = undefined;\n",
       "  }\n",
       "\n",
       "\n",
       "  \n",
       "  if (typeof (window._bokeh_timeout) === \"undefined\" || force === true) {\n",
       "    window._bokeh_timeout = Date.now() + 5000;\n",
       "    window._bokeh_failed_load = false;\n",
       "  }\n",
       "\n",
       "  var NB_LOAD_WARNING = {'data': {'text/html':\n",
       "     \"<div style='background-color: #fdd'>\\n\"+\n",
       "     \"<p>\\n\"+\n",
       "     \"BokehJS does not appear to have successfully loaded. If loading BokehJS from CDN, this \\n\"+\n",
       "     \"may be due to a slow or bad network connection. Possible fixes:\\n\"+\n",
       "     \"</p>\\n\"+\n",
       "     \"<ul>\\n\"+\n",
       "     \"<li>re-rerun `output_notebook()` to attempt to load from CDN again, or</li>\\n\"+\n",
       "     \"<li>use INLINE resources instead, as so:</li>\\n\"+\n",
       "     \"</ul>\\n\"+\n",
       "     \"<code>\\n\"+\n",
       "     \"from bokeh.resources import INLINE\\n\"+\n",
       "     \"output_notebook(resources=INLINE)\\n\"+\n",
       "     \"</code>\\n\"+\n",
       "     \"</div>\"}};\n",
       "\n",
       "  function display_loaded() {\n",
       "    if (window.Bokeh !== undefined) {\n",
       "      document.getElementById(\"e2275224-41da-46cd-80d4-c4c26c75c369\").textContent = \"BokehJS successfully loaded.\";\n",
       "    } else if (Date.now() < window._bokeh_timeout) {\n",
       "      setTimeout(display_loaded, 100)\n",
       "    }\n",
       "  }\n",
       "\n",
       "  function run_callbacks() {\n",
       "    window._bokeh_onload_callbacks.forEach(function(callback) { callback() });\n",
       "    delete window._bokeh_onload_callbacks\n",
       "    console.info(\"Bokeh: all callbacks have finished\");\n",
       "  }\n",
       "\n",
       "  function load_libs(js_urls, callback) {\n",
       "    window._bokeh_onload_callbacks.push(callback);\n",
       "    if (window._bokeh_is_loading > 0) {\n",
       "      console.log(\"Bokeh: BokehJS is being loaded, scheduling callback at\", now());\n",
       "      return null;\n",
       "    }\n",
       "    if (js_urls == null || js_urls.length === 0) {\n",
       "      run_callbacks();\n",
       "      return null;\n",
       "    }\n",
       "    console.log(\"Bokeh: BokehJS not loaded, scheduling load and callback at\", now());\n",
       "    window._bokeh_is_loading = js_urls.length;\n",
       "    for (var i = 0; i < js_urls.length; i++) {\n",
       "      var url = js_urls[i];\n",
       "      var s = document.createElement('script');\n",
       "      s.src = url;\n",
       "      s.async = false;\n",
       "      s.onreadystatechange = s.onload = function() {\n",
       "        window._bokeh_is_loading--;\n",
       "        if (window._bokeh_is_loading === 0) {\n",
       "          console.log(\"Bokeh: all BokehJS libraries loaded\");\n",
       "          run_callbacks()\n",
       "        }\n",
       "      };\n",
       "      s.onerror = function() {\n",
       "        console.warn(\"failed to load library \" + url);\n",
       "      };\n",
       "      console.log(\"Bokeh: injecting script tag for BokehJS library: \", url);\n",
       "      document.getElementsByTagName(\"head\")[0].appendChild(s);\n",
       "    }\n",
       "  };var element = document.getElementById(\"e2275224-41da-46cd-80d4-c4c26c75c369\");\n",
       "  if (element == null) {\n",
       "    console.log(\"Bokeh: ERROR: autoload.js configured with elementid 'e2275224-41da-46cd-80d4-c4c26c75c369' but no matching script tag was found. \")\n",
       "    return false;\n",
       "  }\n",
       "\n",
       "  var js_urls = [\"https://cdn.pydata.org/bokeh/release/bokeh-0.12.4.min.js\", \"https://cdn.pydata.org/bokeh/release/bokeh-widgets-0.12.4.min.js\"];\n",
       "\n",
       "  var inline_js = [\n",
       "    function(Bokeh) {\n",
       "      Bokeh.set_log_level(\"info\");\n",
       "    },\n",
       "    \n",
       "    function(Bokeh) {\n",
       "      \n",
       "      document.getElementById(\"e2275224-41da-46cd-80d4-c4c26c75c369\").textContent = \"BokehJS is loading...\";\n",
       "    },\n",
       "    function(Bokeh) {\n",
       "      console.log(\"Bokeh: injecting CSS: https://cdn.pydata.org/bokeh/release/bokeh-0.12.4.min.css\");\n",
       "      Bokeh.embed.inject_css(\"https://cdn.pydata.org/bokeh/release/bokeh-0.12.4.min.css\");\n",
       "      console.log(\"Bokeh: injecting CSS: https://cdn.pydata.org/bokeh/release/bokeh-widgets-0.12.4.min.css\");\n",
       "      Bokeh.embed.inject_css(\"https://cdn.pydata.org/bokeh/release/bokeh-widgets-0.12.4.min.css\");\n",
       "    }\n",
       "  ];\n",
       "\n",
       "  function run_inline_js() {\n",
       "    \n",
       "    if ((window.Bokeh !== undefined) || (force === true)) {\n",
       "      for (var i = 0; i < inline_js.length; i++) {\n",
       "        inline_js[i](window.Bokeh);\n",
       "      }if (force === true) {\n",
       "        display_loaded();\n",
       "      }} else if (Date.now() < window._bokeh_timeout) {\n",
       "      setTimeout(run_inline_js, 100);\n",
       "    } else if (!window._bokeh_failed_load) {\n",
       "      console.log(\"Bokeh: BokehJS failed to load within specified timeout.\");\n",
       "      window._bokeh_failed_load = true;\n",
       "    } else if (force !== true) {\n",
       "      var cell = $(document.getElementById(\"e2275224-41da-46cd-80d4-c4c26c75c369\")).parents('.cell').data().cell;\n",
       "      cell.output_area.append_execute_result(NB_LOAD_WARNING)\n",
       "    }\n",
       "\n",
       "  }\n",
       "\n",
       "  if (window._bokeh_is_loading === 0) {\n",
       "    console.log(\"Bokeh: BokehJS loaded, going straight to plotting\");\n",
       "    run_inline_js();\n",
       "  } else {\n",
       "    load_libs(js_urls, function() {\n",
       "      console.log(\"Bokeh: BokehJS plotting callback run at\", now());\n",
       "      run_inline_js();\n",
       "    });\n",
       "  }\n",
       "}(this));"
      ]
     },
     "metadata": {},
     "output_type": "display_data"
    }
   ],
   "source": [
    "import numpy as np\n",
    "import matplotlib.pyplot as plt\n",
    "import pymc3 as pm\n",
    "import emcee\n",
    "import pandas as pd\n",
    "import theano.tensor as tt\n",
    "import mscl.plotting\n",
    "import mscl.mcmc\n",
    "import multiprocessing \n",
    "import bokeh.io\n",
    "import corner\n",
    "import scipy.special\n",
    "import scipy.optimize\n",
    "import scipy.stats\n",
    "import bokeh.plotting\n",
    "bokeh.io.output_notebook()\n",
    "%matplotlib inline\n",
    "num_cpus = multiprocessing.cpu_count()"
   ]
  },
  {
   "cell_type": "code",
   "execution_count": 73,
   "metadata": {},
   "outputs": [
    {
     "data": {
      "text/plain": [
       "<module 'mscl.mcmc' from '/Users/gchure/lab/PhillipsLab201401-XXX/lab_code/mscl_analysis/mscl/mcmc.py'>"
      ]
     },
     "execution_count": 73,
     "metadata": {},
     "output_type": "execute_result"
    }
   ],
   "source": [
    "import imp\n",
    "imp.reload(mscl.mcmc)"
   ]
  },
  {
   "cell_type": "markdown",
   "metadata": {},
   "source": [
    "## Counting By Measuring Fluctuations "
   ]
  },
  {
   "cell_type": "markdown",
   "metadata": {},
   "source": [
    "Imagine that we have a cell that has a fixed number of fluorescent proteins.  As this cell divides, these proteins will be Binomially partitioned into the two daughter cells. By examining the difference in fluorescence between the two daughters, we can determine just how \"bright\" a single molecule should be. \n",
    "\n",
    "We can begin by positing that the fluorescence is conserved (production and degradation rates are 0). Mathematically, we can say that \n",
    "\n",
    "$$\n",
    "I_\\text{tot} = I_1 + I_2 \\tag{1}\n",
    "$$\n",
    "\n",
    "where $I_\\text{tot}$ is the total fluorescence of the mother cell and $I_1$ and $I_2$ are the intensities of the two daugher cells. As we know this fluorescence comes from a mix of the background fluorescence and the fluorescence of the proteins themselves, we can write that the total intensitiy of the mother cell should be proportional to the total number of proteins $N_\\text{tot}$,\n",
    "\n",
    "$$\n",
    "I_\\text{tot} = \\alpha N_\\text{tot}, \\tag{2}\n",
    "$$\n",
    "\n",
    "assuming (for now) that the background fluorescence and the error in our measurement is zero. Assuming that there is a single fluroescence calibration factor and that it has the same value from cell to cell, we can write Eq. 2 for the daughter cells as\n",
    "\n",
    "$$\n",
    "I_1 = \\alpha N_1\\,\\, ; \\,\\, I_2 = \\alpha N_2  \\tag{3, 4}\n",
    "$$\n",
    "\n",
    "which follows the assumption that the protein copy number is conserved as well,\n",
    "\n",
    "$$\n",
    "N_\\text{tot} = N_1 + N_2 \\tag{5}.\n",
    "$$\n",
    "\n",
    "When a cell divides, the distribution of the proteins into the two daughter cells is binomial with a partitioning probability $p$,\n",
    "\n",
    "$$\n",
    "P(n \\, \\vert \\, N_\\text{tot}) = {N_\\text{tot}! \\over n! (N_\\text{tot} - n)!} p^{n}(1 - p)^{N_\\text{tot} - n}, \\tag{6}\n",
    "$$\n",
    "\n",
    "Where we've generalized $N_1$ or $N_2$ as $n$. To examine how the proteins were partitioned amongst the daughter cells, we can look at how different the intensities are between them and relate it to the total intensity of the mother as \n",
    "\n",
    "$$\n",
    "\\langle(I_1 - I_2)^2\\rangle = \\langle (2I_1 - I_\\text{tot})^2 \\tag{7}\n",
    "$$\n",
    "\n",
    "which we can translate to protein copy numbers as \n",
    "\n",
    "$$\n",
    "\\langle(I_1 - I_2)^2\\rangle = \\langle\\left(2\\alpha N_1 - \\alpha N_\\text{tot}\\right)^2\\rangle. \\tag{8}\n",
    "$$\n",
    "\n",
    "As we are discussing averages in this context, we can examine this more generally as\n",
    "\n",
    "$$\n",
    "\\langle(I_1 - I_2)^2 \\rangle = \\alpha(2\\langle n \\rangle - N_\\text{tot})^2 \\tag{9}\n",
    "$$\n",
    "\n",
    "To finish our calculation, we will have to know the mean and variance of the protein copy number upon division. \n",
    "\n",
    "\n",
    "\n"
   ]
  },
  {
   "cell_type": "markdown",
   "metadata": {},
   "source": [
    "While these two moments of the Binomial distribution are well know, it's useful to derive them explicitly. The mean can be calculated as\n",
    "\n",
    "$$\n",
    "\\langle n \\rangle = \\sum\\limits_{n = 0}^{N_\\text{tot}}n{{N_\\text{tot}}\\choose{n}}p^{n}(1-p)^{N_\\text{tot} - n}. \\tag{10}\n",
    "$$\n",
    "\n",
    "This can be simplified by realizing that\n",
    "\n",
    "$$\n",
    "n {N_\\text{tot}! \\over n!(N_\\text{tot} - n)!} = {N_\\text{tot}! \\over (n-1)!(N_\\text{tot} - n)!} = {N_\\text{tot}(N_\\text{tot} - 1)! \\over (n - 1)!(N_\\text{tot} - n)!} \\tag{11}\n",
    "$$\n",
    "\n",
    "We can now rewrite Eq. 10 as\n",
    "\n",
    "$$\n",
    "\\langle n \\rangle = N_\\text{tot} p \\sum\\limits_{n= 1}^{N_\\text{tot}}{{N_\\text{tot} - 1}\\choose{n - 1}}p^{n - 1}(1 - p)^{N_\\text{tot} - n} \\tag{12}\n",
    "$$\n",
    "\n",
    "By defining $\\nu = N_\\text{tot} - 1$ and $k = n - 1$, we yield. \n",
    "\n",
    "$$\n",
    "\\langle n \\rangle = N_\\text{tot} p \\overbrace{\\sum\\limits_{k= 0}^{\\nu}{{\\nu}\\choose{k}}p^k(1 - p)^{\\nu - k}}^\\text{1} = N_\\text{tot} p \\tag{13}\n",
    "$$\n",
    "\n",
    "which is what we would naïvely expect. With this in hand, we can naïvely solve for the variance. We can solve for $\\langle n^2 \\rangle$ as we did above by realizing \n",
    "\n",
    "$$\n",
    "\\langle n^2 \\rangle = N_\\text{tot}p\\sum\\limits_{n=1}^{N_\\text{tot}}n{{N_\\text{tot} - 1}\\choose{n -1}}p^{n-1}(1 - p)^{N_\\text{tot} - n} = N_\\text{tot}p\\sum\\limits_{k=0}^\\nu(k + 1){{\\nu}\\choose{k}}p^k(1-p)^{\\nu - k}  \\tag{14},\n",
    "$$\n",
    "\n",
    "where we pull the same trick of reparameterizing Eq. 13 for $\\nu = N_\\text{tot} - 1$ and $k = n - 1$. Simplifying Eq. 14 generates \n",
    "\n",
    "$$\n",
    "\\langle n^2 \\rangle = (N_\\text{tot}p)^2 + N_\\text{tot}p(1 - p) \\tag{15}\n",
    "$$\n",
    "\n",
    "allowing us to express the variance $\\sigma^2$ as \n",
    "\n",
    "$$\n",
    "\\sigma^2 = \\langle n^2 \\rangle - \\langle n \\rangle^2 = N_\\text{tot}p(1 - p). \\tag{16}\n",
    "$$\n",
    "\n",
    "\n",
    "\n",
    "We can make our calculation a bit less verbose aby assuming that partitioning of the proteins is always fair such that $p = 0.5$. This means our mean and variance can be more simply written as \n",
    "\n",
    "$$\n",
    "\\langle n \\rangle = {N_\\text{tot} \\over 2}\\, ; \\, \\langle n^2 \\rangle= {N_\\text{tot}+ N_\\text{tot}^2 \\over 4}. \\tag{17, 18}\n",
    "$$\n",
    "\n",
    "We can now return to Eq. 9 and include the mean copy number,\n",
    "\n",
    "$$\n",
    "\\begin{align}\n",
    "\\langle (I_1 - I_2)^2 \\rangle &= 4\\alpha^2(\\langle n^2 \\rangle - \\langle n \\rangle N_\\text{tot}) + (\\alpha N_\\text{tot})^2\\\\\n",
    "& = 4\\alpha^2\\left({N_\\text{tot} + N_\\text{tot}^2 \\over 4} - {2N_\\text{tot}^2 \\over 4}\\right) + \\alpha^2N_\\text{tot}^2 \\tag{19}.\n",
    "\\end{align}\n",
    "$$\n",
    "\n",
    "Some simplification brings us to our result, \n",
    "\n",
    "$$\n",
    "\\langle (I_1 - I_2)^2 \\rangle = \\alpha^2 N_\\text{tot} = \\alpha I_\\text{tot}. \\tag{20}\n",
    "$$\n",
    " \n",
    "This result tells us that the squared difference in the intensity between any two daughter cells should be linearly related to the intensity of the mother cell with a slope of the calibration factor $\\alpha$. While this is a very beautiful result, our measurement is a bit more difficult."
   ]
  },
  {
   "cell_type": "markdown",
   "metadata": {},
   "source": [
    "## Incorporating Measurement Error"
   ]
  },
  {
   "cell_type": "markdown",
   "metadata": {},
   "source": [
    "While we were rewarded for our mathematical efforts with Eq. 20, the practical use of this theoretical prediction is a bit more complicated. Primarily, we must be able to incoporate our error in the measurement of the single cell intensities. This means that our Eq. 20 becomes. \n",
    "\n",
    "$$\n",
    "I_\\text{tot} = \\alpha_0 + \\alpha N_\\text{tot} + \\epsilon \\tag{21}\n",
    "$$\n",
    "\n",
    "where $\\alpha_0$ is the background fluorescence of our sample and $\\epsilon$ is our measurement error. In [Rosenfeld et al. 2005]() and [Brewster et al. 2014](), the calibration factor was determined by binning the observed data and then fitting the prediction to the mean, assuming the measurement error was 0. While this is an acceptable approach, choosing the appropriate bin width is difficult and can bias the results. A more robust approach would be to write a heirarchical model which models each cell division event individually and estimate a hyperparameter for the calibration factor. \n",
    "\n"
   ]
  },
  {
   "cell_type": "markdown",
   "metadata": {},
   "source": [
    "### Taking a Bayesian approach"
   ]
  },
  {
   "cell_type": "markdown",
   "metadata": {},
   "source": [
    "We are interested in estimating two calibration parameters - $\\alpha_0$ and $\\alpha$ - and (as a consequence), the most likely protein copy numbers $N_1$ and $N_\\text{tot}$. As is usually the case, we can begin by writing down Bayes' theorem for the problem, \n",
    "\n",
    "$$\n",
    "P(\\alpha_0, \\alpha, \\sigma, N_1, N_\\text{tot}\\,\\vert\\, I_1, I_2) = {P(I_1, I_2\\, \\vert \\, \\alpha_0, \\alpha, \\sigma, N_1, N_\\text{tot})P(\\alpha_0, \\alpha, \\sigma, N_1, N_\\text{tot}) \\over P(I_1, I_2) }. \\tag{22}\n",
    "$$\n",
    "\n",
    "in which we've introduced the measurement error as $\\sigma$ as it's related to the normal distribution of the measurements. Our likelihood can be broken up into three parts $--$ one for $I_1$, for $I_2$, and one for $[N_1, N_\\text{tot}]$. As we've discussed already, the partitioning of the proteins into the daughter cells is binomial, allowing us to write\n",
    "\n",
    "$$\n",
    "P(N_1\\, \\vert\\, N_\\text{tot}, p) = {{N_\\text{tot}}\\choose{N_1}}p^{N_1}(1 - p)^{N_\\text{tot} - N_1}. \\tag{23}\n",
    "$$\n",
    "\n",
    "By assuming that partitioning is *always* fair (which may be a big assumption), we can simplify Eq. 23 to be\n",
    "\n",
    "$$\n",
    "P(N_1\\, \\vert \\, N_\\text{tot}, p) = {{N_\\text{tot}}\\choose{N_1}}2^{-N_\\text{tot}}. \\tag{24}\n",
    "$$\n",
    "\n",
    "It is likely that the measured intensity of a given cell is normally distributed. We can then say that for $I_1$, the  likelihood is gaussian with a variance $\\sigma$,\n",
    "\n",
    "$$\n",
    "P(I_1 \\,\\vert\\, \\alpha_0, \\alpha, N_1) = {1 \\over \\sqrt{2\\pi \\sigma^2}}\\exp\\left[{-(I_1 - (\\alpha_0 + \\alpha N_1)^2 \\over 2\\sigma^2}\\right]. \\tag{25}\n",
    "$$\n",
    "\n",
    "Similarly, we can write the likelihood for $I_2$ as \n",
    "\n",
    "$$\n",
    "P(I_2 \\,\\vert\\, \\alpha_0, \\alpha, N_1, N_\\text{tot}) = {1 \\over \\sqrt{2 \\pi \\sigma^2}}\\exp\\left[{-(I_2 - (\\alpha_0 + \\alpha (N_\\text{tot} - N_1))^2 \\over 2 \\sigma^2}\\right] \\tag{26}\n",
    "$$\n",
    "\n",
    "where we've again used the fact that protein copy number is conserved $N_\\text{tot} = N_1 + N_2$. \n",
    "\n",
    "The priors can be a little more tricky to figure out. To begin simply, we can assume a uniform uninformative prior for the protein copy numbers $N_1$ and $N_\\text{tot}$ using our knowledge that they must be discrete,\n",
    "\n",
    "$$\n",
    "P(N_1, N_\\text{tot}) = \\begin{cases} {1 \\over n_\\text{max} - n_\\text{min}} && n \\in \\mathbb{Z}\\, ;\\, n_\\text{min} \\leq n \\leq n_\\text{max} \\,;\\, N_1 \\leq N_\\text{tot}\\\\\n",
    "0 && \\text{otherwise}\n",
    "\\end{cases}. \\tag{27}\n",
    "$$\n",
    "\n",
    "Similarly, we can choose uniform priors for our two calibration parameters $\\alpha_0$ and $\\alpha$ as \n",
    "\n",
    "$$\n",
    "P(\\alpha_0, \\alpha) = \\begin{cases} {1 \\over \\alpha_\\text{max} - \\alpha_\\text{min}} && \\alpha_\\text{min} \\leq \\alpha \\leq \\alpha_\\text{max}\\\\\n",
    "0 && \\text{otherwise} \n",
    "\\end{cases}. \\tag{28}\n",
    "$$\n",
    "\n",
    "As is typically the case, we can assign an improper (i.e. unnormalized) Jeffrey's prior for $\\sigma$,\n",
    "\n",
    "$$\n",
    "P(\\sigma) = {1 \\over \\sigma}. \\tag{29}\n",
    "$$\n",
    "\n",
    "With likelihoods and priors, we are ready to write down the complete posterior. For ease, we can ignore the evidence $P(I_1, I_2)$. As we are looking over $k$ cell divisions, we have a set of $[N_1, N_\\text{tot}]$ and $[I_1, I_2]$,  \n",
    "\n",
    "$$\n",
    "P(\\alpha_0, \\alpha, \\sigma, [N_1, N_\\text{tot}]\\,\\vert\\,I_1, I_2) \\propto P(\\alpha, \\alpha_0, [N_1, N_\\text{tot}]){1 \\over \\sigma}\\prod\\limits_{i}^{k}{{N_{\\text{tot},i}}\\choose{N_{1,i}}}2^{-N_{\\text{tot},i}}\\times\n",
    "\\left({1 \\over 2\\pi \\sigma^2}\\right)^k\\exp\\left[{1 \\over 2\\sigma^2}\\sum\\limits_{i}^{k}\\left((I_{1,i} - (\\alpha_0 + \\alpha N_{1,i}))^2 + (I_{2, i} - (\\alpha_0 + \\alpha(N_{\\text{tot},i} - N_{1,i})))^2\\right)\\right], \\tag{30}\n",
    "$$\n",
    "\n",
    "in which the priors for $\\alpha_0, \\alpha,$ and $[N_1, N_\\text{tot}]$ were left out for notational clarity. \n",
    "\n",
    "While we could continue on to sample this distribution using MCMC, we have to be very careful of the priors. For example, with a $2k + 3$ parameter sampling, any degeree of information included in our prior will be greatly amplified and can steer the sampling off into other low-probabability local minima. We can reduce this issue by marginalizing Eq. 30 over $\\sigma$,\n",
    "\n",
    "$$\n",
    "P(\\alpha_0, \\alpha, [N_1, N_\\text{tot}] \\, \\vert\\, [I_1, I_2]) = \\int\\limits_0^\\infty d\\sigma P(\\alpha_0, \\alpha, \\sigma, [N_1, N_\\text{tot}]\\,\\vert\\,[I_1, I_2]). \\tag{31}\n",
    "$$\n",
    "\n",
    "While this is a gnarly integral, the result is well studied and is the Student-t distribution, \n",
    "\n",
    "$$\n",
    "\\begin{align}\n",
    "P(\\alpha_0, \\alpha, [N_1, N_\\text{tot}] \\, \\vert \\, [I_1, I_2]) \\propto &\\prod\\limits_i^k {{N_{\\text{tot},i}}\\choose{N_{1,i}}}2^{-N_{\\text{tot},i}}\\times\\\\\n",
    "&\\left(\\sum\\limits_i^k \\left((I_{1,i} - \\alpha_0 - \\alpha N_{1,i}))^2 + (I_{2,i} - \\alpha_0 - \\alpha(N_{\\text{tot},i} - N_{1,i}))^2\\right)\\right)^{-k / 2}. \\tag{32}\n",
    "\\end{align}\n",
    "$$\n",
    "\n",
    "Rather than jumping immediately into analyzing *real* data, we can test it on something we know."
   ]
  },
  {
   "cell_type": "markdown",
   "metadata": {},
   "source": [
    "### Analyzing simulated data"
   ]
  },
  {
   "cell_type": "markdown",
   "metadata": {},
   "source": [
    "To ensure that this type of inference is appropriate, we will generate a fake data set in which the calibration factor and the background fluorescence is known *a priori*. We can choose values that are physically realistic, as is done in the code cell below."
   ]
  },
  {
   "cell_type": "code",
   "execution_count": 57,
   "metadata": {
    "collapsed": true
   },
   "outputs": [],
   "source": [
    "# Set the parameters to generate the data set.\n",
    "n_cells = 100 \n",
    "max_proteins = 200 \n",
    "alpha_opt = 100 \n",
    "alpha_sigma = 5\n",
    "alpha_seed = np.random.normal(alpha_opt, alpha_sigma, size=n_cells)\n",
    "\n",
    "# Set the parent protein copy numbers and partition into children.\n",
    "n_tot = (np.random.rand(n_cells) * max_proteins).astype(int)\n",
    "n_1 = np.random.binomial(n_tot, p=0.5)\n",
    "n_2 = n_tot - n_1\n",
    "\n",
    "# Compute the intensities.\n",
    "I_1 = alpha_seed * n_1 + np.random.normal(loc=0, scale=10, size=n_cells) \n",
    "I_2 = alpha_seed * n_2 + np.random.normal(loc=0, scale=10, size=n_cells)\n",
    "I_tot = alpha_seed * n_tot + np.random.normal(loc=0, scale=10, size=n_cells)\n",
    "\n",
    "# Make it a DataFrame and compute the quantity of interest.\n",
    "mothers = np.arange(0, n_cells, 1)\n",
    "df = pd.DataFrame(np.array([n_tot, n_1, n_2, I_1, I_2, I_tot, mothers]).T, columns=['n_tot', 'n_1', 'n_2',\n",
    "                                                         'I_1', 'I_2', 'I_tot', 'cell_no'])\n",
    "df.loc[:, 'sq_diff'] = (df['I_1'] - df['I_2'])**2\n",
    "\n",
    "# Generate the prediction from the theory.\n",
    "I_tot_range = np.logspace(2, 5, 300)\n",
    "prediction = alpha_opt * I_tot_range"
   ]
  },
  {
   "cell_type": "markdown",
   "metadata": {},
   "source": [
    "To prove that this synthetic data is in line with our derivation above, we can plot the raw points along with Eq. 20. "
   ]
  },
  {
   "cell_type": "code",
   "execution_count": 58,
   "metadata": {},
   "outputs": [
    {
     "data": {
      "text/html": [
       "\n",
       "\n",
       "    <div class=\"bk-root\">\n",
       "        <div class=\"bk-plotdiv\" id=\"26a6e6ed-86f1-4505-a128-7fcadbb0b954\"></div>\n",
       "    </div>\n",
       "<script type=\"text/javascript\">\n",
       "  \n",
       "  (function(global) {\n",
       "    function now() {\n",
       "      return new Date();\n",
       "    }\n",
       "  \n",
       "    var force = false;\n",
       "  \n",
       "    if (typeof (window._bokeh_onload_callbacks) === \"undefined\" || force === true) {\n",
       "      window._bokeh_onload_callbacks = [];\n",
       "      window._bokeh_is_loading = undefined;\n",
       "    }\n",
       "  \n",
       "  \n",
       "    \n",
       "    if (typeof (window._bokeh_timeout) === \"undefined\" || force === true) {\n",
       "      window._bokeh_timeout = Date.now() + 0;\n",
       "      window._bokeh_failed_load = false;\n",
       "    }\n",
       "  \n",
       "    var NB_LOAD_WARNING = {'data': {'text/html':\n",
       "       \"<div style='background-color: #fdd'>\\n\"+\n",
       "       \"<p>\\n\"+\n",
       "       \"BokehJS does not appear to have successfully loaded. If loading BokehJS from CDN, this \\n\"+\n",
       "       \"may be due to a slow or bad network connection. Possible fixes:\\n\"+\n",
       "       \"</p>\\n\"+\n",
       "       \"<ul>\\n\"+\n",
       "       \"<li>re-rerun `output_notebook()` to attempt to load from CDN again, or</li>\\n\"+\n",
       "       \"<li>use INLINE resources instead, as so:</li>\\n\"+\n",
       "       \"</ul>\\n\"+\n",
       "       \"<code>\\n\"+\n",
       "       \"from bokeh.resources import INLINE\\n\"+\n",
       "       \"output_notebook(resources=INLINE)\\n\"+\n",
       "       \"</code>\\n\"+\n",
       "       \"</div>\"}};\n",
       "  \n",
       "    function display_loaded() {\n",
       "      if (window.Bokeh !== undefined) {\n",
       "        document.getElementById(\"26a6e6ed-86f1-4505-a128-7fcadbb0b954\").textContent = \"BokehJS successfully loaded.\";\n",
       "      } else if (Date.now() < window._bokeh_timeout) {\n",
       "        setTimeout(display_loaded, 100)\n",
       "      }\n",
       "    }\n",
       "  \n",
       "    function run_callbacks() {\n",
       "      window._bokeh_onload_callbacks.forEach(function(callback) { callback() });\n",
       "      delete window._bokeh_onload_callbacks\n",
       "      console.info(\"Bokeh: all callbacks have finished\");\n",
       "    }\n",
       "  \n",
       "    function load_libs(js_urls, callback) {\n",
       "      window._bokeh_onload_callbacks.push(callback);\n",
       "      if (window._bokeh_is_loading > 0) {\n",
       "        console.log(\"Bokeh: BokehJS is being loaded, scheduling callback at\", now());\n",
       "        return null;\n",
       "      }\n",
       "      if (js_urls == null || js_urls.length === 0) {\n",
       "        run_callbacks();\n",
       "        return null;\n",
       "      }\n",
       "      console.log(\"Bokeh: BokehJS not loaded, scheduling load and callback at\", now());\n",
       "      window._bokeh_is_loading = js_urls.length;\n",
       "      for (var i = 0; i < js_urls.length; i++) {\n",
       "        var url = js_urls[i];\n",
       "        var s = document.createElement('script');\n",
       "        s.src = url;\n",
       "        s.async = false;\n",
       "        s.onreadystatechange = s.onload = function() {\n",
       "          window._bokeh_is_loading--;\n",
       "          if (window._bokeh_is_loading === 0) {\n",
       "            console.log(\"Bokeh: all BokehJS libraries loaded\");\n",
       "            run_callbacks()\n",
       "          }\n",
       "        };\n",
       "        s.onerror = function() {\n",
       "          console.warn(\"failed to load library \" + url);\n",
       "        };\n",
       "        console.log(\"Bokeh: injecting script tag for BokehJS library: \", url);\n",
       "        document.getElementsByTagName(\"head\")[0].appendChild(s);\n",
       "      }\n",
       "    };var element = document.getElementById(\"26a6e6ed-86f1-4505-a128-7fcadbb0b954\");\n",
       "    if (element == null) {\n",
       "      console.log(\"Bokeh: ERROR: autoload.js configured with elementid '26a6e6ed-86f1-4505-a128-7fcadbb0b954' but no matching script tag was found. \")\n",
       "      return false;\n",
       "    }\n",
       "  \n",
       "    var js_urls = [];\n",
       "  \n",
       "    var inline_js = [\n",
       "      function(Bokeh) {\n",
       "        (function() {\n",
       "          var fn = function() {\n",
       "            var docs_json = {\"931b3d45-f85f-4fe3-8bc3-59f8442fd1d6\":{\"roots\":{\"references\":[{\"attributes\":{\"overlay\":{\"id\":\"b794ceb1-f1ca-4cdf-94ef-15e15ae1b216\",\"type\":\"BoxAnnotation\"},\"plot\":{\"id\":\"209bad72-e4ff-429b-844b-e7702b046cc4\",\"subtype\":\"Figure\",\"type\":\"Plot\"}},\"id\":\"8e3ea46b-15a5-4b8b-8ba5-d8289010a429\",\"type\":\"BoxZoomTool\"},{\"attributes\":{\"label\":{\"value\":\"simulated data\"},\"renderers\":[{\"id\":\"9e386321-076a-424c-babd-ffd51c68314b\",\"type\":\"GlyphRenderer\"}]},\"id\":\"cc8856d3-ad0c-4702-a55f-f779c8196f29\",\"type\":\"LegendItem\"},{\"attributes\":{\"plot\":{\"id\":\"209bad72-e4ff-429b-844b-e7702b046cc4\",\"subtype\":\"Figure\",\"type\":\"Plot\"}},\"id\":\"29f9a969-db9d-45c4-a9da-451079c3f082\",\"type\":\"HelpTool\"},{\"attributes\":{\"plot\":{\"id\":\"209bad72-e4ff-429b-844b-e7702b046cc4\",\"subtype\":\"Figure\",\"type\":\"Plot\"}},\"id\":\"fdc6c2f7-f34c-4523-bf79-2283f283c0da\",\"type\":\"SaveTool\"},{\"attributes\":{\"plot\":{\"id\":\"209bad72-e4ff-429b-844b-e7702b046cc4\",\"subtype\":\"Figure\",\"type\":\"Plot\"}},\"id\":\"b179b3db-ac34-447f-91ec-e74835ec4e06\",\"type\":\"PanTool\"},{\"attributes\":{\"line_color\":{\"value\":\"tomato\"},\"line_width\":{\"value\":2},\"x\":{\"field\":\"x\"},\"y\":{\"field\":\"y\"}},\"id\":\"67eb81db-1296-48bc-b626-c228fea9aff1\",\"type\":\"Line\"},{\"attributes\":{\"line_alpha\":{\"value\":0.1},\"line_color\":{\"value\":\"#1f77b4\"},\"line_width\":{\"value\":2},\"x\":{\"field\":\"x\"},\"y\":{\"field\":\"y\"}},\"id\":\"87623a03-b04e-4c22-a76f-d243e96e2d60\",\"type\":\"Line\"},{\"attributes\":{\"num_minor_ticks\":10},\"id\":\"d380c9ec-dc1e-4259-84fe-684bc05f4ac8\",\"type\":\"LogTicker\"},{\"attributes\":{\"data_source\":{\"id\":\"0d1d6f1d-20ba-4215-97e7-5af66ad39e22\",\"type\":\"ColumnDataSource\"},\"glyph\":{\"id\":\"af31220f-c77d-4140-8e72-7fb2927d9f1a\",\"type\":\"Circle\"},\"hover_glyph\":null,\"nonselection_glyph\":{\"id\":\"decb5ed9-1f79-4c20-a9fd-c5ace7e451fd\",\"type\":\"Circle\"},\"selection_glyph\":null},\"id\":\"9e386321-076a-424c-babd-ffd51c68314b\",\"type\":\"GlyphRenderer\"},{\"attributes\":{\"background_fill_color\":{\"value\":\"#E3DCD0\"},\"below\":[{\"id\":\"c8c00ada-92d3-4f85-95bd-9a19f1214133\",\"type\":\"LogAxis\"}],\"left\":[{\"id\":\"fb270092-d783-45fa-bc74-e5ac0dc66d70\",\"type\":\"LogAxis\"}],\"plot_height\":400,\"renderers\":[{\"id\":\"c8c00ada-92d3-4f85-95bd-9a19f1214133\",\"type\":\"LogAxis\"},{\"id\":\"245752dc-6f7c-431e-b1f8-4cc545a8dd44\",\"type\":\"Grid\"},{\"id\":\"fb270092-d783-45fa-bc74-e5ac0dc66d70\",\"type\":\"LogAxis\"},{\"id\":\"85219643-f113-424c-a8b6-18a04ad8f279\",\"type\":\"Grid\"},{\"id\":\"b794ceb1-f1ca-4cdf-94ef-15e15ae1b216\",\"type\":\"BoxAnnotation\"},{\"id\":\"9d1eca95-f4c1-4734-9b00-0dfdb3bc572a\",\"type\":\"Legend\"},{\"id\":\"9e386321-076a-424c-babd-ffd51c68314b\",\"type\":\"GlyphRenderer\"},{\"id\":\"92d46b3d-5210-4870-bd4d-d8b0639dc845\",\"type\":\"GlyphRenderer\"}],\"title\":{\"id\":\"90215440-2ae0-4ba7-9d78-b4d2e49827b0\",\"type\":\"Title\"},\"tool_events\":{\"id\":\"807dc7c8-fe5c-4262-8296-2852d0bb19f8\",\"type\":\"ToolEvents\"},\"toolbar\":{\"id\":\"65b1ad01-a5b6-450b-b5f0-f7217b4c1853\",\"type\":\"Toolbar\"},\"x_mapper_type\":\"log\",\"x_range\":{\"id\":\"d2391edd-0271-4b84-b2e5-296161370ba2\",\"type\":\"DataRange1d\"},\"y_mapper_type\":\"log\",\"y_range\":{\"id\":\"4eea9203-dd09-4547-81b3-fa56ca40fbb1\",\"type\":\"DataRange1d\"}},\"id\":\"209bad72-e4ff-429b-844b-e7702b046cc4\",\"subtype\":\"Figure\",\"type\":\"Plot\"},{\"attributes\":{\"ticker\":null},\"id\":\"057a8072-0515-4bab-81bb-c0be3f7b0e22\",\"type\":\"LogTickFormatter\"},{\"attributes\":{\"ticker\":null},\"id\":\"1da74729-0e07-40bf-b959-46bc81287f37\",\"type\":\"LogTickFormatter\"},{\"attributes\":{\"axis_label\":\"(I\\u2081 - I\\u2082)\\u00b2\",\"axis_label_standoff\":3,\"axis_label_text_color\":{\"value\":\"#3c3c3c\"},\"axis_label_text_font\":\"Lucida Sans Unicode\",\"axis_label_text_font_size\":{\"value\":\"1em\"},\"axis_label_text_font_style\":\"normal\",\"axis_line_color\":{\"value\":null},\"formatter\":{\"id\":\"1da74729-0e07-40bf-b959-46bc81287f37\",\"type\":\"LogTickFormatter\"},\"major_label_text_font\":\"Lucida Sans Unicode\",\"major_label_text_font_size\":{\"value\":\"0.75em\"},\"major_tick_line_color\":{\"value\":null},\"minor_tick_line_color\":{\"value\":null},\"plot\":{\"id\":\"209bad72-e4ff-429b-844b-e7702b046cc4\",\"subtype\":\"Figure\",\"type\":\"Plot\"},\"ticker\":{\"id\":\"ad0dc6fc-dd5a-48b3-aa06-89a8d6ef3ad8\",\"type\":\"LogTicker\"}},\"id\":\"fb270092-d783-45fa-bc74-e5ac0dc66d70\",\"type\":\"LogAxis\"},{\"attributes\":{\"grid_line_color\":{\"value\":\"#FFFFFF\"},\"grid_line_width\":{\"value\":0.75},\"plot\":{\"id\":\"209bad72-e4ff-429b-844b-e7702b046cc4\",\"subtype\":\"Figure\",\"type\":\"Plot\"},\"ticker\":{\"id\":\"d380c9ec-dc1e-4259-84fe-684bc05f4ac8\",\"type\":\"LogTicker\"}},\"id\":\"245752dc-6f7c-431e-b1f8-4cc545a8dd44\",\"type\":\"Grid\"},{\"attributes\":{\"data_source\":{\"id\":\"88344070-0a12-4496-b9d2-db591c2b4990\",\"type\":\"ColumnDataSource\"},\"glyph\":{\"id\":\"67eb81db-1296-48bc-b626-c228fea9aff1\",\"type\":\"Line\"},\"hover_glyph\":null,\"nonselection_glyph\":{\"id\":\"87623a03-b04e-4c22-a76f-d243e96e2d60\",\"type\":\"Line\"},\"selection_glyph\":null},\"id\":\"92d46b3d-5210-4870-bd4d-d8b0639dc845\",\"type\":\"GlyphRenderer\"},{\"attributes\":{\"active_drag\":\"auto\",\"active_scroll\":\"auto\",\"active_tap\":\"auto\",\"tools\":[{\"id\":\"b179b3db-ac34-447f-91ec-e74835ec4e06\",\"type\":\"PanTool\"},{\"id\":\"a3db8e5b-95b6-40f9-8d27-be876aaeb316\",\"type\":\"WheelZoomTool\"},{\"id\":\"8e3ea46b-15a5-4b8b-8ba5-d8289010a429\",\"type\":\"BoxZoomTool\"},{\"id\":\"fdc6c2f7-f34c-4523-bf79-2283f283c0da\",\"type\":\"SaveTool\"},{\"id\":\"713aabd5-efe5-49f0-98a7-3399072bb423\",\"type\":\"ResetTool\"},{\"id\":\"29f9a969-db9d-45c4-a9da-451079c3f082\",\"type\":\"HelpTool\"}]},\"id\":\"65b1ad01-a5b6-450b-b5f0-f7217b4c1853\",\"type\":\"Toolbar\"},{\"attributes\":{},\"id\":\"807dc7c8-fe5c-4262-8296-2852d0bb19f8\",\"type\":\"ToolEvents\"},{\"attributes\":{\"dimension\":1,\"grid_line_color\":{\"value\":\"#FFFFFF\"},\"grid_line_width\":{\"value\":0.75},\"plot\":{\"id\":\"209bad72-e4ff-429b-844b-e7702b046cc4\",\"subtype\":\"Figure\",\"type\":\"Plot\"},\"ticker\":{\"id\":\"ad0dc6fc-dd5a-48b3-aa06-89a8d6ef3ad8\",\"type\":\"LogTicker\"}},\"id\":\"85219643-f113-424c-a8b6-18a04ad8f279\",\"type\":\"Grid\"},{\"attributes\":{\"label\":{\"value\":\"\\u03b1\\u2080 + \\u03b1(\\u0399\\u2081 + I\\u2082)\"},\"renderers\":[{\"id\":\"92d46b3d-5210-4870-bd4d-d8b0639dc845\",\"type\":\"GlyphRenderer\"}]},\"id\":\"425cb538-ed1a-46f2-8e61-1450d7c2cb45\",\"type\":\"LegendItem\"},{\"attributes\":{\"callback\":null},\"id\":\"d2391edd-0271-4b84-b2e5-296161370ba2\",\"type\":\"DataRange1d\"},{\"attributes\":{\"callback\":null},\"id\":\"4eea9203-dd09-4547-81b3-fa56ca40fbb1\",\"type\":\"DataRange1d\"},{\"attributes\":{\"fill_alpha\":{\"value\":0.1},\"fill_color\":{\"value\":\"#1f77b4\"},\"line_alpha\":{\"value\":0.1},\"line_color\":{\"value\":\"#1f77b4\"},\"x\":{\"field\":\"x\"},\"y\":{\"field\":\"y\"}},\"id\":\"decb5ed9-1f79-4c20-a9fd-c5ace7e451fd\",\"type\":\"Circle\"},{\"attributes\":{\"plot\":{\"id\":\"209bad72-e4ff-429b-844b-e7702b046cc4\",\"subtype\":\"Figure\",\"type\":\"Plot\"}},\"id\":\"a3db8e5b-95b6-40f9-8d27-be876aaeb316\",\"type\":\"WheelZoomTool\"},{\"attributes\":{\"plot\":{\"id\":\"209bad72-e4ff-429b-844b-e7702b046cc4\",\"subtype\":\"Figure\",\"type\":\"Plot\"}},\"id\":\"713aabd5-efe5-49f0-98a7-3399072bb423\",\"type\":\"ResetTool\"},{\"attributes\":{\"bottom_units\":\"screen\",\"fill_alpha\":{\"value\":0.5},\"fill_color\":{\"value\":\"lightgrey\"},\"left_units\":\"screen\",\"level\":\"overlay\",\"line_alpha\":{\"value\":1.0},\"line_color\":{\"value\":\"black\"},\"line_dash\":[4,4],\"line_width\":{\"value\":2},\"plot\":null,\"render_mode\":\"css\",\"right_units\":\"screen\",\"top_units\":\"screen\"},\"id\":\"b794ceb1-f1ca-4cdf-94ef-15e15ae1b216\",\"type\":\"BoxAnnotation\"},{\"attributes\":{\"fill_alpha\":{\"value\":0.4},\"fill_color\":{\"value\":\"slategray\"},\"line_alpha\":{\"value\":0.4},\"line_color\":{\"value\":\"slategray\"},\"x\":{\"field\":\"x\"},\"y\":{\"field\":\"y\"}},\"id\":\"af31220f-c77d-4140-8e72-7fb2927d9f1a\",\"type\":\"Circle\"},{\"attributes\":{\"callback\":null,\"column_names\":[\"x\",\"y\"],\"data\":{\"x\":{\"__ndarray__\":\"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\",\"dtype\":\"float64\",\"shape\":[300]},\"y\":{\"__ndarray__\":\"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\",\"dtype\":\"float64\",\"shape\":[300]}}},\"id\":\"88344070-0a12-4496-b9d2-db591c2b4990\",\"type\":\"ColumnDataSource\"},{\"attributes\":{\"axis_label\":\"I\\u2081 + I\\u2082\",\"axis_label_standoff\":3,\"axis_label_text_color\":{\"value\":\"#3c3c3c\"},\"axis_label_text_font\":\"Lucida Sans Unicode\",\"axis_label_text_font_size\":{\"value\":\"1em\"},\"axis_label_text_font_style\":\"normal\",\"axis_line_color\":{\"value\":null},\"formatter\":{\"id\":\"057a8072-0515-4bab-81bb-c0be3f7b0e22\",\"type\":\"LogTickFormatter\"},\"major_label_text_font\":\"Lucida Sans Unicode\",\"major_label_text_font_size\":{\"value\":\"0.75em\"},\"major_tick_line_color\":{\"value\":null},\"minor_tick_line_color\":{\"value\":null},\"plot\":{\"id\":\"209bad72-e4ff-429b-844b-e7702b046cc4\",\"subtype\":\"Figure\",\"type\":\"Plot\"},\"ticker\":{\"id\":\"d380c9ec-dc1e-4259-84fe-684bc05f4ac8\",\"type\":\"LogTicker\"}},\"id\":\"c8c00ada-92d3-4f85-95bd-9a19f1214133\",\"type\":\"LogAxis\"},{\"attributes\":{\"plot\":null,\"text\":\"\"},\"id\":\"90215440-2ae0-4ba7-9d78-b4d2e49827b0\",\"type\":\"Title\"},{\"attributes\":{\"num_minor_ticks\":10},\"id\":\"ad0dc6fc-dd5a-48b3-aa06-89a8d6ef3ad8\",\"type\":\"LogTicker\"},{\"attributes\":{\"items\":[{\"id\":\"cc8856d3-ad0c-4702-a55f-f779c8196f29\",\"type\":\"LegendItem\"},{\"id\":\"425cb538-ed1a-46f2-8e61-1450d7c2cb45\",\"type\":\"LegendItem\"}],\"location\":\"top_left\",\"plot\":{\"id\":\"209bad72-e4ff-429b-844b-e7702b046cc4\",\"subtype\":\"Figure\",\"type\":\"Plot\"}},\"id\":\"9d1eca95-f4c1-4734-9b00-0dfdb3bc572a\",\"type\":\"Legend\"},{\"attributes\":{\"callback\":null,\"column_names\":[\"x\",\"y\"],\"data\":{\"x\":{\"__ndarray__\":\"0jeGQRNnt0D53frRY8bRQKvAEBD0Eb5AC3BgVjfKw0BookcLG+vKQPnThB8wD7JAAtiD6F4Q00DuqtqkLOLOQN/hPiRMLsFAPgKy35g7yUC2zBBQqnnRQFjTFG/QZ8hAo8w49VhZu0B+ZmgRH4uxQGxcj1/YUaJAX6oJQdaDz0AClz3Dx5+YQNu7r6u0XL5AUg/bpf06fUAh7CASVN7SQEX7CSfrEIlAahjjdJuNyUD+Z6egZSu+QGbSbYNsmtVA4me5bRqkxEBtQMHI/XLIQKs6WQjka81AjLfX5PVIyUBxkeaXFlWzQKzVTnsmI9FALfTYFg3UmkC9tag8GRm3QLcFCsjhgrdATWSvelvlgEDCP1Hu1mb9vzye3RukQNJA90MRhGa/x0AICz4X42CeQN6FhhKcD8lA9qIL8USDvEAsPwN4FKi4QABobq8crsdAauqyn2TnzkD7ydaopBW2QCxor6/fDsxANG7RKE97o0AMUPRtHT+kQEmsrtOt3s1ARnXuz6sh0UCsUAJANbSoQH+qZTfq6stAsVjeoXXqykCgGLl2IGXDQLwh2VUTHcJA5+6lszaZxkBUk34pXdHOQD83pC+5ptJARRpUzDjBz0CB861jW5m1QLXNiWbv/J9AHtFYSDIKxECce/xoTp+zQJxB/WVREcNAyOiX7RklukAwaGcwoMjIQMSoZwUEFMRAYwHO8r+c0EAUR8IgVvXSQCw7ATDYZ8hA+SabmNzE0ECYH2nBHSnJQJWQuzY6x8ZA5xVUHaM90EAjQo+j9EPUQEuHt6w24NJAb4UbK2CHu0Du4puPl3zNQCLUOE8xwMdA1B4bhASFykDPZERJvd/NQB5zCX8Sn9BAZChvE7BTykAB/7ZYYRySQJRNyrTJUNJAicG8JRZ7wEBP9ZwIEOLPQC2SqoPemclAlg+hQ/AT00B96g30WwfAQND4YSErG81A7jLTUlvtvUAL7/iUXgDKQIrulxHq0c5ALoGO0wZiikBpPrWXLvHOQALHoAhNj9JAjyHIt9DRY0CaAJtekCbEQJY/OiSNw9BAdvraMDJ2w0A=\",\"dtype\":\"float64\",\"shape\":[100]},\"y\":{\"__ndarray__\":\"uLZkGSQ8N0HWZvypWd48QfoUvGp8XwlBd3XJimDjD0GK5HWLQuLhQMMIq8/QCtxAJSkxpaTfA0Hllc1EdvkgQfi/NEDeMypBWEc1fmWhMkHVIZac1L9aQUsT6NweaRlBnkyKdLVPCkGNdrBGsXwKQYg6gNODIAJB1XV6BwNKWUGS42BRixXBQM0KCZ5KHzZB/krPUVwHCUE3wz5moBotQbYb7w+qx+ZAODUvYG+guEChvmWY0rozQahJARNTRMdAgAh8lnz5BkHKHHrAin8FQfDvr6k6GeRAA48E7zB2QUEqvEqCiicwQUzK39x0DyJB1g1jZU/2yEDXpt198QNIQfOxSrzaOwBB14V5HX3590Bs4QnxdlJzQITKdQZGduRAlmRMeujxDkFoJyjBVa2/QO7/GsEsQodAQ6G4Uh8GAkFP1ikQQqUSQVbGdYKriTBBuqTBP66BU0F+p6BoArwgQZxAhoQtZEhBLxhkA5SnIEG8qGzge+gZQdjmSxXTIDVBJ3gh5xbl5ECa79RKCH3nQDYMy/vDEAVBaoN3ehMPA0GQEULIPWIQQUsfZWaMuDNB/22mNn1sFkGkjBNBGGvHQBOM+OvG2A1BpfwbPeDFNUEzZ9QSZ24tQaLYFRWXHwVBFLEEa4HqO0FzNhdDiegQQYuEgccnUUNBYruWH6fG70CKqv9Gi90+QZgjOYjSoiJBsWZaYej15EDXAgalEkJRQavqha4AbS5Baw9sTL0IMUF0q3YaL631QGR7n9NWn7FA2uh2017DRkGtr/f42igTQUc6xwirAeVA9b01OQxwJ0H6p83WSE8cQfZFtJGRmypBM2R/FRxVGkEOMNzo4XoBQXh01GGBdfdAdnx5lp8+9kBBhS6umLrgQKVr/3mOooJAkDOO3fJgIEHzkFxh3Q5LQcvPCYDEmiZBu1Gj7dK2DUF1fWrf+Ie+QLp1WLKT/0ZB5j4vgyDsQEHtZbHxP0YhQd9OPT6F2DJBq0VSBthf50DidUFO0QUmQYMxEhtrujlBoA3Dv3VdOkDQmEeFBFs2QR6RID+pzhtBeQfMhrJ6GEE=\",\"dtype\":\"float64\",\"shape\":[100]}}},\"id\":\"0d1d6f1d-20ba-4215-97e7-5af66ad39e22\",\"type\":\"ColumnDataSource\"}],\"root_ids\":[\"209bad72-e4ff-429b-844b-e7702b046cc4\"]},\"title\":\"Bokeh Application\",\"version\":\"0.12.4\"}};\n",
       "            var render_items = [{\"docid\":\"931b3d45-f85f-4fe3-8bc3-59f8442fd1d6\",\"elementid\":\"26a6e6ed-86f1-4505-a128-7fcadbb0b954\",\"modelid\":\"209bad72-e4ff-429b-844b-e7702b046cc4\"}];\n",
       "            \n",
       "            Bokeh.embed.embed_items(docs_json, render_items);\n",
       "          };\n",
       "          if (document.readyState != \"loading\") fn();\n",
       "          else document.addEventListener(\"DOMContentLoaded\", fn);\n",
       "        })();\n",
       "      },\n",
       "      function(Bokeh) {\n",
       "      }\n",
       "    ];\n",
       "  \n",
       "    function run_inline_js() {\n",
       "      \n",
       "      if ((window.Bokeh !== undefined) || (force === true)) {\n",
       "        for (var i = 0; i < inline_js.length; i++) {\n",
       "          inline_js[i](window.Bokeh);\n",
       "        }if (force === true) {\n",
       "          display_loaded();\n",
       "        }} else if (Date.now() < window._bokeh_timeout) {\n",
       "        setTimeout(run_inline_js, 100);\n",
       "      } else if (!window._bokeh_failed_load) {\n",
       "        console.log(\"Bokeh: BokehJS failed to load within specified timeout.\");\n",
       "        window._bokeh_failed_load = true;\n",
       "      } else if (force !== true) {\n",
       "        var cell = $(document.getElementById(\"26a6e6ed-86f1-4505-a128-7fcadbb0b954\")).parents('.cell').data().cell;\n",
       "        cell.output_area.append_execute_result(NB_LOAD_WARNING)\n",
       "      }\n",
       "  \n",
       "    }\n",
       "  \n",
       "    if (window._bokeh_is_loading === 0) {\n",
       "      console.log(\"Bokeh: BokehJS loaded, going straight to plotting\");\n",
       "      run_inline_js();\n",
       "    } else {\n",
       "      load_libs(js_urls, function() {\n",
       "        console.log(\"Bokeh: BokehJS plotting callback run at\", now());\n",
       "        run_inline_js();\n",
       "      });\n",
       "    }\n",
       "  }(this));\n",
       "</script>"
      ]
     },
     "metadata": {},
     "output_type": "display_data"
    }
   ],
   "source": [
    "# Instantiate the figure and add axis labels. \n",
    "p = mscl.plotting.boilerplate(plot_width=600, plot_height=400, x_axis_type='log',\n",
    "                      y_axis_type='log', x_axis_label='I\\u2081 + I\\u2082',\n",
    "                      y_axis_label='(I\\u2081 - I\\u2082)\\u00B2')\n",
    "\n",
    "# Plot the data and the theoretical prediction.\n",
    "p.circle(x=df['I_tot'], y=df['sq_diff'],color='slategray', \n",
    "         alpha=0.4, legend='simulated data')\n",
    "p.line(x=I_tot_range, y=prediction, color='tomato',\n",
    "      legend='α\\u2080 + α(Ι\\u2081 + I\\u2082)', line_width=2)\n",
    "\n",
    "# Add a legend and show the plot\n",
    "p.legend.location='top_left'\n",
    "\n",
    "bokeh.io.show(p)"
   ]
  },
  {
   "cell_type": "markdown",
   "metadata": {},
   "source": [
    "As expected, our theoretical result matches the simulated data. To sample Eq. 32, we will use the package [PyMC3]() which has a wide variety of samplers and simple tools for constructing complicated models."
   ]
  },
  {
   "cell_type": "markdown",
   "metadata": {},
   "source": [
    "###  A Heirarchical model"
   ]
  },
  {
   "cell_type": "code",
   "execution_count": 75,
   "metadata": {},
   "outputs": [
    {
     "name": "stderr",
     "output_type": "stream",
     "text": [
      "Auto-assigning NUTS sampler...\n",
      "Initializing NUTS using jitter+adapt_diag...\n",
      "100%|██████████| 1000/1000 [02:05<00:00,  7.98it/s]/Users/gchure/anaconda/lib/python3.6/site-packages/pymc3/step_methods/hmc/nuts.py:459: UserWarning: Chain 0 reached the maximum tree depth. Increase max_treedepth, increase target_accept or reparameterize.\n",
      "  'reparameterize.' % self._chain_id)\n",
      "/Users/gchure/anaconda/lib/python3.6/site-packages/pymc3/step_methods/hmc/nuts.py:467: UserWarning: Chain 0 contains 2 diverging samples after tuning. If increasing `target_accept` does not help try to reparameterize.\n",
      "  % (self._chain_id, n_diverging))\n",
      "\n",
      "/Users/gchure/anaconda/lib/python3.6/site-packages/pymc3/step_methods/hmc/nuts.py:459: UserWarning: Chain 1 reached the maximum tree depth. Increase max_treedepth, increase target_accept or reparameterize.\n",
      "  'reparameterize.' % self._chain_id)\n",
      "/Users/gchure/anaconda/lib/python3.6/site-packages/pymc3/step_methods/hmc/nuts.py:467: UserWarning: Chain 1 contains 1 diverging samples after tuning. If increasing `target_accept` does not help try to reparameterize.\n",
      "  % (self._chain_id, n_diverging))\n"
     ]
    }
   ],
   "source": [
    "with pm.Model() as model:\n",
    "    # Define the hyperpriors.\n",
    "    alpha_mu = pm.Normal('alpha_mu', mu=alpha_opt, sd=np.sqrt(alpha_sigma))\n",
    "#     alpha_sig = mscl.mcmc.Jeffreys('alpha_sig', lower=0.1, upper=10)\n",
    "  \n",
    "    # Define the low-level priors\n",
    "#     alpha = pm.Normal('alpha', mu=alpha_mu, sd=alpha_sig, shape=n_cells)\n",
    "    ntot = pm.Uniform('ntot', lower=0, upper=300, shape=n_cells)\n",
    "    n1 = mscl.mcmc.GammaApproxBinomial('n1', n=ntot, p=0.5, shape=n_cells) \n",
    "    n2 = ntot - n1\n",
    "   \n",
    "    #Define the observables.\n",
    "    idx = df['cell_no'].values.astype(int)\n",
    "    obs = df.loc[:, ['I_1', 'I_2']].T.values.astype(float)\n",
    "    \n",
    "    # Compute the expected value.\n",
    "    mu1 = alpha_mu * n1[idx]\n",
    "    mu2 = alpha_mu * (ntot[idx]  - n1[idx])\n",
    "    \n",
    "    # Define the likelihood and sample.\n",
    "    like = mscl.mcmc.MarginalizedNormal('like', mu=[mu1, mu2], observed=obs)\n",
    "    trace = pm.sample(draws=500, tune=500, njobs=2)"
   ]
  },
  {
   "cell_type": "code",
   "execution_count": 77,
   "metadata": {},
   "outputs": [
    {
     "data": {
      "image/png": "[encoded data removed]",
      "text/plain": [
       "<matplotlib.figure.Figure at 0x1c2ba9a9e8>"
      ]
     },
     "metadata": {},
     "output_type": "display_data"
    }
   ],
   "source": [
    "_ = pm.traceplot(trace, varnames=['alpha_mu'])"
   ]
  },
  {
   "cell_type": "code",
   "execution_count": 65,
   "metadata": {},
   "outputs": [
    {
     "ename": "AttributeError",
     "evalue": "module 'pymc3' has no attribute 'gleman_rubin'",
     "output_type": "error",
     "traceback": [
      "\u001b[0;31m---------------------------------------------------------------------------\u001b[0m",
      "\u001b[0;31mAttributeError\u001b[0m                            Traceback (most recent call last)",
      "\u001b[0;32m<ipython-input-65-9e990c6358c6>\u001b[0m in \u001b[0;36m<module>\u001b[0;34m()\u001b[0m\n\u001b[0;32m----> 1\u001b[0;31m \u001b[0mpm\u001b[0m\u001b[0;34m.\u001b[0m\u001b[0mgleman_rubin\u001b[0m\u001b[0;34m(\u001b[0m\u001b[0mtrace\u001b[0m\u001b[0;34m)\u001b[0m\u001b[0;34m\u001b[0m\u001b[0m\n\u001b[0m",
      "\u001b[0;31mAttributeError\u001b[0m: module 'pymc3' has no attribute 'gleman_rubin'"
     ]
    }
   ],
   "source": [
    "pm.gleman_rubin(trace)"
   ]
  },
  {
   "cell_type": "code",
   "execution_count": 14,
   "metadata": {},
   "outputs": [
    {
     "ename": "ValueError",
     "evalue": "Gelman-Rubin diagnostic requires multiple chains of the same length.",
     "output_type": "error",
     "traceback": [
      "\u001b[0;31m---------------------------------------------------------------------------\u001b[0m",
      "\u001b[0;31mValueError\u001b[0m                                Traceback (most recent call last)",
      "\u001b[0;32m<ipython-input-14-8b573adbfaec>\u001b[0m in \u001b[0;36m<module>\u001b[0;34m()\u001b[0m\n\u001b[0;32m----> 1\u001b[0;31m \u001b[0mpm\u001b[0m\u001b[0;34m.\u001b[0m\u001b[0mgelman_rubin\u001b[0m\u001b[0;34m(\u001b[0m\u001b[0mtrace\u001b[0m\u001b[0;34m)\u001b[0m\u001b[0;34m\u001b[0m\u001b[0m\n\u001b[0m",
      "\u001b[0;32m~/anaconda/lib/python3.6/site-packages/pymc3/diagnostics.py\u001b[0m in \u001b[0;36mgelman_rubin\u001b[0;34m(mtrace, varnames, include_transformed)\u001b[0m\n\u001b[1;32m    144\u001b[0m     \u001b[0;32mif\u001b[0m \u001b[0mmtrace\u001b[0m\u001b[0;34m.\u001b[0m\u001b[0mnchains\u001b[0m \u001b[0;34m<\u001b[0m \u001b[0;36m2\u001b[0m\u001b[0;34m:\u001b[0m\u001b[0;34m\u001b[0m\u001b[0m\n\u001b[1;32m    145\u001b[0m         raise ValueError(\n\u001b[0;32m--> 146\u001b[0;31m             \u001b[0;34m'Gelman-Rubin diagnostic requires multiple chains '\u001b[0m\u001b[0;34m\u001b[0m\u001b[0m\n\u001b[0m\u001b[1;32m    147\u001b[0m             'of the same length.')\n\u001b[1;32m    148\u001b[0m \u001b[0;34m\u001b[0m\u001b[0m\n",
      "\u001b[0;31mValueError\u001b[0m: Gelman-Rubin diagnostic requires multiple chains of the same length."
     ]
    }
   ],
   "source": [
    "pm.gelman_rubin(trace)"
   ]
  },
  {
   "cell_type": "markdown",
   "metadata": {},
   "source": [
    "### Figuring out where to start "
   ]
  },
  {
   "cell_type": "code",
   "execution_count": null,
   "metadata": {
    "collapsed": true
   },
   "outputs": [],
   "source": []
  },
  {
   "cell_type": "code",
   "execution_count": 20,
   "metadata": {
    "collapsed": true
   },
   "outputs": [],
   "source": [
    "# Bin the data by a given event size. \n",
    "bin_size = 80\n",
    "# Sort the x data. \n",
    "sorted_I_tot = np.sort(df['I_tot'])\n",
    "\n",
    "# Set up binning range\n",
    "bins = np.arange(0, len(sorted_I_tot) + bin_size, bin_size)\n",
    "\n",
    "# Compute the means of each. \n",
    "mean_sum, mean_sqdiff = [], []\n",
    "df.sort_values(by='I_tot', inplace=True)\n",
    "for i in range(1, len(bins)):\n",
    "    slc_data = df.iloc[bins[i-1]: bins[i]]\n",
    "    mean_sum.append(slc_data['I_tot'].mean())\n",
    "    mean_sqdiff.append(slc_data['sq_diff'].mean())"
   ]
  },
  {
   "cell_type": "code",
   "execution_count": 21,
   "metadata": {
    "collapsed": true
   },
   "outputs": [],
   "source": [
    "def bin_and_fit(df, x_var='I_tot', y_var='sq_diff', bin_size=50):\n",
    "    # Sort the data\n",
    "    df_sorted = df.sort_values(by=x_var)\n",
    "    \n",
    "    # Compute the bins. \n",
    "    bins = np.arange(0, len(df_sorted) + bin_size, bin_size)\n",
    "    # Set up storage vectors.\n",
    "    mean_x, mean_y = [], []\n",
    "    \n"
   ]
  },
  {
   "cell_type": "code",
   "execution_count": 22,
   "metadata": {
    "collapsed": true
   },
   "outputs": [],
   "source": [
    "def theo(I_tot_range, alpha):\n",
    "    return alpha * I_tot_range\n",
    "popt, junk = scipy.optimize.curve_fit(theo, mean_sum, mean_sqdiff, p0=1000)\n",
    "slope = popt[0]"
   ]
  },
  {
   "cell_type": "markdown",
   "metadata": {},
   "source": [
    "With binning, now we can perform a regression t figure out the best starting value. "
   ]
  },
  {
   "cell_type": "code",
   "execution_count": 23,
   "metadata": {},
   "outputs": [
    {
     "data": {
      "text/html": [
       "\n",
       "\n",
       "    <div class=\"bk-root\">\n",
       "        <div class=\"bk-plotdiv\" id=\"41ed6c62-f57d-47c2-8afd-b66f79ef67c1\"></div>\n",
       "    </div>\n",
       "<script type=\"text/javascript\">\n",
       "  \n",
       "  (function(global) {\n",
       "    function now() {\n",
       "      return new Date();\n",
       "    }\n",
       "  \n",
       "    var force = false;\n",
       "  \n",
       "    if (typeof (window._bokeh_onload_callbacks) === \"undefined\" || force === true) {\n",
       "      window._bokeh_onload_callbacks = [];\n",
       "      window._bokeh_is_loading = undefined;\n",
       "    }\n",
       "  \n",
       "  \n",
       "    \n",
       "    if (typeof (window._bokeh_timeout) === \"undefined\" || force === true) {\n",
       "      window._bokeh_timeout = Date.now() + 0;\n",
       "      window._bokeh_failed_load = false;\n",
       "    }\n",
       "  \n",
       "    var NB_LOAD_WARNING = {'data': {'text/html':\n",
       "       \"<div style='background-color: #fdd'>\\n\"+\n",
       "       \"<p>\\n\"+\n",
       "       \"BokehJS does not appear to have successfully loaded. If loading BokehJS from CDN, this \\n\"+\n",
       "       \"may be due to a slow or bad network connection. Possible fixes:\\n\"+\n",
       "       \"</p>\\n\"+\n",
       "       \"<ul>\\n\"+\n",
       "       \"<li>re-rerun `output_notebook()` to attempt to load from CDN again, or</li>\\n\"+\n",
       "       \"<li>use INLINE resources instead, as so:</li>\\n\"+\n",
       "       \"</ul>\\n\"+\n",
       "       \"<code>\\n\"+\n",
       "       \"from bokeh.resources import INLINE\\n\"+\n",
       "       \"output_notebook(resources=INLINE)\\n\"+\n",
       "       \"</code>\\n\"+\n",
       "       \"</div>\"}};\n",
       "  \n",
       "    function display_loaded() {\n",
       "      if (window.Bokeh !== undefined) {\n",
       "        document.getElementById(\"41ed6c62-f57d-47c2-8afd-b66f79ef67c1\").textContent = \"BokehJS successfully loaded.\";\n",
       "      } else if (Date.now() < window._bokeh_timeout) {\n",
       "        setTimeout(display_loaded, 100)\n",
       "      }\n",
       "    }\n",
       "  \n",
       "    function run_callbacks() {\n",
       "      window._bokeh_onload_callbacks.forEach(function(callback) { callback() });\n",
       "      delete window._bokeh_onload_callbacks\n",
       "      console.info(\"Bokeh: all callbacks have finished\");\n",
       "    }\n",
       "  \n",
       "    function load_libs(js_urls, callback) {\n",
       "      window._bokeh_onload_callbacks.push(callback);\n",
       "      if (window._bokeh_is_loading > 0) {\n",
       "        console.log(\"Bokeh: BokehJS is being loaded, scheduling callback at\", now());\n",
       "        return null;\n",
       "      }\n",
       "      if (js_urls == null || js_urls.length === 0) {\n",
       "        run_callbacks();\n",
       "        return null;\n",
       "      }\n",
       "      console.log(\"Bokeh: BokehJS not loaded, scheduling load and callback at\", now());\n",
       "      window._bokeh_is_loading = js_urls.length;\n",
       "      for (var i = 0; i < js_urls.length; i++) {\n",
       "        var url = js_urls[i];\n",
       "        var s = document.createElement('script');\n",
       "        s.src = url;\n",
       "        s.async = false;\n",
       "        s.onreadystatechange = s.onload = function() {\n",
       "          window._bokeh_is_loading--;\n",
       "          if (window._bokeh_is_loading === 0) {\n",
       "            console.log(\"Bokeh: all BokehJS libraries loaded\");\n",
       "            run_callbacks()\n",
       "          }\n",
       "        };\n",
       "        s.onerror = function() {\n",
       "          console.warn(\"failed to load library \" + url);\n",
       "        };\n",
       "        console.log(\"Bokeh: injecting script tag for BokehJS library: \", url);\n",
       "        document.getElementsByTagName(\"head\")[0].appendChild(s);\n",
       "      }\n",
       "    };var element = document.getElementById(\"41ed6c62-f57d-47c2-8afd-b66f79ef67c1\");\n",
       "    if (element == null) {\n",
       "      console.log(\"Bokeh: ERROR: autoload.js configured with elementid '41ed6c62-f57d-47c2-8afd-b66f79ef67c1' but no matching script tag was found. \")\n",
       "      return false;\n",
       "    }\n",
       "  \n",
       "    var js_urls = [];\n",
       "  \n",
       "    var inline_js = [\n",
       "      function(Bokeh) {\n",
       "        (function() {\n",
       "          var fn = function() {\n",
       "            var docs_json = {\"1629b97c-aeb8-4848-898b-cde80d1b9fe1\":{\"roots\":{\"references\":[{\"attributes\":{\"active_drag\":\"auto\",\"active_scroll\":\"auto\",\"active_tap\":\"auto\",\"tools\":[{\"id\":\"3f32987c-b3e5-424a-a9bf-e950b719b80b\",\"type\":\"PanTool\"},{\"id\":\"2ebdf7f1-1203-4235-9b2a-041264d08572\",\"type\":\"WheelZoomTool\"},{\"id\":\"d39d7813-91fc-4b8d-8ff7-0645a50dca10\",\"type\":\"BoxZoomTool\"},{\"id\":\"d3e66d67-0ce9-49cf-9a05-859e7bbb6c03\",\"type\":\"SaveTool\"},{\"id\":\"8c45e679-0d0c-40e6-a26f-d24e996a4d7c\",\"type\":\"ResetTool\"},{\"id\":\"db6c972f-5095-41f7-9141-5b7799aebe10\",\"type\":\"HelpTool\"}]},\"id\":\"85a645c8-a1dd-4b94-ba4f-a0703f6e9009\",\"type\":\"Toolbar\"},{\"attributes\":{\"callback\":null},\"id\":\"601f558e-cbea-404d-b2ba-dff28033dab1\",\"type\":\"DataRange1d\"},{\"attributes\":{\"background_fill_color\":{\"value\":\"#E3DCD0\"},\"below\":[{\"id\":\"47822d84-f7dc-4c1d-bb95-64bc465cff7e\",\"type\":\"LogAxis\"}],\"left\":[{\"id\":\"2ab5b7f5-afb0-4f68-b40a-1789a242113a\",\"type\":\"LogAxis\"}],\"plot_height\":400,\"renderers\":[{\"id\":\"47822d84-f7dc-4c1d-bb95-64bc465cff7e\",\"type\":\"LogAxis\"},{\"id\":\"3a9974fa-2b29-4f29-bc8d-04e7f043fcd3\",\"type\":\"Grid\"},{\"id\":\"2ab5b7f5-afb0-4f68-b40a-1789a242113a\",\"type\":\"LogAxis\"},{\"id\":\"1dd8758a-f4b1-4c76-96fa-074fceaf0e59\",\"type\":\"Grid\"},{\"id\":\"b21d6545-9a93-4260-ac5e-35d0b1f587eb\",\"type\":\"BoxAnnotation\"},{\"id\":\"805bedfd-ee6e-49d0-91a6-f8a3b8228522\",\"type\":\"Legend\"},{\"id\":\"5581e8a7-10f0-4115-a47e-f3fcd3d10221\",\"type\":\"GlyphRenderer\"},{\"id\":\"4aee73f4-b4a9-4125-ac1e-e4c2410f3bed\",\"type\":\"GlyphRenderer\"},{\"id\":\"fa60b06a-e295-4de9-977f-b072c479d6f4\",\"type\":\"GlyphRenderer\"},{\"id\":\"3e51bcbe-96d0-4b15-9877-4550b46d48ca\",\"type\":\"GlyphRenderer\"}],\"title\":{\"id\":\"fb4fcaec-9470-4c93-b4db-65b417bb8bbb\",\"type\":\"Title\"},\"tool_events\":{\"id\":\"cd17fe5b-de0b-4ab0-8232-28d1c873e566\",\"type\":\"ToolEvents\"},\"toolbar\":{\"id\":\"85a645c8-a1dd-4b94-ba4f-a0703f6e9009\",\"type\":\"Toolbar\"},\"x_mapper_type\":\"log\",\"x_range\":{\"id\":\"07ac40d4-892b-48da-8e5f-a9b62e0810ae\",\"type\":\"DataRange1d\"},\"y_mapper_type\":\"log\",\"y_range\":{\"id\":\"601f558e-cbea-404d-b2ba-dff28033dab1\",\"type\":\"DataRange1d\"}},\"id\":\"0c036faf-0d28-4aef-90bb-0527cace5fda\",\"subtype\":\"Figure\",\"type\":\"Plot\"},{\"attributes\":{\"ticker\":null},\"id\":\"e1bc1eab-a367-486a-92fd-c36d9625e089\",\"type\":\"LogTickFormatter\"},{\"attributes\":{\"fill_alpha\":{\"value\":0.1},\"fill_color\":{\"value\":\"#1f77b4\"},\"line_alpha\":{\"value\":0.1},\"line_color\":{\"value\":\"#1f77b4\"},\"x\":{\"field\":\"x\"},\"y\":{\"field\":\"y\"}},\"id\":\"e4d084b5-7a84-4174-9969-e4c3312777a7\",\"type\":\"Circle\"},{\"attributes\":{\"callback\":null},\"id\":\"07ac40d4-892b-48da-8e5f-a9b62e0810ae\",\"type\":\"DataRange1d\"},{\"attributes\":{},\"id\":\"cd17fe5b-de0b-4ab0-8232-28d1c873e566\",\"type\":\"ToolEvents\"},{\"attributes\":{\"axis_label\":\"I\\u2081 + I\\u2082\",\"axis_label_standoff\":3,\"axis_label_text_color\":{\"value\":\"#3c3c3c\"},\"axis_label_text_font\":\"Lucida Sans Unicode\",\"axis_label_text_font_size\":{\"value\":\"13pt\"},\"axis_label_text_font_style\":\"normal\",\"axis_line_color\":{\"value\":null},\"formatter\":{\"id\":\"a78dfe9e-6e83-43a0-9fa5-f58f2c82a03c\",\"type\":\"LogTickFormatter\"},\"major_label_text_font\":\"Lucida Sans Unicode\",\"major_label_text_font_size\":{\"value\":\"10pt\"},\"major_tick_line_color\":{\"value\":null},\"minor_tick_line_color\":{\"value\":null},\"plot\":{\"id\":\"0c036faf-0d28-4aef-90bb-0527cace5fda\",\"subtype\":\"Figure\",\"type\":\"Plot\"},\"ticker\":{\"id\":\"0ecfce78-f43b-4c33-8a4e-d15a0b60cdca\",\"type\":\"LogTicker\"}},\"id\":\"47822d84-f7dc-4c1d-bb95-64bc465cff7e\",\"type\":\"LogAxis\"},{\"attributes\":{\"plot\":{\"id\":\"0c036faf-0d28-4aef-90bb-0527cace5fda\",\"subtype\":\"Figure\",\"type\":\"Plot\"}},\"id\":\"3f32987c-b3e5-424a-a9bf-e950b719b80b\",\"type\":\"PanTool\"},{\"attributes\":{\"ticker\":null},\"id\":\"a78dfe9e-6e83-43a0-9fa5-f58f2c82a03c\",\"type\":\"LogTickFormatter\"},{\"attributes\":{\"data_source\":{\"id\":\"81c0b226-ed0f-4fa3-8c9d-ef062e9bf6dd\",\"type\":\"ColumnDataSource\"},\"glyph\":{\"id\":\"7e9ce839-dc8c-4a43-a014-8ce07c67d0c6\",\"type\":\"Circle\"},\"hover_glyph\":null,\"nonselection_glyph\":{\"id\":\"f06fd10f-7f4f-452d-872a-4c7b1b02e6bd\",\"type\":\"Circle\"},\"selection_glyph\":null},\"id\":\"fa60b06a-e295-4de9-977f-b072c479d6f4\",\"type\":\"GlyphRenderer\"},{\"attributes\":{\"plot\":{\"id\":\"0c036faf-0d28-4aef-90bb-0527cace5fda\",\"subtype\":\"Figure\",\"type\":\"Plot\"}},\"id\":\"2ebdf7f1-1203-4235-9b2a-041264d08572\",\"type\":\"WheelZoomTool\"},{\"attributes\":{\"num_minor_ticks\":10},\"id\":\"0ecfce78-f43b-4c33-8a4e-d15a0b60cdca\",\"type\":\"LogTicker\"},{\"attributes\":{\"callback\":null,\"column_names\":[\"x\",\"y\"],\"data\":{\"x\":{\"__ndarray__\":\"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\",\"dtype\":\"float64\",\"shape\":[300]},\"y\":{\"__ndarray__\":\"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\",\"dtype\":\"float64\",\"shape\":[300]}}},\"id\":\"affd7ca9-5e36-4676-a534-bbbff6331379\",\"type\":\"ColumnDataSource\"},{\"attributes\":{\"bottom_units\":\"screen\",\"fill_alpha\":{\"value\":0.5},\"fill_color\":{\"value\":\"lightgrey\"},\"left_units\":\"screen\",\"level\":\"overlay\",\"line_alpha\":{\"value\":1.0},\"line_color\":{\"value\":\"black\"},\"line_dash\":[4,4],\"line_width\":{\"value\":2},\"plot\":null,\"render_mode\":\"css\",\"right_units\":\"screen\",\"top_units\":\"screen\"},\"id\":\"b21d6545-9a93-4260-ac5e-35d0b1f587eb\",\"type\":\"BoxAnnotation\"},{\"attributes\":{\"fill_alpha\":{\"value\":0.1},\"fill_color\":{\"value\":\"#1f77b4\"},\"line_alpha\":{\"value\":0.1},\"line_color\":{\"value\":\"#1f77b4\"},\"x\":{\"field\":\"x\"},\"y\":{\"field\":\"y\"}},\"id\":\"f06fd10f-7f4f-452d-872a-4c7b1b02e6bd\",\"type\":\"Circle\"},{\"attributes\":{\"num_minor_ticks\":10},\"id\":\"1e58ea1a-592b-4e39-ae9b-94ffec973bd1\",\"type\":\"LogTicker\"},{\"attributes\":{\"dimension\":1,\"grid_line_color\":{\"value\":\"#FFFFFF\"},\"grid_line_width\":{\"value\":0.75},\"plot\":{\"id\":\"0c036faf-0d28-4aef-90bb-0527cace5fda\",\"subtype\":\"Figure\",\"type\":\"Plot\"},\"ticker\":{\"id\":\"1e58ea1a-592b-4e39-ae9b-94ffec973bd1\",\"type\":\"LogTicker\"}},\"id\":\"1dd8758a-f4b1-4c76-96fa-074fceaf0e59\",\"type\":\"Grid\"},{\"attributes\":{\"callback\":null,\"column_names\":[\"x\",\"y\"],\"data\":{\"x\":{\"__ndarray__\":\"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\",\"dtype\":\"float64\",\"shape\":[500]},\"y\":{\"__ndarray__\":\"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\",\"dtype\":\"float64\",\"shape\":[500]}}},\"id\":\"01d7628e-fc4b-4cf7-9e76-548cb429222c\",\"type\":\"ColumnDataSource\"},{\"attributes\":{\"grid_line_color\":{\"value\":\"#FFFFFF\"},\"grid_line_width\":{\"value\":0.75},\"plot\":{\"id\":\"0c036faf-0d28-4aef-90bb-0527cace5fda\",\"subtype\":\"Figure\",\"type\":\"Plot\"},\"ticker\":{\"id\":\"0ecfce78-f43b-4c33-8a4e-d15a0b60cdca\",\"type\":\"LogTicker\"}},\"id\":\"3a9974fa-2b29-4f29-bc8d-04e7f043fcd3\",\"type\":\"Grid\"},{\"attributes\":{\"fill_color\":{\"value\":\"dodgerblue\"},\"line_color\":{\"value\":\"dodgerblue\"},\"x\":{\"field\":\"x\"},\"y\":{\"field\":\"y\"}},\"id\":\"7e9ce839-dc8c-4a43-a014-8ce07c67d0c6\",\"type\":\"Circle\"},{\"attributes\":{\"axis_label\":\"(I\\u2081 - I\\u2082)\\u00b2\",\"axis_label_standoff\":3,\"axis_label_text_color\":{\"value\":\"#3c3c3c\"},\"axis_label_text_font\":\"Lucida Sans Unicode\",\"axis_label_text_font_size\":{\"value\":\"13pt\"},\"axis_label_text_font_style\":\"normal\",\"axis_line_color\":{\"value\":null},\"formatter\":{\"id\":\"e1bc1eab-a367-486a-92fd-c36d9625e089\",\"type\":\"LogTickFormatter\"},\"major_label_text_font\":\"Lucida Sans Unicode\",\"major_label_text_font_size\":{\"value\":\"10pt\"},\"major_tick_line_color\":{\"value\":null},\"minor_tick_line_color\":{\"value\":null},\"plot\":{\"id\":\"0c036faf-0d28-4aef-90bb-0527cace5fda\",\"subtype\":\"Figure\",\"type\":\"Plot\"},\"ticker\":{\"id\":\"1e58ea1a-592b-4e39-ae9b-94ffec973bd1\",\"type\":\"LogTicker\"}},\"id\":\"2ab5b7f5-afb0-4f68-b40a-1789a242113a\",\"type\":\"LogAxis\"},{\"attributes\":{\"overlay\":{\"id\":\"b21d6545-9a93-4260-ac5e-35d0b1f587eb\",\"type\":\"BoxAnnotation\"},\"plot\":{\"id\":\"0c036faf-0d28-4aef-90bb-0527cace5fda\",\"subtype\":\"Figure\",\"type\":\"Plot\"}},\"id\":\"d39d7813-91fc-4b8d-8ff7-0645a50dca10\",\"type\":\"BoxZoomTool\"},{\"attributes\":{\"data_source\":{\"id\":\"01d7628e-fc4b-4cf7-9e76-548cb429222c\",\"type\":\"ColumnDataSource\"},\"glyph\":{\"id\":\"c1ff9ce4-f815-4066-9305-eca9a73381e4\",\"type\":\"Circle\"},\"hover_glyph\":null,\"nonselection_glyph\":{\"id\":\"e4d084b5-7a84-4174-9969-e4c3312777a7\",\"type\":\"Circle\"},\"selection_glyph\":null},\"id\":\"5581e8a7-10f0-4115-a47e-f3fcd3d10221\",\"type\":\"GlyphRenderer\"},{\"attributes\":{\"data_source\":{\"id\":\"affd7ca9-5e36-4676-a534-bbbff6331379\",\"type\":\"ColumnDataSource\"},\"glyph\":{\"id\":\"17543aa0-4dcf-434e-821a-721497313b87\",\"type\":\"Line\"},\"hover_glyph\":null,\"nonselection_glyph\":{\"id\":\"40e58758-455a-4834-b3c6-1792f712ac09\",\"type\":\"Line\"},\"selection_glyph\":null},\"id\":\"4aee73f4-b4a9-4125-ac1e-e4c2410f3bed\",\"type\":\"GlyphRenderer\"},{\"attributes\":{\"plot\":{\"id\":\"0c036faf-0d28-4aef-90bb-0527cace5fda\",\"subtype\":\"Figure\",\"type\":\"Plot\"}},\"id\":\"d3e66d67-0ce9-49cf-9a05-859e7bbb6c03\",\"type\":\"SaveTool\"},{\"attributes\":{\"plot\":null,\"text\":\"\"},\"id\":\"fb4fcaec-9470-4c93-b4db-65b417bb8bbb\",\"type\":\"Title\"},{\"attributes\":{\"plot\":{\"id\":\"0c036faf-0d28-4aef-90bb-0527cace5fda\",\"subtype\":\"Figure\",\"type\":\"Plot\"}},\"id\":\"8c45e679-0d0c-40e6-a26f-d24e996a4d7c\",\"type\":\"ResetTool\"},{\"attributes\":{\"plot\":{\"id\":\"0c036faf-0d28-4aef-90bb-0527cace5fda\",\"subtype\":\"Figure\",\"type\":\"Plot\"}},\"id\":\"db6c972f-5095-41f7-9141-5b7799aebe10\",\"type\":\"HelpTool\"},{\"attributes\":{\"fill_alpha\":{\"value\":0.4},\"fill_color\":{\"value\":\"slategray\"},\"line_alpha\":{\"value\":0.4},\"line_color\":{\"value\":\"slategray\"},\"x\":{\"field\":\"x\"},\"y\":{\"field\":\"y\"}},\"id\":\"c1ff9ce4-f815-4066-9305-eca9a73381e4\",\"type\":\"Circle\"},{\"attributes\":{\"label\":{\"value\":\"line from linear regression\"},\"renderers\":[{\"id\":\"3e51bcbe-96d0-4b15-9877-4550b46d48ca\",\"type\":\"GlyphRenderer\"}]},\"id\":\"54587d96-208f-438f-b8cd-c421423d535c\",\"type\":\"LegendItem\"},{\"attributes\":{\"label\":{\"value\":\"binned points\"},\"renderers\":[{\"id\":\"fa60b06a-e295-4de9-977f-b072c479d6f4\",\"type\":\"GlyphRenderer\"}]},\"id\":\"b2c3cab5-e78c-4a16-90a3-2b7b02e69d3d\",\"type\":\"LegendItem\"},{\"attributes\":{\"label\":{\"value\":\"\\u03b1\\u2080 + \\u03b1(\\u0399\\u2081 + I\\u2082)\"},\"renderers\":[{\"id\":\"4aee73f4-b4a9-4125-ac1e-e4c2410f3bed\",\"type\":\"GlyphRenderer\"}]},\"id\":\"085f0501-9886-4404-a697-73968ecad6b0\",\"type\":\"LegendItem\"},{\"attributes\":{\"line_alpha\":{\"value\":0.1},\"line_color\":{\"value\":\"#1f77b4\"},\"line_width\":{\"value\":2},\"x\":{\"field\":\"x\"},\"y\":{\"field\":\"y\"}},\"id\":\"6415fd4b-ac37-4f5b-be06-b539733b7379\",\"type\":\"Line\"},{\"attributes\":{\"line_color\":{\"value\":\"dodgerblue\"},\"line_width\":{\"value\":2},\"x\":{\"field\":\"x\"},\"y\":{\"field\":\"y\"}},\"id\":\"731d40d3-77b0-491e-ad89-b1ddbf4144c2\",\"type\":\"Line\"},{\"attributes\":{\"callback\":null,\"column_names\":[\"x\",\"y\"],\"data\":{\"x\":{\"__ndarray__\":\"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\",\"dtype\":\"float64\",\"shape\":[300]},\"y\":{\"__ndarray__\":\"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\",\"dtype\":\"float64\",\"shape\":[300]}}},\"id\":\"d7bbf895-490a-4323-b6fb-60f9e8d0b75e\",\"type\":\"ColumnDataSource\"},{\"attributes\":{\"label\":{\"value\":\"simulated data\"},\"renderers\":[{\"id\":\"5581e8a7-10f0-4115-a47e-f3fcd3d10221\",\"type\":\"GlyphRenderer\"}]},\"id\":\"bbee2cc5-8ac6-4058-b9d0-92d2e1742a87\",\"type\":\"LegendItem\"},{\"attributes\":{\"items\":[{\"id\":\"bbee2cc5-8ac6-4058-b9d0-92d2e1742a87\",\"type\":\"LegendItem\"},{\"id\":\"085f0501-9886-4404-a697-73968ecad6b0\",\"type\":\"LegendItem\"},{\"id\":\"b2c3cab5-e78c-4a16-90a3-2b7b02e69d3d\",\"type\":\"LegendItem\"},{\"id\":\"54587d96-208f-438f-b8cd-c421423d535c\",\"type\":\"LegendItem\"}],\"location\":\"top_left\",\"plot\":{\"id\":\"0c036faf-0d28-4aef-90bb-0527cace5fda\",\"subtype\":\"Figure\",\"type\":\"Plot\"}},\"id\":\"805bedfd-ee6e-49d0-91a6-f8a3b8228522\",\"type\":\"Legend\"},{\"attributes\":{\"callback\":null,\"column_names\":[\"x\",\"y\"],\"data\":{\"x\":[1114.87351802476,4531.109750801651,8268.547750466078,11349.532856765789,14568.826065999529,17646.03498584671,19575.083932677084],\"y\":[245264.1273273712,822096.7176524082,1486351.3914255009,2805149.3997988286,3543505.5105079287,3867311.684736618,2484309.2557397615]}},\"id\":\"81c0b226-ed0f-4fa3-8c9d-ef062e9bf6dd\",\"type\":\"ColumnDataSource\"},{\"attributes\":{\"line_color\":{\"value\":\"tomato\"},\"line_width\":{\"value\":2},\"x\":{\"field\":\"x\"},\"y\":{\"field\":\"y\"}},\"id\":\"17543aa0-4dcf-434e-821a-721497313b87\",\"type\":\"Line\"},{\"attributes\":{\"data_source\":{\"id\":\"d7bbf895-490a-4323-b6fb-60f9e8d0b75e\",\"type\":\"ColumnDataSource\"},\"glyph\":{\"id\":\"731d40d3-77b0-491e-ad89-b1ddbf4144c2\",\"type\":\"Line\"},\"hover_glyph\":null,\"nonselection_glyph\":{\"id\":\"6415fd4b-ac37-4f5b-be06-b539733b7379\",\"type\":\"Line\"},\"selection_glyph\":null},\"id\":\"3e51bcbe-96d0-4b15-9877-4550b46d48ca\",\"type\":\"GlyphRenderer\"},{\"attributes\":{\"line_alpha\":{\"value\":0.1},\"line_color\":{\"value\":\"#1f77b4\"},\"line_width\":{\"value\":2},\"x\":{\"field\":\"x\"},\"y\":{\"field\":\"y\"}},\"id\":\"40e58758-455a-4834-b3c6-1792f712ac09\",\"type\":\"Line\"}],\"root_ids\":[\"0c036faf-0d28-4aef-90bb-0527cace5fda\"]},\"title\":\"Bokeh Application\",\"version\":\"0.12.4\"}};\n",
       "            var render_items = [{\"docid\":\"1629b97c-aeb8-4848-898b-cde80d1b9fe1\",\"elementid\":\"41ed6c62-f57d-47c2-8afd-b66f79ef67c1\",\"modelid\":\"0c036faf-0d28-4aef-90bb-0527cace5fda\"}];\n",
       "            \n",
       "            Bokeh.embed.embed_items(docs_json, render_items);\n",
       "          };\n",
       "          if (document.readyState != \"loading\") fn();\n",
       "          else document.addEventListener(\"DOMContentLoaded\", fn);\n",
       "        })();\n",
       "      },\n",
       "      function(Bokeh) {\n",
       "      }\n",
       "    ];\n",
       "  \n",
       "    function run_inline_js() {\n",
       "      \n",
       "      if ((window.Bokeh !== undefined) || (force === true)) {\n",
       "        for (var i = 0; i < inline_js.length; i++) {\n",
       "          inline_js[i](window.Bokeh);\n",
       "        }if (force === true) {\n",
       "          display_loaded();\n",
       "        }} else if (Date.now() < window._bokeh_timeout) {\n",
       "        setTimeout(run_inline_js, 100);\n",
       "      } else if (!window._bokeh_failed_load) {\n",
       "        console.log(\"Bokeh: BokehJS failed to load within specified timeout.\");\n",
       "        window._bokeh_failed_load = true;\n",
       "      } else if (force !== true) {\n",
       "        var cell = $(document.getElementById(\"41ed6c62-f57d-47c2-8afd-b66f79ef67c1\")).parents('.cell').data().cell;\n",
       "        cell.output_area.append_execute_result(NB_LOAD_WARNING)\n",
       "      }\n",
       "  \n",
       "    }\n",
       "  \n",
       "    if (window._bokeh_is_loading === 0) {\n",
       "      console.log(\"Bokeh: BokehJS loaded, going straight to plotting\");\n",
       "      run_inline_js();\n",
       "    } else {\n",
       "      load_libs(js_urls, function() {\n",
       "        console.log(\"Bokeh: BokehJS plotting callback run at\", now());\n",
       "        run_inline_js();\n",
       "      });\n",
       "    }\n",
       "  }(this));\n",
       "</script>"
      ]
     },
     "metadata": {},
     "output_type": "display_data"
    }
   ],
   "source": [
    "# Instantiate the figure and add axis labels. \n",
    "p = mscl.bokeh_boiler(plot_width=600, plot_height=400, x_axis_type='log',\n",
    "                      y_axis_type='log', x_axis_label='I\\u2081 + I\\u2082',\n",
    "                      y_axis_label='(I\\u2081 - I\\u2082)\\u00B2')\n",
    "\n",
    "# Plot the data and the theoretical prediction.\n",
    "p.circle(x=df['I_tot'], y=df['sq_diff'],color='slategray', \n",
    "         alpha=0.4, legend='simulated data')\n",
    "p.line(x=I_tot_range, y=prediction, color='tomato',\n",
    "      legend='α\\u2080 + α(Ι\\u2081 + I\\u2082)', line_width=2)\n",
    "p.circle(x=mean_sum, y=mean_sqdiff, color='dodgerblue', legend='binned points')\n",
    "p.line(x = I_tot_range, y=slope * I_tot_range, line_width=2, \n",
    "       color='dodgerblue', legend='line from linear regression')\n",
    "\n",
    "# Add a legend and show the plot\n",
    "p.legend.location='top_left'\n",
    "\n",
    "bokeh.io.show(p)"
   ]
  },
  {
   "cell_type": "markdown",
   "metadata": {},
   "source": [
    "### Implementation via the MCMC hammer "
   ]
  },
  {
   "cell_type": "code",
   "execution_count": 78,
   "metadata": {
    "collapsed": true
   },
   "outputs": [],
   "source": [
    "def log_marginalized_normal(params, i1, i2):\n",
    "    \"\"\"\n",
    "    Computes an (unnormalized) Student-t distribution as the result of \n",
    "    marginalization over σ from the normal distribution for.\n",
    "    \n",
    "    Parameter\n",
    "    ---------\n",
    "    params : tuple of nd-arrays.\n",
    "        Tuple or list of the parameters. They should be given in the \n",
    "        following order.\n",
    "        \n",
    "    \"\"\" \n",
    "    # All parameters must be positive\n",
    "    if (params < 0).any():\n",
    "        return -np.inf\n",
    "\n",
    "    # Extract parameters\n",
    "    n = len(i1)\n",
    "    alpha = params[0] \n",
    "    N1 = params[1:n+1]\n",
    "    Ntot = params[n+1:]\n",
    "    \n",
    "    # Make sure N1 and Ntot are physical\n",
    "    if (N1 > Ntot).any():\n",
    "        return -np.inf\n",
    "    \n",
    "    # Return log posterior\n",
    "    return -Ntot.sum() * np.log(2) \\\n",
    "            + scipy.special.gammaln(Ntot+1).sum() \\\n",
    "            - scipy.special.gammaln(N1+1).sum() \\\n",
    "            - scipy.special.gammaln(Ntot-N1+1).sum() \\\n",
    "            - n / 2 * np.log(((i1 - (alpha_0 + alpha * N1))**2 \n",
    "                              + (i2 - (alpha_0 + alpha * (Ntot - N1)))**2).sum())\n",
    "\n"
   ]
  },
  {
   "cell_type": "code",
   "execution_count": 89,
   "metadata": {
    "scrolled": true
   },
   "outputs": [],
   "source": [
    "# Set the starting positions given our optimal value of alpha.\n",
    "N1_0 = df['I_1'].values / alpha_opt\n",
    "Ntot_0 = df['I_tot'].values / alpha_opt\n",
    "\n",
    "# Set up MCMC problem\n",
    "n = len(df['I_1'])\n",
    "n_dim = 2 * len(df['I_1']) + 1\n",
    "n_walkers =  3 * n_dim + 1\n",
    "n_burn = 1000 \n",
    "n_steps = 1000 \n",
    "thin = 1  # Only store every 100 samples\n",
    "\n",
    "# p0[i,j] is the starting point for walk i along variable j.\n",
    "# Ensure we start with Ntot >= N1\n",
    "p0 = np.empty((n_walkers, n_dim))\n",
    "p0[:,0] = np.random.normal(alpha_opt, 1, n_walkers)\n",
    "# alpha_opt + \\\n",
    "#         np.random.uniform(-alpha_opt*0.01, alpha_opt*0.01, n_walkers)\n",
    "p0[:,1:n+1] = N1_0 + \\\n",
    "        np.random.uniform(0, N1_0*0.01, size=(n_walkers, n))\n",
    "p0[:,n+1:] = Ntot_0 + \\\n",
    "        np.random.uniform(Ntot_0*0.01, Ntot_0*0.02, size=(n_walkers, n))\n",
    "\n",
    "# Instantiate sampler \n",
    "sampler = emcee.EnsembleSampler(n_walkers, n_dim, log_marginalized_normal, \n",
    "                                args=(df['I_1'], df['I_2']), threads=46)"
   ]
  },
  {
   "cell_type": "code",
   "execution_count": 90,
   "metadata": {},
   "outputs": [
    {
     "name": "stdout",
     "output_type": "stream",
     "text": [
      "Doing burn-in\n",
      "sampling\n",
      "finished!\n"
     ]
    }
   ],
   "source": [
    "print('Doing burn-in', flush=True)\n",
    "pos, prob, state = sampler.run_mcmc(p0, n_burn, storechain=False)\n",
    "\n",
    "# Sample again, starting from end burn-in state\n",
    "print('sampling', flush=True)\n",
    "_ = sampler.run_mcmc(pos, n_steps, thin=thin)\n",
    "print('finished!')"
   ]
  },
  {
   "cell_type": "code",
   "execution_count": 91,
   "metadata": {},
   "outputs": [
    {
     "data": {
      "image/png": "[encoded data removed]",
      "text/plain": [
       "<matplotlib.figure.Figure at 0x1c27c206a0>"
      ]
     },
     "metadata": {},
     "output_type": "display_data"
    }
   ],
   "source": [
    "_ = corner.corner(sampler.flatchain[:, 0:2])"
   ]
  },
  {
   "cell_type": "code",
   "execution_count": null,
   "metadata": {
    "collapsed": true
   },
   "outputs": [],
   "source": [
    "def gelman_rubin(chain):\n",
    "    ssq = np.var(chain, axis=1, ddof=1)\n",
    "    W = np.mean(ssq, axis=0)\n",
    "    θb = np.mean(chain, axis=1)\n",
    "    θbb = np.mean(θb, axis=0)\n",
    "    m = chain.shape[0]\n",
    "    n = chain.shape[1]\n",
    "    B = n / (m - 1) * np.sum((θbb - θb)**2, axis=0)\n",
    "    var_θ = (n - 1) / n * W + 1 / n * B\n",
    "    r_hat = np.sqrt(var_θ / W)\n",
    "    return r_hat"
   ]
  },
  {
   "cell_type": "code",
   "execution_count": null,
   "metadata": {
    "collapsed": true
   },
   "outputs": [],
   "source": [
    "chains = [c for c in sampler.chain[:, :, :]]\n",
    "for c in chains:\n",
    "    a = gelman_rubin(c)\n",
    "    print(a)"
   ]
  },
  {
   "cell_type": "code",
   "execution_count": null,
   "metadata": {
    "collapsed": true
   },
   "outputs": [],
   "source": [
    "np.shape(sampler.chain)"
   ]
  },
  {
   "cell_type": "code",
   "execution_count": null,
   "metadata": {
    "collapsed": true
   },
   "outputs": [],
   "source": [
    "sampler.chain[1]"
   ]
  },
  {
   "cell_type": "code",
   "execution_count": null,
   "metadata": {
    "collapsed": true
   },
   "outputs": [],
   "source": [
    "p1 = mscl.bokeh_boiler(width=400)\n",
    "p2 = mscl.bokeh_boiler(width=400)\n",
    "x, y = mscl.ecdf(sampler.flatchain[:, 0])\n",
    "p1.line(x, y, color='dodgerblue')\n",
    "\n",
    "hist, bins = np.histogram(sampler.flatchain[:, 0], bins=1000)\n",
    "p2.quad(bottom=0, top=hist, left=bins[1:], right=bins[:-1], color='dodgerblue', \n",
    "      alpha=0.5)\n",
    "\n",
    "grid = bokeh.layouts.gridplot([[p1, p2]])\n",
    "bokeh.io.show(grid)"
   ]
  }
 ],
 "metadata": {
  "kernelspec": {
   "display_name": "Python 3",
   "language": "python",
   "name": "python3"
  },
  "language_info": {
   "codemirror_mode": {
    "name": "ipython",
    "version": 3
   },
   "file_extension": ".py",
   "mimetype": "text/x-python",
   "name": "python",
   "nbconvert_exporter": "python",
   "pygments_lexer": "ipython3",
   "version": "3.6.3"
  }
 },
 "nbformat": 4,
 "nbformat_minor": 2
}
