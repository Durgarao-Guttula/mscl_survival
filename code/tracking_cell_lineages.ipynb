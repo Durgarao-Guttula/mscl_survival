{
 "cells": [
  {
   "cell_type": "markdown",
   "metadata": {},
   "source": [
    "# Tracking Lineages with SuperSegger "
   ]
  },
  {
   "cell_type": "code",
   "execution_count": 12,
   "metadata": {},
   "outputs": [
    {
     "data": {
      "text/html": [
       "\n",
       "    <div class=\"bk-root\">\n",
       "        <a href=\"http://bokeh.pydata.org\" target=\"_blank\" class=\"bk-logo bk-logo-small bk-logo-notebook\"></a>\n",
       "        <span id=\"eba09c8d-d4d0-4617-ae1d-6b9fac061c6f\">Loading BokehJS ...</span>\n",
       "    </div>"
      ]
     },
     "metadata": {},
     "output_type": "display_data"
    },
    {
     "data": {
      "application/javascript": [
       "\n",
       "(function(global) {\n",
       "  function now() {\n",
       "    return new Date();\n",
       "  }\n",
       "\n",
       "  var force = true;\n",
       "\n",
       "  if (typeof (window._bokeh_onload_callbacks) === \"undefined\" || force === true) {\n",
       "    window._bokeh_onload_callbacks = [];\n",
       "    window._bokeh_is_loading = undefined;\n",
       "  }\n",
       "\n",
       "\n",
       "  \n",
       "  if (typeof (window._bokeh_timeout) === \"undefined\" || force === true) {\n",
       "    window._bokeh_timeout = Date.now() + 5000;\n",
       "    window._bokeh_failed_load = false;\n",
       "  }\n",
       "\n",
       "  var NB_LOAD_WARNING = {'data': {'text/html':\n",
       "     \"<div style='background-color: #fdd'>\\n\"+\n",
       "     \"<p>\\n\"+\n",
       "     \"BokehJS does not appear to have successfully loaded. If loading BokehJS from CDN, this \\n\"+\n",
       "     \"may be due to a slow or bad network connection. Possible fixes:\\n\"+\n",
       "     \"</p>\\n\"+\n",
       "     \"<ul>\\n\"+\n",
       "     \"<li>re-rerun `output_notebook()` to attempt to load from CDN again, or</li>\\n\"+\n",
       "     \"<li>use INLINE resources instead, as so:</li>\\n\"+\n",
       "     \"</ul>\\n\"+\n",
       "     \"<code>\\n\"+\n",
       "     \"from bokeh.resources import INLINE\\n\"+\n",
       "     \"output_notebook(resources=INLINE)\\n\"+\n",
       "     \"</code>\\n\"+\n",
       "     \"</div>\"}};\n",
       "\n",
       "  function display_loaded() {\n",
       "    if (window.Bokeh !== undefined) {\n",
       "      document.getElementById(\"eba09c8d-d4d0-4617-ae1d-6b9fac061c6f\").textContent = \"BokehJS successfully loaded.\";\n",
       "    } else if (Date.now() < window._bokeh_timeout) {\n",
       "      setTimeout(display_loaded, 100)\n",
       "    }\n",
       "  }\n",
       "\n",
       "  function run_callbacks() {\n",
       "    window._bokeh_onload_callbacks.forEach(function(callback) { callback() });\n",
       "    delete window._bokeh_onload_callbacks\n",
       "    console.info(\"Bokeh: all callbacks have finished\");\n",
       "  }\n",
       "\n",
       "  function load_libs(js_urls, callback) {\n",
       "    window._bokeh_onload_callbacks.push(callback);\n",
       "    if (window._bokeh_is_loading > 0) {\n",
       "      console.log(\"Bokeh: BokehJS is being loaded, scheduling callback at\", now());\n",
       "      return null;\n",
       "    }\n",
       "    if (js_urls == null || js_urls.length === 0) {\n",
       "      run_callbacks();\n",
       "      return null;\n",
       "    }\n",
       "    console.log(\"Bokeh: BokehJS not loaded, scheduling load and callback at\", now());\n",
       "    window._bokeh_is_loading = js_urls.length;\n",
       "    for (var i = 0; i < js_urls.length; i++) {\n",
       "      var url = js_urls[i];\n",
       "      var s = document.createElement('script');\n",
       "      s.src = url;\n",
       "      s.async = false;\n",
       "      s.onreadystatechange = s.onload = function() {\n",
       "        window._bokeh_is_loading--;\n",
       "        if (window._bokeh_is_loading === 0) {\n",
       "          console.log(\"Bokeh: all BokehJS libraries loaded\");\n",
       "          run_callbacks()\n",
       "        }\n",
       "      };\n",
       "      s.onerror = function() {\n",
       "        console.warn(\"failed to load library \" + url);\n",
       "      };\n",
       "      console.log(\"Bokeh: injecting script tag for BokehJS library: \", url);\n",
       "      document.getElementsByTagName(\"head\")[0].appendChild(s);\n",
       "    }\n",
       "  };var element = document.getElementById(\"eba09c8d-d4d0-4617-ae1d-6b9fac061c6f\");\n",
       "  if (element == null) {\n",
       "    console.log(\"Bokeh: ERROR: autoload.js configured with elementid 'eba09c8d-d4d0-4617-ae1d-6b9fac061c6f' but no matching script tag was found. \")\n",
       "    return false;\n",
       "  }\n",
       "\n",
       "  var js_urls = [\"https://cdn.pydata.org/bokeh/release/bokeh-0.12.4.min.js\", \"https://cdn.pydata.org/bokeh/release/bokeh-widgets-0.12.4.min.js\"];\n",
       "\n",
       "  var inline_js = [\n",
       "    function(Bokeh) {\n",
       "      Bokeh.set_log_level(\"info\");\n",
       "    },\n",
       "    \n",
       "    function(Bokeh) {\n",
       "      \n",
       "      document.getElementById(\"eba09c8d-d4d0-4617-ae1d-6b9fac061c6f\").textContent = \"BokehJS is loading...\";\n",
       "    },\n",
       "    function(Bokeh) {\n",
       "      console.log(\"Bokeh: injecting CSS: https://cdn.pydata.org/bokeh/release/bokeh-0.12.4.min.css\");\n",
       "      Bokeh.embed.inject_css(\"https://cdn.pydata.org/bokeh/release/bokeh-0.12.4.min.css\");\n",
       "      console.log(\"Bokeh: injecting CSS: https://cdn.pydata.org/bokeh/release/bokeh-widgets-0.12.4.min.css\");\n",
       "      Bokeh.embed.inject_css(\"https://cdn.pydata.org/bokeh/release/bokeh-widgets-0.12.4.min.css\");\n",
       "    }\n",
       "  ];\n",
       "\n",
       "  function run_inline_js() {\n",
       "    \n",
       "    if ((window.Bokeh !== undefined) || (force === true)) {\n",
       "      for (var i = 0; i < inline_js.length; i++) {\n",
       "        inline_js[i](window.Bokeh);\n",
       "      }if (force === true) {\n",
       "        display_loaded();\n",
       "      }} else if (Date.now() < window._bokeh_timeout) {\n",
       "      setTimeout(run_inline_js, 100);\n",
       "    } else if (!window._bokeh_failed_load) {\n",
       "      console.log(\"Bokeh: BokehJS failed to load within specified timeout.\");\n",
       "      window._bokeh_failed_load = true;\n",
       "    } else if (force !== true) {\n",
       "      var cell = $(document.getElementById(\"eba09c8d-d4d0-4617-ae1d-6b9fac061c6f\")).parents('.cell').data().cell;\n",
       "      cell.output_area.append_execute_result(NB_LOAD_WARNING)\n",
       "    }\n",
       "\n",
       "  }\n",
       "\n",
       "  if (window._bokeh_is_loading === 0) {\n",
       "    console.log(\"Bokeh: BokehJS loaded, going straight to plotting\");\n",
       "    run_inline_js();\n",
       "  } else {\n",
       "    load_libs(js_urls, function() {\n",
       "      console.log(\"Bokeh: BokehJS plotting callback run at\", now());\n",
       "      run_inline_js();\n",
       "    });\n",
       "  }\n",
       "}(this));"
      ]
     },
     "metadata": {},
     "output_type": "display_data"
    }
   ],
   "source": [
    "import numpy as np\n",
    "import pandas as pd\n",
    "import mscl_utils as mscl\n",
    "import bokeh.io\n",
    "import glob\n",
    "import bokeh.plotting\n",
    "import matlab.engine as matlab\n",
    "import scipy.io\n",
    "bokeh.io.output_notebook()"
   ]
  },
  {
   "cell_type": "markdown",
   "metadata": {},
   "source": [
    "This notebook demonstrates how the output from a SuperSegger session is parsed and read into Python. Note that this notebook requires that Matlab R2017B or higher is installed (along with the Matlab Python API) for Python 3.6+.  "
   ]
  },
  {
   "cell_type": "markdown",
   "metadata": {},
   "source": [
    "## The `Cell` File "
   ]
  },
  {
   "cell_type": "markdown",
   "metadata": {},
   "source": [
    "While supersegger outputs several useful things, the files we will be the most interested in are the `c/Cell.mat` files in each position. The structure of these ouputs are described in great detail [on the SuperSegger Wiki page](). Each individual cell has a corresponding `.mat` file which contains information about the time of birth, time of death, fluorescence information, etc. Most importantly, it contains information about its assigned ID as well as its mothers' and sister IDs. While these files exist as Matlab `.mat` files, we can easily load them in to Python using the `scipy.io.loadmat` function.\n",
    "\n",
    "We can load an example `cell.mat` file to get the key information. "
   ]
  },
  {
   "cell_type": "code",
   "execution_count": 93,
   "metadata": {},
   "outputs": [
    {
     "data": {
      "text/plain": [
       "dict_keys(['CellA', 'death', 'birth', 'divide', 'sisterID', 'motherID', 'daughterID', 'ID', 'neighbors', 'stat0', 'ehist', 'contactHist'])"
      ]
     },
     "execution_count": 93,
     "metadata": {},
     "output_type": "execute_result"
    }
   ],
   "source": [
    "# Define the data directory for a single image position. \n",
    "data_dir = '../data/images/20171017_sfGFP_10ngmL_dilution/growth/xy00/cell/'\n",
    "\n",
    "# Grab all of the mat files. Note that these exist as cell and Cell. \n",
    "mat_files = glob.glob('{0}*.mat'.format(data_dir))\n",
    "example_mat = mat_files[0]\n",
    "\n",
    "# Define `example_mat` as a variable in Matlab workspace. \n",
    "eng.workspace['f'] = example_mat\n",
    "\n",
    "# Load the matfile in Matlab and assign it to a Python variable. \n",
    "mat_file = eng.eval('load(f)')\n",
    "\n",
    "# Print out the keys of the mat_file.\n",
    "mat_file.keys()"
   ]
  },
  {
   "cell_type": "markdown",
   "metadata": {},
   "source": [
    "While this looks like a very short list, the `CellA` value is also a dictionary containing information about the segmentation mask, fluorescence, area, etc. for every frame in the time-lapse. We would like to have all cell information for a single position in a tidy pandas DataFrame. Below are two functions which do exactly that. "
   ]
  },
  {
   "cell_type": "code",
   "execution_count": 137,
   "metadata": {},
   "outputs": [],
   "source": [
    "def cell_to_dict(file, add_props=None, excluded_props=None):\n",
    "    \"\"\"\n",
    "    Reads a single cell file and produces a dictionary containing\n",
    "    the properties of interest. \n",
    "    \n",
    "    The returned properties are \n",
    "    * birth - frame number at which the cell was born.\n",
    "    * death - frame number at which the cell died.\n",
    "    * divide - bool for an observed cell division.\n",
    "    * ID - integer ID number of the cell.\n",
    "    * motherID - integer ID number of the mother cell.\n",
    "    * sisterID - integer ID number of the sister cell.\n",
    "    * birth_fluo - fluorescence value at the cell's birth.\n",
    "    * death_fluo - fluorescence value at the cell's death.\n",
    "    * daughter_1_ID - integer ID number of the first daughter.\n",
    "    * daughter_2_ID - integer ID number of the second daughter.\n",
    "    \n",
    "    \n",
    "    Parameters\n",
    "    ----------\n",
    "    file: str\n",
    "        Path of the cell file. This must be in a `.mat` format.\n",
    "    add_props : dict, default None\n",
    "        Dictionary of additional properties (not found in the mat file)\n",
    "        to be included in the returned dictionary.\n",
    "    excluded_props: list of str\n",
    "        Properties of cell.mat file to be ignored. These must be \n",
    "        exactly how they are defined in the cell file.\n",
    "    \n",
    "    Returns\n",
    "    -------\n",
    "    cell_dict : dictionary\n",
    "        Dictionary of all extracted properties from the cell files. \n",
    "    \"\"\"\n",
    "    \n",
    "    # Ensure the supplied file is actually a .mat and other types are correct. \n",
    "    if file.split('.')[-1] != 'mat':\n",
    "        raise TypeError(\"supplied file {0} is not a `.mat` file.\".format(file))\n",
    "    if add_props is not None and type(add_props) is not dict:\n",
    "        raise TypeError(\"add_props is {0} and not dict.\".format(type(add_props)))                  \n",
    "    if excluded_props is not None and type(excluded_props) is not list:\n",
    "        raise TypeError(\"add_props must be list. Type is currently {0}.\".format(type(excluded_props)))\n",
    "                        \n",
    "    # Define the values of interest.\n",
    "    vals = ['birth', 'death', 'divide', 'ID', 'motherID', 'sisterID', \n",
    "             'daughter_1_ID', 'daughter_2_ID', 'birth_fluo', 'death_fluo'] \n",
    "    \n",
    "    # Load the mat file using MATLAB.\n",
    "    mat = scipy.io.loadmat(file, squeeze_me=True,\n",
    "                      chars_as_strings=True,\n",
    "                      struct_as_record=True)\n",
    "    \n",
    "    # Assemble the dictionary for constant properties. \n",
    "    cell_dict = {v: mat[v] for v in vals[:-4]}\n",
    "    daughters = mat['daughterID']\n",
    "    \n",
    "    # Determine  if daughters were produced. If not, change ID to NaN.\n",
    "    if len(daughters) == 0:\n",
    "        daughter_1, daughter_2 = None,  None\n",
    "    else:\n",
    "        daughter_1, daughter_2 = daughters \n",
    "    cell_dict['daughter_1_ID'] = daughter_1\n",
    "    cell_dict['daughter_2_ID'] = daughter_2\n",
    "     \n",
    "    # Extract fluorescence information -- This is a bit gross but checked.\n",
    "    cell_dict['birth_fluo'] = mat['CellA'][0]['fl1'].flatten()[0].flatten()[0][0]\n",
    "    cell_dict['death_fluo'] = mat['CellA'][-1]['fl1'].flatten()[0].flatten()[0][0]\n",
    "    \n",
    "    # Deal with exclusion and addition of props. \n",
    "    if excluded_props is not None:\n",
    "        new_dict = {}\n",
    "        keys = cell_dict.keys()\n",
    "        for key in keys not in excluded_props:\n",
    "            new_dict[key] = cell_dict[key]\n",
    "        cell_dict = new_dict\n",
    "    if add_props is not None:\n",
    "        for key in add_props.keys(): \n",
    "            cell_dict[key] = add_props[key]\n",
    "                        \n",
    "    # Return the cell dictionary.\n",
    "    return cell_dict\n",
    "\n",
    "def parse_cell_files(files, add_props=None, excluded_props=None):\n",
    "    \"\"\"\n",
    "    Executes cell_to_dict across a list of files and returns a Pandas DataFrame.\n",
    "    \"\"\"\n",
    "    if type(files) is not list:\n",
    "        raise TypeError(\"'files' is type {0} not list.\".format(type(files)))\n",
    "    for i, f in enumerate(files):\n",
    "        cell_dict = cell_to_dict(f, add_props=add_props, \n",
    "                                 excluded_props=excluded_props)\n",
    "        if i == 0:\n",
    "            keys = cell_dict.keys()\n",
    "            df = pd.DataFrame([], columns=keys)\n",
    "            df = df.append(cell_dict, ignore_index=True)\n",
    "        else:\n",
    "            df = df.append(cell_dict, ignore_index=True)\n",
    "    return df            "
   ]
  },
  {
   "cell_type": "markdown",
   "metadata": {},
   "source": [
    "We can test this function out on an example mat file. \n",
    "\n"
   ]
  },
  {
   "cell_type": "code",
   "execution_count": 138,
   "metadata": {},
   "outputs": [
    {
     "data": {
      "text/html": [
       "<div>\n",
       "<style>\n",
       "    .dataframe thead tr:only-child th {\n",
       "        text-align: right;\n",
       "    }\n",
       "\n",
       "    .dataframe thead th {\n",
       "        text-align: left;\n",
       "    }\n",
       "\n",
       "    .dataframe tbody tr th {\n",
       "        vertical-align: top;\n",
       "    }\n",
       "</style>\n",
       "<table border=\"1\" class=\"dataframe\">\n",
       "  <thead>\n",
       "    <tr style=\"text-align: right;\">\n",
       "      <th></th>\n",
       "      <th>birth</th>\n",
       "      <th>death</th>\n",
       "      <th>divide</th>\n",
       "      <th>ID</th>\n",
       "      <th>motherID</th>\n",
       "      <th>sisterID</th>\n",
       "      <th>daughter_1_ID</th>\n",
       "      <th>daughter_2_ID</th>\n",
       "      <th>birth_fluo</th>\n",
       "      <th>death_fluo</th>\n",
       "    </tr>\n",
       "  </thead>\n",
       "  <tbody>\n",
       "    <tr>\n",
       "      <th>0</th>\n",
       "      <td>25.0</td>\n",
       "      <td>26.0</td>\n",
       "      <td>0.0</td>\n",
       "      <td>117.0</td>\n",
       "      <td>66.0</td>\n",
       "      <td>116.0</td>\n",
       "      <td>NaN</td>\n",
       "      <td>NaN</td>\n",
       "      <td>0.0</td>\n",
       "      <td>103215.0</td>\n",
       "    </tr>\n",
       "  </tbody>\n",
       "</table>\n",
       "</div>"
      ],
      "text/plain": [
       "   birth  death  divide     ID  motherID  sisterID  daughter_1_ID  \\\n",
       "0   25.0   26.0     0.0  117.0      66.0     116.0            NaN   \n",
       "\n",
       "   daughter_2_ID  birth_fluo  death_fluo  \n",
       "0            NaN         0.0    103215.0  "
      ]
     },
     "execution_count": 138,
     "metadata": {},
     "output_type": "execute_result"
    }
   ],
   "source": [
    "mat_df = parse_cell_files([example_mat])\n",
    "mat_df.head()"
   ]
  },
  {
   "cell_type": "markdown",
   "metadata": {},
   "source": [
    "## Mapping the lineages "
   ]
  },
  {
   "cell_type": "markdown",
   "metadata": {},
   "source": [
    "To ensure that the experiment is working as advertised, it's important to show that the total fluorescence is conserved across a lineage. This means that the total fluorescence of a mother cell should be equivalent to the sum of the total fluorescence of all of its daughters. Unfortunately, this also means that we"
   ]
  },
  {
   "cell_type": "code",
   "execution_count": 69,
   "metadata": {},
   "outputs": [
    {
     "data": {
      "text/plain": [
       "['birth_frame', 'death_frame', 'division', 'ID', 'mother_ID', 'sister_ID']"
      ]
     },
     "execution_count": 69,
     "metadata": {},
     "output_type": "execute_result"
    }
   ],
   "source": [
    "vals[:-4]"
   ]
  },
  {
   "cell_type": "code",
   "execution_count": 86,
   "metadata": {},
   "outputs": [
    {
     "name": "stdout",
     "output_type": "stream",
     "text": [
      "yes\n"
     ]
    }
   ],
   "source": [
    "a = [1, 2, 3]\n",
    "if type(a) is list:\n",
    "    print('yes')\n"
   ]
  },
  {
   "cell_type": "code",
   "execution_count": 111,
   "metadata": {},
   "outputs": [
    {
     "data": {
      "text/plain": [
       "0"
      ]
     },
     "execution_count": 111,
     "metadata": {},
     "output_type": "execute_result"
    }
   ],
   "source": [
    "test_mat = scipy.io.loadmat(example_mat, squeeze_me=True,\n",
    "                      chars_as_strings=True,\n",
    "                      struct_as_record=True)\n",
    "(test_mat['CellA'][0]['fl1'].flatten()[0].flatten()[0][0])\n"
   ]
  },
  {
   "cell_type": "code",
   "execution_count": 128,
   "metadata": {},
   "outputs": [
    {
     "ename": "TypeError",
     "evalue": "Index(...) must be called with a collection of some kind, 0 was passed",
     "output_type": "error",
     "traceback": [
      "\u001b[0;31m---------------------------------------------------------------------------\u001b[0m",
      "\u001b[0;31mTypeError\u001b[0m                                 Traceback (most recent call last)",
      "\u001b[0;32m<ipython-input-128-9b6974d8010f>\u001b[0m in \u001b[0;36m<module>\u001b[0;34m()\u001b[0m\n\u001b[0;32m----> 1\u001b[0;31m \u001b[0mpd\u001b[0m\u001b[0;34m.\u001b[0m\u001b[0mDataFrame\u001b[0m\u001b[0;34m(\u001b[0m\u001b[0mdict\u001b[0m\u001b[0;34m(\u001b[0m\u001b[0ma\u001b[0m\u001b[0;34m=\u001b[0m\u001b[0;36m1\u001b[0m\u001b[0;34m,\u001b[0m \u001b[0mb\u001b[0m\u001b[0;34m=\u001b[0m\u001b[0;36m2\u001b[0m\u001b[0;34m)\u001b[0m\u001b[0;34m,\u001b[0m \u001b[0mindex\u001b[0m\u001b[0;34m=\u001b[0m\u001b[0;34m(\u001b[0m\u001b[0;36m0\u001b[0m\u001b[0;34m)\u001b[0m\u001b[0;34m)\u001b[0m\u001b[0;34m\u001b[0m\u001b[0m\n\u001b[0m",
      "\u001b[0;32m~/anaconda/lib/python3.6/site-packages/pandas/core/frame.py\u001b[0m in \u001b[0;36m__init__\u001b[0;34m(self, data, index, columns, dtype, copy)\u001b[0m\n\u001b[1;32m    273\u001b[0m                                  dtype=dtype, copy=copy)\n\u001b[1;32m    274\u001b[0m         \u001b[0;32melif\u001b[0m \u001b[0misinstance\u001b[0m\u001b[0;34m(\u001b[0m\u001b[0mdata\u001b[0m\u001b[0;34m,\u001b[0m \u001b[0mdict\u001b[0m\u001b[0;34m)\u001b[0m\u001b[0;34m:\u001b[0m\u001b[0;34m\u001b[0m\u001b[0m\n\u001b[0;32m--> 275\u001b[0;31m             \u001b[0mmgr\u001b[0m \u001b[0;34m=\u001b[0m \u001b[0mself\u001b[0m\u001b[0;34m.\u001b[0m\u001b[0m_init_dict\u001b[0m\u001b[0;34m(\u001b[0m\u001b[0mdata\u001b[0m\u001b[0;34m,\u001b[0m \u001b[0mindex\u001b[0m\u001b[0;34m,\u001b[0m \u001b[0mcolumns\u001b[0m\u001b[0;34m,\u001b[0m \u001b[0mdtype\u001b[0m\u001b[0;34m=\u001b[0m\u001b[0mdtype\u001b[0m\u001b[0;34m)\u001b[0m\u001b[0;34m\u001b[0m\u001b[0m\n\u001b[0m\u001b[1;32m    276\u001b[0m         \u001b[0;32melif\u001b[0m \u001b[0misinstance\u001b[0m\u001b[0;34m(\u001b[0m\u001b[0mdata\u001b[0m\u001b[0;34m,\u001b[0m \u001b[0mma\u001b[0m\u001b[0;34m.\u001b[0m\u001b[0mMaskedArray\u001b[0m\u001b[0;34m)\u001b[0m\u001b[0;34m:\u001b[0m\u001b[0;34m\u001b[0m\u001b[0m\n\u001b[1;32m    277\u001b[0m             \u001b[0;32mimport\u001b[0m \u001b[0mnumpy\u001b[0m\u001b[0;34m.\u001b[0m\u001b[0mma\u001b[0m\u001b[0;34m.\u001b[0m\u001b[0mmrecords\u001b[0m \u001b[0;32mas\u001b[0m \u001b[0mmrecords\u001b[0m\u001b[0;34m\u001b[0m\u001b[0m\n",
      "\u001b[0;32m~/anaconda/lib/python3.6/site-packages/pandas/core/frame.py\u001b[0m in \u001b[0;36m_init_dict\u001b[0;34m(self, data, index, columns, dtype)\u001b[0m\n\u001b[1;32m    409\u001b[0m             \u001b[0marrays\u001b[0m \u001b[0;34m=\u001b[0m \u001b[0;34m[\u001b[0m\u001b[0mdata\u001b[0m\u001b[0;34m[\u001b[0m\u001b[0mk\u001b[0m\u001b[0;34m]\u001b[0m \u001b[0;32mfor\u001b[0m \u001b[0mk\u001b[0m \u001b[0;32min\u001b[0m \u001b[0mkeys\u001b[0m\u001b[0;34m]\u001b[0m\u001b[0;34m\u001b[0m\u001b[0m\n\u001b[1;32m    410\u001b[0m \u001b[0;34m\u001b[0m\u001b[0m\n\u001b[0;32m--> 411\u001b[0;31m         \u001b[0;32mreturn\u001b[0m \u001b[0m_arrays_to_mgr\u001b[0m\u001b[0;34m(\u001b[0m\u001b[0marrays\u001b[0m\u001b[0;34m,\u001b[0m \u001b[0mdata_names\u001b[0m\u001b[0;34m,\u001b[0m \u001b[0mindex\u001b[0m\u001b[0;34m,\u001b[0m \u001b[0mcolumns\u001b[0m\u001b[0;34m,\u001b[0m \u001b[0mdtype\u001b[0m\u001b[0;34m=\u001b[0m\u001b[0mdtype\u001b[0m\u001b[0;34m)\u001b[0m\u001b[0;34m\u001b[0m\u001b[0m\n\u001b[0m\u001b[1;32m    412\u001b[0m \u001b[0;34m\u001b[0m\u001b[0m\n\u001b[1;32m    413\u001b[0m     \u001b[0;32mdef\u001b[0m \u001b[0m_init_ndarray\u001b[0m\u001b[0;34m(\u001b[0m\u001b[0mself\u001b[0m\u001b[0;34m,\u001b[0m \u001b[0mvalues\u001b[0m\u001b[0;34m,\u001b[0m \u001b[0mindex\u001b[0m\u001b[0;34m,\u001b[0m \u001b[0mcolumns\u001b[0m\u001b[0;34m,\u001b[0m \u001b[0mdtype\u001b[0m\u001b[0;34m=\u001b[0m\u001b[0;32mNone\u001b[0m\u001b[0;34m,\u001b[0m \u001b[0mcopy\u001b[0m\u001b[0;34m=\u001b[0m\u001b[0;32mFalse\u001b[0m\u001b[0;34m)\u001b[0m\u001b[0;34m:\u001b[0m\u001b[0;34m\u001b[0m\u001b[0m\n",
      "\u001b[0;32m~/anaconda/lib/python3.6/site-packages/pandas/core/frame.py\u001b[0m in \u001b[0;36m_arrays_to_mgr\u001b[0;34m(arrays, arr_names, index, columns, dtype)\u001b[0m\n\u001b[1;32m   5496\u001b[0m         \u001b[0mindex\u001b[0m \u001b[0;34m=\u001b[0m \u001b[0mextract_index\u001b[0m\u001b[0;34m(\u001b[0m\u001b[0marrays\u001b[0m\u001b[0;34m)\u001b[0m\u001b[0;34m\u001b[0m\u001b[0m\n\u001b[1;32m   5497\u001b[0m     \u001b[0;32melse\u001b[0m\u001b[0;34m:\u001b[0m\u001b[0;34m\u001b[0m\u001b[0m\n\u001b[0;32m-> 5498\u001b[0;31m         \u001b[0mindex\u001b[0m \u001b[0;34m=\u001b[0m \u001b[0m_ensure_index\u001b[0m\u001b[0;34m(\u001b[0m\u001b[0mindex\u001b[0m\u001b[0;34m)\u001b[0m\u001b[0;34m\u001b[0m\u001b[0m\n\u001b[0m\u001b[1;32m   5499\u001b[0m \u001b[0;34m\u001b[0m\u001b[0m\n\u001b[1;32m   5500\u001b[0m     \u001b[0;31m# don't force copy because getting jammed in an ndarray anyway\u001b[0m\u001b[0;34m\u001b[0m\u001b[0;34m\u001b[0m\u001b[0m\n",
      "\u001b[0;32m~/anaconda/lib/python3.6/site-packages/pandas/core/indexes/base.py\u001b[0m in \u001b[0;36m_ensure_index\u001b[0;34m(index_like, copy)\u001b[0m\n\u001b[1;32m   4025\u001b[0m             \u001b[0mindex_like\u001b[0m \u001b[0;34m=\u001b[0m \u001b[0mcopy\u001b[0m\u001b[0;34m(\u001b[0m\u001b[0mindex_like\u001b[0m\u001b[0;34m)\u001b[0m\u001b[0;34m\u001b[0m\u001b[0m\n\u001b[1;32m   4026\u001b[0m \u001b[0;34m\u001b[0m\u001b[0m\n\u001b[0;32m-> 4027\u001b[0;31m     \u001b[0;32mreturn\u001b[0m \u001b[0mIndex\u001b[0m\u001b[0;34m(\u001b[0m\u001b[0mindex_like\u001b[0m\u001b[0;34m)\u001b[0m\u001b[0;34m\u001b[0m\u001b[0m\n\u001b[0m\u001b[1;32m   4028\u001b[0m \u001b[0;34m\u001b[0m\u001b[0m\n\u001b[1;32m   4029\u001b[0m \u001b[0;34m\u001b[0m\u001b[0m\n",
      "\u001b[0;32m~/anaconda/lib/python3.6/site-packages/pandas/core/indexes/base.py\u001b[0m in \u001b[0;36m__new__\u001b[0;34m(cls, data, dtype, copy, name, fastpath, tupleize_cols, **kwargs)\u001b[0m\n\u001b[1;32m    324\u001b[0m                          **kwargs)\n\u001b[1;32m    325\u001b[0m         \u001b[0;32melif\u001b[0m \u001b[0mdata\u001b[0m \u001b[0;32mis\u001b[0m \u001b[0;32mNone\u001b[0m \u001b[0;32mor\u001b[0m \u001b[0mis_scalar\u001b[0m\u001b[0;34m(\u001b[0m\u001b[0mdata\u001b[0m\u001b[0;34m)\u001b[0m\u001b[0;34m:\u001b[0m\u001b[0;34m\u001b[0m\u001b[0m\n\u001b[0;32m--> 326\u001b[0;31m             \u001b[0mcls\u001b[0m\u001b[0;34m.\u001b[0m\u001b[0m_scalar_data_error\u001b[0m\u001b[0;34m(\u001b[0m\u001b[0mdata\u001b[0m\u001b[0;34m)\u001b[0m\u001b[0;34m\u001b[0m\u001b[0m\n\u001b[0m\u001b[1;32m    327\u001b[0m         \u001b[0;32melse\u001b[0m\u001b[0;34m:\u001b[0m\u001b[0;34m\u001b[0m\u001b[0m\n\u001b[1;32m    328\u001b[0m             if (tupleize_cols and isinstance(data, list) and data and\n",
      "\u001b[0;32m~/anaconda/lib/python3.6/site-packages/pandas/core/indexes/base.py\u001b[0m in \u001b[0;36m_scalar_data_error\u001b[0;34m(cls, data)\u001b[0m\n\u001b[1;32m    676\u001b[0m         raise TypeError('{0}(...) must be called with a collection of some '\n\u001b[1;32m    677\u001b[0m                         'kind, {1} was passed'.format(cls.__name__,\n\u001b[0;32m--> 678\u001b[0;31m                                                       repr(data)))\n\u001b[0m\u001b[1;32m    679\u001b[0m \u001b[0;34m\u001b[0m\u001b[0m\n\u001b[1;32m    680\u001b[0m     \u001b[0;34m@\u001b[0m\u001b[0mclassmethod\u001b[0m\u001b[0;34m\u001b[0m\u001b[0m\n",
      "\u001b[0;31mTypeError\u001b[0m: Index(...) must be called with a collection of some kind, 0 was passed"
     ]
    }
   ],
   "source": [
    "pd.DataFrame(dict(a=1, b=2), index=(0))"
   ]
  },
  {
   "cell_type": "code",
   "execution_count": 113,
   "metadata": {},
   "outputs": [
    {
     "data": {
      "text/plain": [
       "{'Ixx': 1.730041132072942,\n",
       " 'Ixy': -0.11338367054350042,\n",
       " 'Iyy': 6.108859374474545,\n",
       " 'bg': 881.8148870548939,\n",
       " 'r': matlab.double([[78.95350518818468,474.6947286597491]]),\n",
       " 'sum': 55318.0}"
      ]
     },
     "execution_count": 113,
     "metadata": {},
     "output_type": "execute_result"
    }
   ],
   "source": [
    "mat['CellA'][0]['fl1']"
   ]
  },
  {
   "cell_type": "code",
   "execution_count": null,
   "metadata": {
    "collapsed": true
   },
   "outputs": [],
   "source": [
    "q"
   ]
  },
  {
   "cell_type": "code",
   "execution_count": null,
   "metadata": {
    "collapsed": true
   },
   "outputs": [],
   "source": []
  },
  {
   "cell_type": "code",
   "execution_count": 15,
   "metadata": {
    "collapsed": true
   },
   "outputs": [],
   "source": [
    "scipy.io.loadmat?"
   ]
  },
  {
   "cell_type": "code",
   "execution_count": null,
   "metadata": {
    "collapsed": true
   },
   "outputs": [],
   "source": []
  },
  {
   "cell_type": "code",
   "execution_count": null,
   "metadata": {
    "collapsed": true
   },
   "outputs": [],
   "source": []
  },
  {
   "cell_type": "code",
   "execution_count": null,
   "metadata": {
    "collapsed": true
   },
   "outputs": [],
   "source": []
  },
  {
   "cell_type": "markdown",
   "metadata": {},
   "source": [
    "##  Computing the calibration factor"
   ]
  },
  {
   "cell_type": "markdown",
   "metadata": {},
   "source": [
    "As a reminder, we predict that the intensity of a single cell $I$ should be proportional to the number of fluorescent proteins per cell $N$ multiplied by some calibration factor $\\alpha$,\n",
    "\n",
    "$$\n",
    "I = \\alpha N.\n",
    "$$\n",
    "\n",
    "To estimate the value of $\\alpha$, we can look at how the intensity fluctuates between any two daughter cells, revealing information about the partitioning of proteins during a division event. Once the mathematical dust settles, we find that relationship to be\n",
    "\n",
    "$$\n",
    "\\langle (I_1 - I_2)^2 \\rangle = \\alpha I_\\text{tot}\n",
    "$$\n",
    "\n",
    "where $I_1$ and $I_2$ are the intensities of the two daughter cells and $I_\\text{tot}$ is the sum $I_1 + I_2$.  \n",
    "\n",
    "To extract the data (keeping in mind that we have not subtracted the autofluorescence **TODO**), we can group the tidy DataFrame generated above by the Mother ID and compute the quantities of interest."
   ]
  },
  {
   "cell_type": "code",
   "execution_count": 65,
   "metadata": {
    "collapsed": true
   },
   "outputs": [],
   "source": [
    "# Only look at cells who died on the final frame.\n",
    "final_position = df[df['death_frame']==26]\n",
    "grouped = final_position.groupby('mother_ID')\n",
    "\n",
    "# Make a new DataFrame to store the information.\n",
    "int_df = pd.DataFrame([], columns=['I_tot', 'sq_diff'])\n",
    "for g, d in grouped:\n",
    "    if len(d) == 2:\n",
    "        daughter_fluo = d['death_fluo'].values\n",
    "        I_tot = daughter_fluo.sum()\n",
    "        sq_diff = np.diff(daughter_fluo)[0]**2\n",
    "        int_df = int_df.append(dict(I_tot=I_tot, sq_diff=sq_diff),\n",
    "                              ignore_index=True)"
   ]
  },
  {
   "cell_type": "code",
   "execution_count": 66,
   "metadata": {
    "scrolled": false
   },
   "outputs": [
    {
     "data": {
      "text/html": [
       "\n",
       "\n",
       "    <div class=\"bk-root\">\n",
       "        <div class=\"bk-plotdiv\" id=\"947f832b-ac24-45e1-bf2e-fc292952c88d\"></div>\n",
       "    </div>\n",
       "<script type=\"text/javascript\">\n",
       "  \n",
       "  (function(global) {\n",
       "    function now() {\n",
       "      return new Date();\n",
       "    }\n",
       "  \n",
       "    var force = false;\n",
       "  \n",
       "    if (typeof (window._bokeh_onload_callbacks) === \"undefined\" || force === true) {\n",
       "      window._bokeh_onload_callbacks = [];\n",
       "      window._bokeh_is_loading = undefined;\n",
       "    }\n",
       "  \n",
       "  \n",
       "    \n",
       "    if (typeof (window._bokeh_timeout) === \"undefined\" || force === true) {\n",
       "      window._bokeh_timeout = Date.now() + 0;\n",
       "      window._bokeh_failed_load = false;\n",
       "    }\n",
       "  \n",
       "    var NB_LOAD_WARNING = {'data': {'text/html':\n",
       "       \"<div style='background-color: #fdd'>\\n\"+\n",
       "       \"<p>\\n\"+\n",
       "       \"BokehJS does not appear to have successfully loaded. If loading BokehJS from CDN, this \\n\"+\n",
       "       \"may be due to a slow or bad network connection. Possible fixes:\\n\"+\n",
       "       \"</p>\\n\"+\n",
       "       \"<ul>\\n\"+\n",
       "       \"<li>re-rerun `output_notebook()` to attempt to load from CDN again, or</li>\\n\"+\n",
       "       \"<li>use INLINE resources instead, as so:</li>\\n\"+\n",
       "       \"</ul>\\n\"+\n",
       "       \"<code>\\n\"+\n",
       "       \"from bokeh.resources import INLINE\\n\"+\n",
       "       \"output_notebook(resources=INLINE)\\n\"+\n",
       "       \"</code>\\n\"+\n",
       "       \"</div>\"}};\n",
       "  \n",
       "    function display_loaded() {\n",
       "      if (window.Bokeh !== undefined) {\n",
       "        document.getElementById(\"947f832b-ac24-45e1-bf2e-fc292952c88d\").textContent = \"BokehJS successfully loaded.\";\n",
       "      } else if (Date.now() < window._bokeh_timeout) {\n",
       "        setTimeout(display_loaded, 100)\n",
       "      }\n",
       "    }\n",
       "  \n",
       "    function run_callbacks() {\n",
       "      window._bokeh_onload_callbacks.forEach(function(callback) { callback() });\n",
       "      delete window._bokeh_onload_callbacks\n",
       "      console.info(\"Bokeh: all callbacks have finished\");\n",
       "    }\n",
       "  \n",
       "    function load_libs(js_urls, callback) {\n",
       "      window._bokeh_onload_callbacks.push(callback);\n",
       "      if (window._bokeh_is_loading > 0) {\n",
       "        console.log(\"Bokeh: BokehJS is being loaded, scheduling callback at\", now());\n",
       "        return null;\n",
       "      }\n",
       "      if (js_urls == null || js_urls.length === 0) {\n",
       "        run_callbacks();\n",
       "        return null;\n",
       "      }\n",
       "      console.log(\"Bokeh: BokehJS not loaded, scheduling load and callback at\", now());\n",
       "      window._bokeh_is_loading = js_urls.length;\n",
       "      for (var i = 0; i < js_urls.length; i++) {\n",
       "        var url = js_urls[i];\n",
       "        var s = document.createElement('script');\n",
       "        s.src = url;\n",
       "        s.async = false;\n",
       "        s.onreadystatechange = s.onload = function() {\n",
       "          window._bokeh_is_loading--;\n",
       "          if (window._bokeh_is_loading === 0) {\n",
       "            console.log(\"Bokeh: all BokehJS libraries loaded\");\n",
       "            run_callbacks()\n",
       "          }\n",
       "        };\n",
       "        s.onerror = function() {\n",
       "          console.warn(\"failed to load library \" + url);\n",
       "        };\n",
       "        console.log(\"Bokeh: injecting script tag for BokehJS library: \", url);\n",
       "        document.getElementsByTagName(\"head\")[0].appendChild(s);\n",
       "      }\n",
       "    };var element = document.getElementById(\"947f832b-ac24-45e1-bf2e-fc292952c88d\");\n",
       "    if (element == null) {\n",
       "      console.log(\"Bokeh: ERROR: autoload.js configured with elementid '947f832b-ac24-45e1-bf2e-fc292952c88d' but no matching script tag was found. \")\n",
       "      return false;\n",
       "    }\n",
       "  \n",
       "    var js_urls = [];\n",
       "  \n",
       "    var inline_js = [\n",
       "      function(Bokeh) {\n",
       "        (function() {\n",
       "          var fn = function() {\n",
       "            var docs_json = {\"e30e26b3-7c2b-4451-a41c-2b9bcda1e26d\":{\"roots\":{\"references\":[{\"attributes\":{\"fill_alpha\":{\"value\":0.1},\"fill_color\":{\"value\":\"#1f77b4\"},\"line_alpha\":{\"value\":0.1},\"line_color\":{\"value\":\"#1f77b4\"},\"x\":{\"field\":\"x\"},\"y\":{\"field\":\"y\"}},\"id\":\"bb979581-2b49-46a6-bf07-c95ebb0e2072\",\"type\":\"Circle\"},{\"attributes\":{\"fill_alpha\":{\"value\":0.5},\"fill_color\":{\"value\":\"slategray\"},\"line_alpha\":{\"value\":0.5},\"line_color\":{\"value\":\"slategray\"},\"x\":{\"field\":\"x\"},\"y\":{\"field\":\"y\"}},\"id\":\"81c975cd-d8e0-479a-bbc3-37f12b80e19c\",\"type\":\"Circle\"},{\"attributes\":{\"overlay\":{\"id\":\"6225d159-6b7f-40ef-a5dc-bd371d121081\",\"type\":\"BoxAnnotation\"},\"plot\":{\"id\":\"91d85af9-0d42-49f0-abce-2222fb664224\",\"subtype\":\"Figure\",\"type\":\"Plot\"}},\"id\":\"632ec2e6-8df0-451c-8030-b6b05cd03393\",\"type\":\"BoxZoomTool\"},{\"attributes\":{\"plot\":{\"id\":\"91d85af9-0d42-49f0-abce-2222fb664224\",\"subtype\":\"Figure\",\"type\":\"Plot\"}},\"id\":\"bae11541-0a59-4adb-8cec-9af84759953f\",\"type\":\"HelpTool\"},{\"attributes\":{\"axis_label\":\"log\\u2081\\u2080 (I\\u2081 - I\\u2082)\\u00b2\",\"axis_label_standoff\":3,\"axis_label_text_color\":{\"value\":\"#3c3c3c\"},\"axis_label_text_font\":\"Lucida Sans Unicode\",\"axis_label_text_font_size\":{\"value\":\"13pt\"},\"axis_label_text_font_style\":\"normal\",\"axis_line_color\":{\"value\":null},\"formatter\":{\"id\":\"dd4a97d3-3ec7-457c-9ce6-8c66cf77a2a6\",\"type\":\"BasicTickFormatter\"},\"major_label_text_font\":\"Lucida Sans Unicode\",\"major_label_text_font_size\":{\"value\":\"10pt\"},\"major_tick_line_color\":{\"value\":null},\"minor_tick_line_color\":{\"value\":null},\"plot\":{\"id\":\"91d85af9-0d42-49f0-abce-2222fb664224\",\"subtype\":\"Figure\",\"type\":\"Plot\"},\"ticker\":{\"id\":\"9fca826a-dc9e-4f34-95cf-91340fa1a945\",\"type\":\"BasicTicker\"}},\"id\":\"f0475a02-fc76-4393-9e24-72da88a9df30\",\"type\":\"LinearAxis\"},{\"attributes\":{\"plot\":{\"id\":\"91d85af9-0d42-49f0-abce-2222fb664224\",\"subtype\":\"Figure\",\"type\":\"Plot\"}},\"id\":\"77afc099-c923-4e17-8305-baf1e4465c6b\",\"type\":\"SaveTool\"},{\"attributes\":{\"dimension\":1,\"grid_line_color\":{\"value\":\"#FFFFFF\"},\"grid_line_width\":{\"value\":0.75},\"plot\":{\"id\":\"91d85af9-0d42-49f0-abce-2222fb664224\",\"subtype\":\"Figure\",\"type\":\"Plot\"},\"ticker\":{\"id\":\"9fca826a-dc9e-4f34-95cf-91340fa1a945\",\"type\":\"BasicTicker\"}},\"id\":\"a1f11bc4-9064-4046-92a6-65a4898e6a69\",\"type\":\"Grid\"},{\"attributes\":{\"plot\":{\"id\":\"91d85af9-0d42-49f0-abce-2222fb664224\",\"subtype\":\"Figure\",\"type\":\"Plot\"}},\"id\":\"74ab103a-dd53-4e76-ac53-8662349f9fbe\",\"type\":\"WheelZoomTool\"},{\"attributes\":{},\"id\":\"dd4a97d3-3ec7-457c-9ce6-8c66cf77a2a6\",\"type\":\"BasicTickFormatter\"},{\"attributes\":{\"grid_line_color\":{\"value\":\"#FFFFFF\"},\"grid_line_width\":{\"value\":0.75},\"plot\":{\"id\":\"91d85af9-0d42-49f0-abce-2222fb664224\",\"subtype\":\"Figure\",\"type\":\"Plot\"},\"ticker\":{\"id\":\"9a37b5bf-47c8-4a1a-bdf0-ab48e6b3202f\",\"type\":\"BasicTicker\"}},\"id\":\"f08edd7d-2ca5-460c-8356-bed6a376a3ab\",\"type\":\"Grid\"},{\"attributes\":{},\"id\":\"9fca826a-dc9e-4f34-95cf-91340fa1a945\",\"type\":\"BasicTicker\"},{\"attributes\":{},\"id\":\"fece42e1-3675-4420-8217-7d61affc9531\",\"type\":\"BasicTickFormatter\"},{\"attributes\":{},\"id\":\"9a37b5bf-47c8-4a1a-bdf0-ab48e6b3202f\",\"type\":\"BasicTicker\"},{\"attributes\":{},\"id\":\"ef927e5e-8251-4295-85fd-da7141189092\",\"type\":\"ToolEvents\"},{\"attributes\":{\"plot\":null,\"text\":\"\"},\"id\":\"7593acb6-ff89-48fd-bb49-444f41343d17\",\"type\":\"Title\"},{\"attributes\":{\"plot\":{\"id\":\"91d85af9-0d42-49f0-abce-2222fb664224\",\"subtype\":\"Figure\",\"type\":\"Plot\"}},\"id\":\"3b65a327-ac1c-4960-8e2e-bbfb58026467\",\"type\":\"ResetTool\"},{\"attributes\":{\"callback\":null},\"id\":\"5974ae66-33df-4c0e-817b-e50c2e41f3e4\",\"type\":\"DataRange1d\"},{\"attributes\":{\"axis_label\":\"log\\u2081\\u2080 (I\\u2081 + I\\u2082)\",\"axis_label_standoff\":3,\"axis_label_text_color\":{\"value\":\"#3c3c3c\"},\"axis_label_text_font\":\"Lucida Sans Unicode\",\"axis_label_text_font_size\":{\"value\":\"13pt\"},\"axis_label_text_font_style\":\"normal\",\"axis_line_color\":{\"value\":null},\"formatter\":{\"id\":\"fece42e1-3675-4420-8217-7d61affc9531\",\"type\":\"BasicTickFormatter\"},\"major_label_text_font\":\"Lucida Sans Unicode\",\"major_label_text_font_size\":{\"value\":\"10pt\"},\"major_tick_line_color\":{\"value\":null},\"minor_tick_line_color\":{\"value\":null},\"plot\":{\"id\":\"91d85af9-0d42-49f0-abce-2222fb664224\",\"subtype\":\"Figure\",\"type\":\"Plot\"},\"ticker\":{\"id\":\"9a37b5bf-47c8-4a1a-bdf0-ab48e6b3202f\",\"type\":\"BasicTicker\"}},\"id\":\"925b8073-838d-45f4-a727-90161f10c44a\",\"type\":\"LinearAxis\"},{\"attributes\":{\"data_source\":{\"id\":\"ac97d7f3-1927-4346-94da-4f557ea99a51\",\"type\":\"ColumnDataSource\"},\"glyph\":{\"id\":\"81c975cd-d8e0-479a-bbc3-37f12b80e19c\",\"type\":\"Circle\"},\"hover_glyph\":null,\"nonselection_glyph\":{\"id\":\"bb979581-2b49-46a6-bf07-c95ebb0e2072\",\"type\":\"Circle\"},\"selection_glyph\":null},\"id\":\"c8e5469c-f913-40d6-bb68-43d39f6ef596\",\"type\":\"GlyphRenderer\"},{\"attributes\":{\"active_drag\":\"auto\",\"active_scroll\":\"auto\",\"active_tap\":\"auto\",\"tools\":[{\"id\":\"f1ba16b0-589b-48f5-b45c-160c794f8c53\",\"type\":\"PanTool\"},{\"id\":\"74ab103a-dd53-4e76-ac53-8662349f9fbe\",\"type\":\"WheelZoomTool\"},{\"id\":\"632ec2e6-8df0-451c-8030-b6b05cd03393\",\"type\":\"BoxZoomTool\"},{\"id\":\"77afc099-c923-4e17-8305-baf1e4465c6b\",\"type\":\"SaveTool\"},{\"id\":\"3b65a327-ac1c-4960-8e2e-bbfb58026467\",\"type\":\"ResetTool\"},{\"id\":\"bae11541-0a59-4adb-8cec-9af84759953f\",\"type\":\"HelpTool\"}]},\"id\":\"b000a675-8abb-45d9-b584-cb97a25cbebf\",\"type\":\"Toolbar\"},{\"attributes\":{\"plot\":{\"id\":\"91d85af9-0d42-49f0-abce-2222fb664224\",\"subtype\":\"Figure\",\"type\":\"Plot\"}},\"id\":\"f1ba16b0-589b-48f5-b45c-160c794f8c53\",\"type\":\"PanTool\"},{\"attributes\":{\"background_fill_color\":{\"value\":\"#E3DCD0\"},\"below\":[{\"id\":\"925b8073-838d-45f4-a727-90161f10c44a\",\"type\":\"LinearAxis\"}],\"left\":[{\"id\":\"f0475a02-fc76-4393-9e24-72da88a9df30\",\"type\":\"LinearAxis\"}],\"renderers\":[{\"id\":\"925b8073-838d-45f4-a727-90161f10c44a\",\"type\":\"LinearAxis\"},{\"id\":\"f08edd7d-2ca5-460c-8356-bed6a376a3ab\",\"type\":\"Grid\"},{\"id\":\"f0475a02-fc76-4393-9e24-72da88a9df30\",\"type\":\"LinearAxis\"},{\"id\":\"a1f11bc4-9064-4046-92a6-65a4898e6a69\",\"type\":\"Grid\"},{\"id\":\"6225d159-6b7f-40ef-a5dc-bd371d121081\",\"type\":\"BoxAnnotation\"},{\"id\":\"c8e5469c-f913-40d6-bb68-43d39f6ef596\",\"type\":\"GlyphRenderer\"}],\"title\":{\"id\":\"7593acb6-ff89-48fd-bb49-444f41343d17\",\"type\":\"Title\"},\"tool_events\":{\"id\":\"ef927e5e-8251-4295-85fd-da7141189092\",\"type\":\"ToolEvents\"},\"toolbar\":{\"id\":\"b000a675-8abb-45d9-b584-cb97a25cbebf\",\"type\":\"Toolbar\"},\"x_range\":{\"id\":\"5974ae66-33df-4c0e-817b-e50c2e41f3e4\",\"type\":\"DataRange1d\"},\"y_range\":{\"id\":\"45d20d4b-11b6-4cb5-9aa7-8fa89a30d84f\",\"type\":\"DataRange1d\"}},\"id\":\"91d85af9-0d42-49f0-abce-2222fb664224\",\"subtype\":\"Figure\",\"type\":\"Plot\"},{\"attributes\":{\"callback\":null,\"column_names\":[\"x\",\"y\"],\"data\":{\"x\":{\"__ndarray__\":\"B1OoIPaNFEAttAc4iQwVQLTTBrHnmRVA0dIRhrE/FUBkQmJ2c5EUQJtw7xGWfBVAaetU4UqmFUA4YrX5GicVQIYHL2n73RJAJwZ7raIaFUA/kJ/lBKUVQN1W5+LGgBVAZiO6HWojFkB4ZANVA20VQF0LjJqlXhVAM2Xa8cEKFUAhJDj9co4UQCaCItrrnRRAjFoFkShJFEA847D/TpoUQFivtr1mORVAWkzIks4bFUC1g1TbmsMUQGJn0tHyehVA/MUa6BVJFUAMWZpP8goUQPQH6JxdsBRAAeuXZJSyFEBe7mPc5Q0VQJ1AqUvJfRRA\",\"dtype\":\"float64\",\"shape\":[30]},\"y\":{\"__ndarray__\":\"UNFhVixNIECs/rvFakEaQG40dKBygyBA72K/ELM6IEB7Y30QcEcaQInRnHHfux5ArTEFn/FEGUC+DrbeleIeQMs/ooOqaiFAPWbMutKvH0BmkXzpNZshQN90V7I34h5AEWeb6ULyHkDEaH2fBy4hQFKtf+VpNyBAg/rTN6MsHUCMJNVkDt4gQAWuWLdGpx5Atp6bM0meIECh9rOnRnkdQEzxvx7tOyFAtJjhpXbRHED5ZwiVG5QgQKY4ORc28B5ASN1Lu7QfFUCs12RPZUkfQM83BrHIpR1AF58jYebeHkAVfai8k3EhQDWZHfgRcCBA\",\"dtype\":\"float64\",\"shape\":[30]}}},\"id\":\"ac97d7f3-1927-4346-94da-4f557ea99a51\",\"type\":\"ColumnDataSource\"},{\"attributes\":{\"callback\":null},\"id\":\"45d20d4b-11b6-4cb5-9aa7-8fa89a30d84f\",\"type\":\"DataRange1d\"},{\"attributes\":{\"bottom_units\":\"screen\",\"fill_alpha\":{\"value\":0.5},\"fill_color\":{\"value\":\"lightgrey\"},\"left_units\":\"screen\",\"level\":\"overlay\",\"line_alpha\":{\"value\":1.0},\"line_color\":{\"value\":\"black\"},\"line_dash\":[4,4],\"line_width\":{\"value\":2},\"plot\":null,\"render_mode\":\"css\",\"right_units\":\"screen\",\"top_units\":\"screen\"},\"id\":\"6225d159-6b7f-40ef-a5dc-bd371d121081\",\"type\":\"BoxAnnotation\"}],\"root_ids\":[\"91d85af9-0d42-49f0-abce-2222fb664224\"]},\"title\":\"Bokeh Application\",\"version\":\"0.12.4\"}};\n",
       "            var render_items = [{\"docid\":\"e30e26b3-7c2b-4451-a41c-2b9bcda1e26d\",\"elementid\":\"947f832b-ac24-45e1-bf2e-fc292952c88d\",\"modelid\":\"91d85af9-0d42-49f0-abce-2222fb664224\"}];\n",
       "            \n",
       "            Bokeh.embed.embed_items(docs_json, render_items);\n",
       "          };\n",
       "          if (document.readyState != \"loading\") fn();\n",
       "          else document.addEventListener(\"DOMContentLoaded\", fn);\n",
       "        })();\n",
       "      },\n",
       "      function(Bokeh) {\n",
       "      }\n",
       "    ];\n",
       "  \n",
       "    function run_inline_js() {\n",
       "      \n",
       "      if ((window.Bokeh !== undefined) || (force === true)) {\n",
       "        for (var i = 0; i < inline_js.length; i++) {\n",
       "          inline_js[i](window.Bokeh);\n",
       "        }if (force === true) {\n",
       "          display_loaded();\n",
       "        }} else if (Date.now() < window._bokeh_timeout) {\n",
       "        setTimeout(run_inline_js, 100);\n",
       "      } else if (!window._bokeh_failed_load) {\n",
       "        console.log(\"Bokeh: BokehJS failed to load within specified timeout.\");\n",
       "        window._bokeh_failed_load = true;\n",
       "      } else if (force !== true) {\n",
       "        var cell = $(document.getElementById(\"947f832b-ac24-45e1-bf2e-fc292952c88d\")).parents('.cell').data().cell;\n",
       "        cell.output_area.append_execute_result(NB_LOAD_WARNING)\n",
       "      }\n",
       "  \n",
       "    }\n",
       "  \n",
       "    if (window._bokeh_is_loading === 0) {\n",
       "      console.log(\"Bokeh: BokehJS loaded, going straight to plotting\");\n",
       "      run_inline_js();\n",
       "    } else {\n",
       "      load_libs(js_urls, function() {\n",
       "        console.log(\"Bokeh: BokehJS plotting callback run at\", now());\n",
       "        run_inline_js();\n",
       "      });\n",
       "    }\n",
       "  }(this));\n",
       "</script>"
      ]
     },
     "metadata": {},
     "output_type": "display_data"
    }
   ],
   "source": [
    "# Compute the log of the values. \n",
    "log_I_tot = np.log10(int_df['I_tot'].values)\n",
    "log_sq_diff = np.log10(int_df['sq_diff'].values)\n",
    "# Plot the results. \n",
    "p = mscl.bokeh_boiler(x_axis_label='log\\u2081\\u2080 (I\\u2081 + I\\u2082)',\n",
    "                     y_axis_label='log\\u2081\\u2080 (I\\u2081 - I\\u2082)\\u00B2')\n",
    "\n",
    "p.circle(x=log_I_tot, y=log_sq_diff, color='slategray', alpha=0.5)\n",
    "bokeh.io.show(p)"
   ]
  }
 ],
 "metadata": {
  "kernelspec": {
   "display_name": "Python 3",
   "language": "python",
   "name": "python3"
  },
  "language_info": {
   "codemirror_mode": {
    "name": "ipython",
    "version": 3
   },
   "file_extension": ".py",
   "mimetype": "text/x-python",
   "name": "python",
   "nbconvert_exporter": "python",
   "pygments_lexer": "ipython3",
   "version": "3.6.3"
  }
 },
 "nbformat": 4,
 "nbformat_minor": 2
}
