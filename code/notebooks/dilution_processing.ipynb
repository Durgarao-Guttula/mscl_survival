{
 "cells": [
  {
   "cell_type": "markdown",
   "metadata": {},
   "source": [
    "# Processing SuperSegger Output & Estimation of $\\alpha$"
   ]
  },
  {
   "cell_type": "code",
   "execution_count": 48,
   "metadata": {},
   "outputs": [],
   "source": [
    "import numpy as np\n",
    "import matplotlib.pyplot as plt\n",
    "import pandas as pd\n",
    "import mscl.plotting\n",
    "import matlab.engine as matlab\n",
    "import scipy\n",
    "import glob\n",
    "colors = mscl.plotting.set_plotting_style()\n",
    "%matplotlib inline"
   ]
  },
  {
   "cell_type": "markdown",
   "metadata": {},
   "source": [
    "In this notebook, we will show how the output is read from a SuperSegger `cell.mat` file, perform data validation, and estimate the calibration factor from a set of cell divisions.  To run this notebook, you must have installed IPython 4.0 and MATLAB 2017a or later."
   ]
  },
  {
   "cell_type": "markdown",
   "metadata": {},
   "source": [
    "## The Experiment"
   ]
  },
  {
   "cell_type": "markdown",
   "metadata": {},
   "source": [
    "The goal of this experiment is to determine the absolute brightness (in arbitrary units) of a single fluorophore. The method to do that, as described in [Rosenfeld et al., 2005](), is to measure the fluorescence of a single mother scale over several divisions. The fluctuation in the intensity between two sister cells allows us to estimate the calibration factor $\\alpha$ through the relation,\n",
    "\n",
    "$$\n",
    "\\langle (I_1 - I_2)^2 \\rangle = \\alpha (I_1 + I_2) = \\alpha I_\\text{tot},\n",
    "\\tag{1}\n",
    "$$\n",
    "\n",
    "where $I_1$ and $I_2$ are the intensities of the two sister cells and $I_\\text{tot}$ is the intensity of the mother cell. Eq. 1 is derived in detail in the accompanying notebook [estimating the calibration factor](http://science.sciencemag.org/content/307/5717/1962.long) where we also show the statistical analysis and error estimation. \n",
    "\n",
    "To make these measurements, cells were constructed which expressed a green fluorescent protein (sfGFP) molecule under the regulation of the TetR repressor. The expression of this protein is modulated by adding the TetR allosteric effector anhydro-tetracycline. Once this effector molecule is removed from the cell, further expression of the protein is ceased. Monitoring these cells over a period of time allows us to measure the partitioning of these proteins into the daughter cells. \n",
    "\n",
    "In this notebook, we will examine the intensity measurements of a single field of view containing a large number of cells. These cells were allowed to grow on a standard M9 Minimal Medium supplemented with 0.5% (w/v) glucose held at 37° C. These images were taken in phase contrast and fluorescence with a phase image taken every 5 minutes and a fluorescence image taken every 15 minutes for a total of three hours. Once the experiment was finished, the images were segmented and lineages were registered using the [open source software SuperSegger](http://mtshasta.phys.washington.edu/website/SuperSegger.php) from the [Paul Wiggins Lab](http://mtshasta.phys.washington.edu/website/) at the University of Washington. "
   ]
  },
  {
   "cell_type": "markdown",
   "metadata": {},
   "source": [
    "## Parsing the SuperSegger `cell` files"
   ]
  },
  {
   "cell_type": "markdown",
   "metadata": {},
   "source": [
    "Once segmentation and lineage assembly is complete, SuperSegger saves its output in two different formats $-$ the `clist` file and the `cell` file. The `clist` file contains information about every cell division event including fluorescence, birth and death area, position, and if the daughter cells continued to divide or perished. A `cell` file, however, contains the information for a *single* cell across its entire lifetime (meaning it contains the same information as in the `clist` file, but at each frame). There is a single `cell` file for every single cell measured in the experiment.\n",
    "\n",
    "At first glance, it would appear that the `clist` has everything that we need. However, as each cell has several fluorescence exposures, we must correct for photobleaching. This means that we must parse every `cell` file to figure out how many exposures each cell has had. \n",
    "\n",
    "The `cell` file is a MATLAB `.mat` file. These are best read through the MATLAB software, however we chose to do all of the analysis in Python for its ease of use and accessiblity. These `.mat` files can be read into Python using the `scipy.io` library, but the complex structure of the `cell` file makes parsing  the result much more difficult. MATLAB [has an API for Python](https://www.mathworks.com/help/matlab/matlab-engine-for-python.html), meaning that we can call an instance of MATLAB from the Python kernel, read in the `.mat` file, and return the data, convert it to a dictionary, and return the data to the Python interpreter. Below, we'll load one of these `cell` files and examine its contents."
   ]
  },
  {
   "cell_type": "code",
   "execution_count": 45,
   "metadata": {},
   "outputs": [],
   "source": [
    "# Define the path to the cell file.\n",
    "cell = '../../data/test_data/xy02/cell/Cell0000017.mat'\n",
    "\n",
    "# Instantiate the matlab engine.\n",
    "eng = matlab.start_matlab()\n",
    "\n",
    "# Assign a variable to the workspace containing the path. \n",
    "eng.workspace['f'] = cell\n",
    "\n",
    "# Load in the file using matlab and return it to a Python variable.\n",
    "ex_mat = eng.eval('load(f)')"
   ]
  },
  {
   "cell_type": "markdown",
   "metadata": {},
   "source": [
    "The variable `ex_mat` is now a `dict` containing a swath of information regarding the cell in question. We can index this dictionary in the typical Python fashion to access this information."
   ]
  },
  {
   "cell_type": "code",
   "execution_count": 46,
   "metadata": {},
   "outputs": [
    {
     "name": "stdout",
     "output_type": "stream",
     "text": [
      "This cell was born on frame 3.0.\n",
      "This cell tragically perished on frame 15.0.\n",
      "The mother of this cell is cell number 10.0.\n",
      "This cell produced daughters with IDs 71.0 and 72.0.\n"
     ]
    }
   ],
   "source": [
    "# Print some information about the cell.\n",
    "print('This cell was born on frame {0}.'.format(ex_mat['birth']))\n",
    "print('This cell tragically perished on frame {0}.'.format(ex_mat['death']))\n",
    "print('The mother of this cell is cell number {0}.'.format(ex_mat['motherID']))\n",
    "print('This cell produced daughters with IDs {0} and {1}.'.format(ex_mat['daughterID'][0][0], \n",
    "                                                                  ex_mat['daughterID'][0][1]))"
   ]
  },
  {
   "cell_type": "markdown",
   "metadata": {},
   "source": [
    "None of the above properties change with time, however. They are static summaries of the entire division. To access the frame-by-frame information, we must look at the dictionary `CellA` which is in the `ex_mat` dictionary. "
   ]
  },
  {
   "cell_type": "code",
   "execution_count": 47,
   "metadata": {},
   "outputs": [
    {
     "name": "stdout",
     "output_type": "stream",
     "text": [
      "Intensity measurements for Cell 17.0 over time.\n",
      "frame 3.0 : 0.0 [a. u.]\n",
      "frame 4.0 : 0.0 [a. u.]\n",
      "frame 5.0 : 196230.0 [a. u.]\n",
      "frame 6.0 : 0.0 [a. u.]\n",
      "frame 7.0 : 0.0 [a. u.]\n",
      "frame 8.0 : 0.0 [a. u.]\n",
      "frame 9.0 : 183984.0 [a. u.]\n",
      "frame 10.0 : 0.0 [a. u.]\n",
      "frame 11.0 : 0.0 [a. u.]\n",
      "frame 12.0 : 0.0 [a. u.]\n",
      "frame 13.0 : 208777.0 [a. u.]\n",
      "frame 14.0 : 0.0 [a. u.]\n",
      "frame 15.0 : 0.0 [a. u.]\n"
     ]
    }
   ],
   "source": [
    "# Print information over time.\n",
    "print('Intensity measurements for Cell {0} over time.'.format(ex_mat['ID']))\n",
    "for i, t in enumerate(ex_mat['CellA']):\n",
    "    value = t['fl1']['sum']\n",
    "    frame_number = ex_mat['birth'] + i \n",
    "    print(\"frame {0} : {1:0.1f} [a. u.]\".format(frame_number, value ))"
   ]
  },
  {
   "cell_type": "markdown",
   "metadata": {},
   "source": [
    "It looks like this cell lived for twelve frames and was exposed with the excitation wavelength three times. All of the `0.0` measurements are frames which were not exposed. We notice that the last exposure (frame 13) is brighter than the first. This is likely due to the variation in our measurement rather than by gain of fluorescence (**CHECK THIS**).\n",
    "\n",
    "Below we write a function which can read in a list of `cell` files and extract the relevant information."
   ]
  },
  {
   "cell_type": "code",
   "execution_count": 50,
   "metadata": {},
   "outputs": [],
   "source": [
    "def cell_to_dict(file, eng, add_props=None, excluded_props=None):\n",
    "    \"\"\"\n",
    "    Reads a single cell file and produces a dictionary containing\n",
    "    the properties of interest.\n",
    "\n",
    "    The returned properties are\n",
    "    * birth - frame number at which the cell was born.\n",
    "    * death - frame number at which the cell died.\n",
    "    * divide - bool for an observed cell division.\n",
    "    * ID - integer ID number of the cell.\n",
    "    * motherID - integer ID number of the mother cell.\n",
    "    * sisterID - integer ID number of the sister cell.\n",
    "    * birth_fluo - fluorescence value at the cell's birth.\n",
    "    * death_fluo - fluorescence value at the cell's death.\n",
    "    * daughter_1_ID - integer ID number of the first daughter.\n",
    "    * daughter_2_ID - integer ID number of the second daughter.\n",
    "\n",
    "\n",
    "    Parameters\n",
    "    ----------\n",
    "    file: str\n",
    "        Path of the cell file. This must be in a `.mat` format.\n",
    "    eng: MATLAB engine object\n",
    "        Engine of running matlab session.\n",
    "    add_props : dict, default None\n",
    "        Dictionary of additional properties (not found in the mat file)\n",
    "        to be included in the returned dictionary.\n",
    "    excluded_props: list of str\n",
    "        Properties of cell.mat file to be ignored. These must be\n",
    "        exactly how they are defined in the cell file.\n",
    "\n",
    "    Returns\n",
    "    -------\n",
    "    cell_dict : dictionary\n",
    "        Dictionary of all extracted properties from the cell files.\n",
    "    \"\"\"\n",
    "\n",
    "    # Ensure the supplied file is actually a .mat and other types are correct.\n",
    "    if file.split('.')[-1] != 'mat':\n",
    "        raise TypeError(\"supplied file {0} is not a `.mat` file.\".format(file))\n",
    "    if add_props is not None and type(add_props) is not dict:\n",
    "        raise TypeError(\n",
    "            \"add_props is {0} and not dict.\".format(type(add_props)))\n",
    "    if excluded_props is not None and type(excluded_props) is not list:\n",
    "        raise TypeError(\n",
    "            \"add_props must be list. Type is currently {0}.\".format(type(excluded_props)))\n",
    "\n",
    "    # Define the values of interest.\n",
    "    vals = ['birth', 'death', 'divide', 'ID', 'motherID', 'sisterID',\n",
    "            'daughter_1_ID', 'daughter_2_ID', 'birth_fluo', 'death_fluo']\n",
    "\n",
    "    # Load the mat file using MATLAB.\n",
    "    eng.workspace['f'] = file\n",
    "    mat = eng.eval('load(f)')\n",
    "\n",
    "    # Assemble the dictionary for constant properties.\n",
    "    cell_dict = {v: mat[v] for v in vals[:-4]}\n",
    "    daughters = np.array(mat['daughterID'])\n",
    "\n",
    "    # Determine  if daughters were produced. If not, change ID to NaN.\n",
    "    if len(daughters) == 0:\n",
    "        daughter_1, daughter_2 = None,  None\n",
    "    else:\n",
    "        daughter_1, daughter_2 = daughters[0]\n",
    "    cell_dict['daughter_1_ID'] = daughter_1\n",
    "    cell_dict['daughter_2_ID'] = daughter_2\n",
    "\n",
    "    # Extract fluorescence information -- This is a bit gross but checked.\n",
    "    try:\n",
    "        fluo = [mat['CellA'][i]['fl1']['sum']\n",
    "                for i, _ in enumerate(mat['CellA'])]\n",
    "        nonzero = [f for f in fluo if f != 0]\n",
    "        num_exposures = len(nonzero)\n",
    "        cell_dict['birth_fluo'] = nonzero[0]\n",
    "        cell_dict['death_fluo'] = nonzero[-1]\n",
    "    except:\n",
    "        cell_dict['birth_fluo'] = 0\n",
    "        cell_dict['death_fluo'] = 0\n",
    "        num_exposures = 0\n",
    "    cell_dict['num_exposures'] = num_exposures\n",
    "    # Deal with exclusion and addition of props.\n",
    "    if excluded_props is not None:\n",
    "        new_dict = {}\n",
    "        keys = cell_dict.keys()\n",
    "        for key in keys:\n",
    "            if key not in excluded_props:\n",
    "                new_dict[key] = cell_dict[key]\n",
    "        cell_dict = new_dict\n",
    "    if add_props is not None:\n",
    "        for key in add_props.keys():\n",
    "            cell_dict[key] = add_props[key]\n",
    "\n",
    "    # Return the cell dictionary.\n",
    "    return cell_dict\n",
    "\n",
    "\n",
    "def parse_cell_files(files, eng, **kwargs):\n",
    "    \"\"\"\n",
    "    Executes cell_to_dict across a list of files and returns a Pandas DataFrame.\n",
    "    \"\"\"\n",
    "    if type(files) is not list:\n",
    "        raise TypeError(\"'files' is type {0} not list.\".format(type(files)))\n",
    "    for i, f in enumerate(files):\n",
    "        cell_dict = cell_to_dict(f, eng, **kwargs)\n",
    "        if i == 0:\n",
    "            keys = cell_dict.keys()\n",
    "            df = pd.DataFrame([], columns=keys)\n",
    "            df = df.append(cell_dict, ignore_index=True)\n",
    "        else:\n",
    "            df = df.append(cell_dict, ignore_index=True)\n",
    "    return df\n"
   ]
  },
  {
   "cell_type": "markdown",
   "metadata": {},
   "source": [
    "With these functions in hand, we can now read in all of the experimental data into a tidy DataFrame. We have multiple positions, so this will be done in a loop. "
   ]
  },
  {
   "cell_type": "code",
   "execution_count": 65,
   "metadata": {},
   "outputs": [
    {
     "data": {
      "text/html": [
       "<div>\n",
       "<style>\n",
       "    .dataframe thead tr:only-child th {\n",
       "        text-align: right;\n",
       "    }\n",
       "\n",
       "    .dataframe thead th {\n",
       "        text-align: left;\n",
       "    }\n",
       "\n",
       "    .dataframe tbody tr th {\n",
       "        vertical-align: top;\n",
       "    }\n",
       "</style>\n",
       "<table border=\"1\" class=\"dataframe\">\n",
       "  <thead>\n",
       "    <tr style=\"text-align: right;\">\n",
       "      <th></th>\n",
       "      <th>birth</th>\n",
       "      <th>death</th>\n",
       "      <th>divide</th>\n",
       "      <th>ID</th>\n",
       "      <th>motherID</th>\n",
       "      <th>sisterID</th>\n",
       "      <th>daughter_1_ID</th>\n",
       "      <th>daughter_2_ID</th>\n",
       "      <th>birth_fluo</th>\n",
       "      <th>death_fluo</th>\n",
       "      <th>num_exposures</th>\n",
       "      <th>pos</th>\n",
       "    </tr>\n",
       "  </thead>\n",
       "  <tbody>\n",
       "    <tr>\n",
       "      <th>0</th>\n",
       "      <td>32.0</td>\n",
       "      <td>34.0</td>\n",
       "      <td>0.0</td>\n",
       "      <td>117.0</td>\n",
       "      <td>87.0</td>\n",
       "      <td>118.0</td>\n",
       "      <td>NaN</td>\n",
       "      <td>NaN</td>\n",
       "      <td>150859.0</td>\n",
       "      <td>150859.0</td>\n",
       "      <td>1.0</td>\n",
       "      <td>0.0</td>\n",
       "    </tr>\n",
       "    <tr>\n",
       "      <th>1</th>\n",
       "      <td>28.0</td>\n",
       "      <td>34.0</td>\n",
       "      <td>0.0</td>\n",
       "      <td>103.0</td>\n",
       "      <td>57.0</td>\n",
       "      <td>102.0</td>\n",
       "      <td>NaN</td>\n",
       "      <td>NaN</td>\n",
       "      <td>114508.0</td>\n",
       "      <td>115733.0</td>\n",
       "      <td>2.0</td>\n",
       "      <td>0.0</td>\n",
       "    </tr>\n",
       "    <tr>\n",
       "      <th>2</th>\n",
       "      <td>24.0</td>\n",
       "      <td>32.0</td>\n",
       "      <td>1.0</td>\n",
       "      <td>88.0</td>\n",
       "      <td>72.0</td>\n",
       "      <td>87.0</td>\n",
       "      <td>121.0</td>\n",
       "      <td>122.0</td>\n",
       "      <td>131976.0</td>\n",
       "      <td>186897.0</td>\n",
       "      <td>2.0</td>\n",
       "      <td>0.0</td>\n",
       "    </tr>\n",
       "    <tr>\n",
       "      <th>3</th>\n",
       "      <td>20.0</td>\n",
       "      <td>25.0</td>\n",
       "      <td>1.0</td>\n",
       "      <td>63.0</td>\n",
       "      <td>0.0</td>\n",
       "      <td>0.0</td>\n",
       "      <td>96.0</td>\n",
       "      <td>97.0</td>\n",
       "      <td>55782.0</td>\n",
       "      <td>70074.0</td>\n",
       "      <td>2.0</td>\n",
       "      <td>0.0</td>\n",
       "    </tr>\n",
       "    <tr>\n",
       "      <th>4</th>\n",
       "      <td>22.0</td>\n",
       "      <td>31.0</td>\n",
       "      <td>1.0</td>\n",
       "      <td>77.0</td>\n",
       "      <td>56.0</td>\n",
       "      <td>78.0</td>\n",
       "      <td>109.0</td>\n",
       "      <td>110.0</td>\n",
       "      <td>117495.0</td>\n",
       "      <td>158560.0</td>\n",
       "      <td>2.0</td>\n",
       "      <td>0.0</td>\n",
       "    </tr>\n",
       "  </tbody>\n",
       "</table>\n",
       "</div>"
      ],
      "text/plain": [
       "   birth  death  divide     ID  motherID  sisterID  daughter_1_ID  \\\n",
       "0   32.0   34.0     0.0  117.0      87.0     118.0            NaN   \n",
       "1   28.0   34.0     0.0  103.0      57.0     102.0            NaN   \n",
       "2   24.0   32.0     1.0   88.0      72.0      87.0          121.0   \n",
       "3   20.0   25.0     1.0   63.0       0.0       0.0           96.0   \n",
       "4   22.0   31.0     1.0   77.0      56.0      78.0          109.0   \n",
       "\n",
       "   daughter_2_ID  birth_fluo  death_fluo  num_exposures  pos  \n",
       "0            NaN    150859.0    150859.0            1.0  0.0  \n",
       "1            NaN    114508.0    115733.0            2.0  0.0  \n",
       "2          122.0    131976.0    186897.0            2.0  0.0  \n",
       "3           97.0     55782.0     70074.0            2.0  0.0  \n",
       "4          110.0    117495.0    158560.0            2.0  0.0  "
      ]
     },
     "execution_count": 65,
     "metadata": {},
     "output_type": "execute_result"
    }
   ],
   "source": [
    "# Get the paths to the positions \n",
    "positions = glob.glob('../../data/test_data/xy*')\n",
    "dilution = []\n",
    "for i, p in enumerate(positions): \n",
    "    # Get the paths to the cell files.\n",
    "    files = glob.glob(p + '/cell/*.mat')\n",
    "                      \n",
    "    # Feed them into the parsing function.\n",
    "    df = parse_cell_files(files, eng, add_props={'pos': i})\n",
    "   \n",
    "    # Append the dataframe to the list.\n",
    "    dilution.append(df)\n",
    "\n",
    "# Concatenate all of the dataframes together.\n",
    "dilution = pd.concat(dilution)\n",
    "\n",
    "# Look at some of the data.\n",
    "dilution.head()"
   ]
  },
  {
   "cell_type": "markdown",
   "metadata": {},
   "source": [
    "We will also want to do this with the autofluorescence images. The autofluorescence data consist of single snapshots in phase contrast and fluorescence, so we can exclude a lot of properties. "
   ]
  },
  {
   "cell_type": "code",
   "execution_count": 53,
   "metadata": {},
   "outputs": [
    {
     "data": {
      "text/html": [
       "<div>\n",
       "<style>\n",
       "    .dataframe thead tr:only-child th {\n",
       "        text-align: right;\n",
       "    }\n",
       "\n",
       "    .dataframe thead th {\n",
       "        text-align: left;\n",
       "    }\n",
       "\n",
       "    .dataframe tbody tr th {\n",
       "        vertical-align: top;\n",
       "    }\n",
       "</style>\n",
       "<table border=\"1\" class=\"dataframe\">\n",
       "  <thead>\n",
       "    <tr style=\"text-align: right;\">\n",
       "      <th></th>\n",
       "      <th>birth_fluo</th>\n",
       "    </tr>\n",
       "  </thead>\n",
       "  <tbody>\n",
       "    <tr>\n",
       "      <th>0</th>\n",
       "      <td>202156.0</td>\n",
       "    </tr>\n",
       "    <tr>\n",
       "      <th>1</th>\n",
       "      <td>146800.0</td>\n",
       "    </tr>\n",
       "    <tr>\n",
       "      <th>2</th>\n",
       "      <td>50569.0</td>\n",
       "    </tr>\n",
       "    <tr>\n",
       "      <th>3</th>\n",
       "      <td>121913.0</td>\n",
       "    </tr>\n",
       "    <tr>\n",
       "      <th>4</th>\n",
       "      <td>251040.0</td>\n",
       "    </tr>\n",
       "  </tbody>\n",
       "</table>\n",
       "</div>"
      ],
      "text/plain": [
       "   birth_fluo\n",
       "0    202156.0\n",
       "1    146800.0\n",
       "2     50569.0\n",
       "3    121913.0\n",
       "4    251040.0"
      ]
     },
     "execution_count": 53,
     "metadata": {},
     "output_type": "execute_result"
    }
   ],
   "source": [
    "# Load the autofluorescence data.\n",
    "files = glob.glob('../../data/test_data/autofluorescence/xy*/cell/*.mat')\n",
    "auto = parse_cell_files(files, eng, excluded_props=['birth', 'death', 'divide', 'ID', 'motherID',\n",
    "                                                   'sisterID', 'daughter_1_ID', 'daughter_2_ID',\n",
    "                                                   'death_fluo', 'num_exposures'])\n",
    "auto.head()"
   ]
  },
  {
   "cell_type": "markdown",
   "metadata": {},
   "source": [
    "## Exploratory Data Analysis"
   ]
  },
  {
   "cell_type": "markdown",
   "metadata": {},
   "source": [
    "With the data in hand, we can perform some sanity checks to validate our data. For example, we would expect the fluorescence distribution of all of cells on the first frame to be shifted relative to the autofluorescence intensity. We would also expect the fluorescence to be conserved. Here, we will look at some of these properties."
   ]
  },
  {
   "cell_type": "markdown",
   "metadata": {},
   "source": [
    "###  Expression Distributions and Conservation of Fluorescence"
   ]
  },
  {
   "cell_type": "markdown",
   "metadata": {},
   "source": [
    "Both the autofluorescence and dilution strains were segmented and meaasured using the SuperSegger neural network. Prior to the segmentation, the images were flattened using knowledge of the illumination profile. Below, we compute the empirical cumulative distributions for the autofluorescence and founding cells. "
   ]
  },
  {
   "cell_type": "code",
   "execution_count": 73,
   "metadata": {},
   "outputs": [
    {
     "data": {
      "image/png": "[encoded data removed]",
      "text/plain": [
       "<matplotlib.figure.Figure at 0x1c29bbbe10>"
      ]
     },
     "metadata": {},
     "output_type": "display_data"
    }
   ],
   "source": [
    "# Select only the cells present on the first frame\n",
    "founders = dilution[dilution['birth']==1]\n",
    "\n",
    "# Compute the ECDF\n",
    "founder_x = np.sort(founders['birth_fluo'])\n",
    "founder_y = np.arange(0, len(founders)) / len(founders)\n",
    "\n",
    "# Do the same for the autofluorescence samples.\n",
    "auto_x = np.sort(auto['birth_fluo'])\n",
    "auto_y = np.arange(0, len(auto)) / len(auto)\n",
    "\n",
    "# Set up the figure canvas.\n",
    "fig, ax = plt.subplots(1,1)\n",
    "ax.set_xlabel('intensity [a.u.]')\n",
    "ax.set_ylabel('ECDF')\n",
    "\n",
    "# Plot the ECDFs\n",
    "_ = ax.plot(auto_x, auto_y, '.', color='slategray', alpha=0.5, label='autofluorescence')\n",
    "_ = ax.plot(founder_x, founder_y, '.', color='tomato', alpha=0.5,\n",
    "           label='founding cells')\n",
    "_ = ax.legend()"
   ]
  },
  {
   "cell_type": "markdown",
   "metadata": {},
   "source": [
    "The distribution for the dilution strain is shifted, although not by a lot. This could be a problem for the analysis and may require more cloning. Nevertheless, we'll continue with the processing. As some of the dilution strain signal comes from autofluorescence, we can subtract this from our DataFrame."
   ]
  },
  {
   "cell_type": "code",
   "execution_count": null,
   "metadata": {},
   "outputs": [],
   "source": [
    "# Subtract the mean autofl"
   ]
  }
 ],
 "metadata": {
  "kernelspec": {
   "display_name": "Python 3",
   "language": "python",
   "name": "python3"
  },
  "language_info": {
   "codemirror_mode": {
    "name": "ipython",
    "version": 3
   },
   "file_extension": ".py",
   "mimetype": "text/x-python",
   "name": "python",
   "nbconvert_exporter": "python",
   "pygments_lexer": "ipython3",
   "version": "3.6.3"
  }
 },
 "nbformat": 4,
 "nbformat_minor": 2
}
