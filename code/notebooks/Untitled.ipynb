{
 "cells": [
  {
   "cell_type": "code",
   "execution_count": 1,
   "metadata": {
    "collapsed": false
   },
   "outputs": [],
   "source": [
    "import numpy as np\n",
    "import matplotlib.pyplot as plt\n",
    "import pymc3 as pm\n",
    "import theano.tensor as tt\n",
    "import sys\n",
    "sys.path.insert(0, '../../')\n",
    "import mscl.mcmc\n",
    "import mscl.plotting\n",
    "import pandas as pd\n",
    "colors = mscl.plotting.set_plotting_style()\n",
    "%matplotlib inline"
   ]
  },
  {
   "cell_type": "code",
   "execution_count": 2,
   "metadata": {
    "collapsed": false
   },
   "outputs": [],
   "source": [
    "# Load the data\n",
    "shock_data = pd.read_csv('../../data/csv/compiled_shock_data.csv')\n",
    "cal_data = pd.read_csv('../../data/csv/compiled_calibration_data.csv')\n",
    "\n",
    "# Set the intensity and calculate the effective channel copy number\n",
    "max_exp = np.max([shock_data['exposure_ms'].max(), cal_data['exposure_ms'].max()])\n",
    "shock_data['rescaled_intensity'] *= max_exp / shock_data['exposure_ms']\n",
    "cal_data['rescaled_intensity'] *= max_exp / cal_data['exposure_ms']\n",
    "\n",
    "# Compute the calibration factor. \n",
    "au_per_channel = (354 / cal_data[cal_data['rbs']=='mlg910']['rescaled_intensity']).mean()\n",
    "avg_area = cal_data[cal_data['rbs']=='mlg910']['area'].mean()\n",
    "\n",
    "# Compute the channel number in the shock data.\n",
    "shock_data['effeective_channels'] = ((shock_data['rescaled_intensity'] / au_per_channel) / shock_data['area']) * avg_area"
   ]
  },
  {
   "cell_type": "code",
   "execution_count": 11,
   "metadata": {
    "collapsed": false
   },
   "outputs": [
    {
     "data": {
      "text/html": [
       "<div>\n",
       "<table border=\"1\" class=\"dataframe\">\n",
       "  <thead>\n",
       "    <tr style=\"text-align: right;\">\n",
       "      <th></th>\n",
       "      <th>area</th>\n",
       "      <th>date</th>\n",
       "      <th>exposure_ms</th>\n",
       "      <th>flow_rate</th>\n",
       "      <th>intensity</th>\n",
       "      <th>mean_bg</th>\n",
       "      <th>rbs</th>\n",
       "      <th>survival</th>\n",
       "      <th>rescaled_intensity</th>\n",
       "    </tr>\n",
       "  </thead>\n",
       "  <tbody>\n",
       "    <tr>\n",
       "      <th>0</th>\n",
       "      <td>5.6576</td>\n",
       "      <td>20170525</td>\n",
       "      <td>25</td>\n",
       "      <td>0.01</td>\n",
       "      <td>217327.199203</td>\n",
       "      <td>103629.096813</td>\n",
       "      <td>sd1</td>\n",
       "      <td>True</td>\n",
       "      <td>454792.409561</td>\n",
       "    </tr>\n",
       "    <tr>\n",
       "      <th>1</th>\n",
       "      <td>5.7344</td>\n",
       "      <td>20170525</td>\n",
       "      <td>25</td>\n",
       "      <td>0.01</td>\n",
       "      <td>207743.081080</td>\n",
       "      <td>103629.096813</td>\n",
       "      <td>sd1</td>\n",
       "      <td>True</td>\n",
       "      <td>416455.937067</td>\n",
       "    </tr>\n",
       "    <tr>\n",
       "      <th>2</th>\n",
       "      <td>5.7344</td>\n",
       "      <td>20170525</td>\n",
       "      <td>25</td>\n",
       "      <td>0.01</td>\n",
       "      <td>207743.081080</td>\n",
       "      <td>103629.096813</td>\n",
       "      <td>sd1</td>\n",
       "      <td>True</td>\n",
       "      <td>416455.937067</td>\n",
       "    </tr>\n",
       "    <tr>\n",
       "      <th>3</th>\n",
       "      <td>5.7344</td>\n",
       "      <td>20170525</td>\n",
       "      <td>25</td>\n",
       "      <td>0.01</td>\n",
       "      <td>207743.081080</td>\n",
       "      <td>103629.096813</td>\n",
       "      <td>sd1</td>\n",
       "      <td>True</td>\n",
       "      <td>416455.937067</td>\n",
       "    </tr>\n",
       "    <tr>\n",
       "      <th>4</th>\n",
       "      <td>4.5824</td>\n",
       "      <td>20170525</td>\n",
       "      <td>25</td>\n",
       "      <td>0.01</td>\n",
       "      <td>168015.510516</td>\n",
       "      <td>103629.096813</td>\n",
       "      <td>sd1</td>\n",
       "      <td>True</td>\n",
       "      <td>257545.654810</td>\n",
       "    </tr>\n",
       "  </tbody>\n",
       "</table>\n",
       "</div>"
      ],
      "text/plain": [
       "     area      date  exposure_ms  flow_rate      intensity        mean_bg  \\\n",
       "0  5.6576  20170525           25       0.01  217327.199203  103629.096813   \n",
       "1  5.7344  20170525           25       0.01  207743.081080  103629.096813   \n",
       "2  5.7344  20170525           25       0.01  207743.081080  103629.096813   \n",
       "3  5.7344  20170525           25       0.01  207743.081080  103629.096813   \n",
       "4  4.5824  20170525           25       0.01  168015.510516  103629.096813   \n",
       "\n",
       "   rbs survival  rescaled_intensity  \n",
       "0  sd1     True       454792.409561  \n",
       "1  sd1     True       416455.937067  \n",
       "2  sd1     True       416455.937067  \n",
       "3  sd1     True       416455.937067  \n",
       "4  sd1     True       257545.654810  "
      ]
     },
     "execution_count": 11,
     "metadata": {},
     "output_type": "execute_result"
    }
   ],
   "source": [
    "shock_data = shock_data[shock_data]"
   ]
  },
  {
   "cell_type": "code",
   "execution_count": null,
   "metadata": {
    "collapsed": true
   },
   "outputs": [],
   "source": []
  }
 ],
 "metadata": {
  "kernelspec": {
   "display_name": "Python [default]",
   "language": "python",
   "name": "python3"
  },
  "language_info": {
   "codemirror_mode": {
    "name": "ipython",
    "version": 3
   },
   "file_extension": ".py",
   "mimetype": "text/x-python",
   "name": "python",
   "nbconvert_exporter": "python",
   "pygments_lexer": "ipython3",
   "version": "3.6.4"
  }
 },
 "nbformat": 4,
 "nbformat_minor": 2
}
